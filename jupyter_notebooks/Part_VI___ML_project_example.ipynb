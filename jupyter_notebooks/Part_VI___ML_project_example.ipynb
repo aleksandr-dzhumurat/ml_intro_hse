{
  "nbformat": 4,
  "nbformat_minor": 0,
  "metadata": {
    "colab": {
      "name": "Part_VI_:_ML_project_example.ipynb",
      "provenance": [],
      "collapsed_sections": []
    },
    "kernelspec": {
      "name": "python3",
      "display_name": "Python 3"
    },
    "language_info": {
      "name": "python"
    }
  },
  "cells": [
    {
      "cell_type": "markdown",
      "source": [
        "# Пример ML проекта\n",
        "\n",
        "## Подключаемся к Google Drive\n",
        "\n",
        "В реальном мире данные нужно брать из баз данных, но для учебных целей загрузим csv файл"
      ],
      "metadata": {
        "id": "-HJTv3Dcn8ma"
      }
    },
    {
      "cell_type": "code",
      "source": [
        "import logging\n",
        "import os\n",
        "import shutil \n",
        "\n",
        "import numpy as np\n",
        "from google.colab import drive\n",
        "\n",
        "RANDOM_SEED = 42\n",
        "np.random.seed(RANDOM_SEED)  # гарантируем воспроизводимость\n",
        "\n",
        "logging.basicConfig(format='%(asctime)s : %(levelname)s : %(message)s', level=logging.INFO)\n",
        "logger = logging.getLogger(__name__)\n",
        "logger.info('Инициализировали логгер')\n",
        "\n",
        "ROOT_DIR = '/content/drive' \n",
        "drive.mount(ROOT_DIR)\n",
        "logger.info('Подключили диск')\n",
        "\n",
        "root_data_dir = os.path.join(ROOT_DIR, 'MyDrive', 'hse_nlp_2021')\n",
        "if not os.path.exists(root_data_dir):\n",
        "  raise RuntimeError('Отсутствует директория с данными')\n",
        "else:\n",
        "  logger.info('Содержимое директории %s: %s', root_data_dir, os.listdir(root_data_dir))"
      ],
      "metadata": {
        "colab": {
          "base_uri": "https://localhost:8080/"
        },
        "id": "icrNaC1Rn_ZO",
        "outputId": "cff13414-a980-41e9-e89d-75cbb9756870"
      },
      "execution_count": 2,
      "outputs": [
        {
          "output_type": "stream",
          "name": "stderr",
          "text": [
            "2022-04-04 04:59:09,640 : INFO : Инициализировали логгер\n",
            "2022-04-04 04:59:32,494 : INFO : Подключили диск\n",
            "2022-04-04 04:59:32,541 : INFO : Содержимое директории /content/drive/MyDrive/hse_nlp_2021: ['events.csv', 'corpora', 'nltk_data_old', 'nltk_data', '1000k_memes_ocr.tar.gz', 'logs', 'sklearn_data', 'nyt-ingredients-snapshot-2015.csv', 'insurance.csv', 'non_linear.csv', 'clustering.pkl', 'client_segmentation.csv', 'my_little_recsys', 'optimal_push_time', 'boosting_toy_dataset.csv', 'memes', 'torch_models', 'ocr_dataset.zip', 'final_dataset.zip', 'politic_meme.jpg']\n"
          ]
        },
        {
          "output_type": "stream",
          "name": "stdout",
          "text": [
            "Mounted at /content/drive\n"
          ]
        }
      ]
    },
    {
      "cell_type": "markdown",
      "source": [
        "Каждая задача решается в несколько шагов\n",
        "* Business Understanding\n",
        "* Data understanding\n",
        "* Baseline\n",
        "* Modeling\n",
        "* Production (релиз сервиса, в этом курсе этап с релизом не рассматриваем)\n",
        "\n",
        "### Business Understanding\n",
        "\n",
        "Сначала нужно пообщаться с бизнес-аналитиком, который расскажет про особенностями датасета:\n",
        "\n",
        "Мы имеем дело с выгрузкой из системы модерации. Задача, которую мы решаем - предсказание того, будет ли контент \"забанен\". Бан контент может получить по разным причинам:\n",
        "\n",
        "* расизм\n",
        "* политика \n",
        "* кликбейт и т.д.\n",
        "\n",
        "Пример контента, который получил бан по политическим причинам\n",
        "\n",
        "![political](./img/politic_meme.jpg)"
      ],
      "metadata": {
        "id": "0_skD8u3zkM3"
      }
    },
    {
      "cell_type": "markdown",
      "source": [
        "В датасете \n",
        "* `content_id` - идентификатор контента, служебное поле\n",
        "* `featured_approval_content_declined` - таргет, который мы предсказываем (`1` если контент был забанен и `0` в ином случае)\n",
        "* `declined_reason` - причина бана (заполнено только для `content_declined==1`)\n",
        "\n",
        "Остальные поля - фичи из различных источников\n",
        "* статистические фичи\n",
        "  * num_smiles\n",
        "  * num_saves\n",
        "  * num_shares\n",
        "  * num_repubs\n",
        "  * num_comments\n",
        "  * num_days_on_service\n",
        "* численные фичи\n",
        "  * approved\n",
        "  * soft_shotted\n",
        "  * hard_shotted"
      ],
      "metadata": {
        "id": "oaAHk2y106VE"
      }
    },
    {
      "cell_type": "code",
      "source": [
        "import pandas as pd\n",
        "\n",
        "input_dataset_df = pd.read_csv(os.path.join(root_data_dir, 'final_dataset.zip'), compression='zip')\n",
        "\n",
        "input_dataset_df.head()"
      ],
      "metadata": {
        "colab": {
          "base_uri": "https://localhost:8080/",
          "height": 288
        },
        "id": "_6bIn5DLoKat",
        "outputId": "bdeff7e8-dd29-40f3-f55b-cced05265404"
      },
      "execution_count": 3,
      "outputs": [
        {
          "output_type": "stream",
          "name": "stderr",
          "text": [
            "2022-04-04 04:59:32,662 : INFO : NumExpr defaulting to 2 threads.\n"
          ]
        },
        {
          "output_type": "execute_result",
          "data": {
            "text/plain": [
              "  content_id  num_views  num_positve_actions  num_smiles  num_saves  \\\n",
              "0    IzpfrtD     127770                12725       12455        168   \n",
              "1    FibDyiC      86090                 6180        5704        173   \n",
              "2    LUkUBEm      78286                 5228        4944        376   \n",
              "3    zPrfyiz      76931                 5664        5506        231   \n",
              "4    eNAyJnh      72021                 6148        5844        453   \n",
              "\n",
              "   num_shares  num_repubs  num_comments  num_days_on_service  \\\n",
              "0         141         556          1784                   25   \n",
              "1         383         289          6016                    5   \n",
              "2          29         162           165                    6   \n",
              "3           8         151           395                    5   \n",
              "4          16         261           113                    5   \n",
              "\n",
              "   featured_approval_content_declined    declined_reason best_class  approved  \\\n",
              "0                                 0.0                NaN        NaN       NaN   \n",
              "1                                 1.0             racism   approved  0.908444   \n",
              "2                                 0.0                NaN   approved  0.994736   \n",
              "3                                 1.0  politics_religion   approved  0.987415   \n",
              "4                                 1.0             racism   approved  0.989974   \n",
              "\n",
              "   hard_shotted  soft_shotted  \n",
              "0           NaN           NaN  \n",
              "1      0.033255      0.058302  \n",
              "2      0.002517      0.002748  \n",
              "3      0.008829      0.003755  \n",
              "4      0.005185      0.004841  "
            ],
            "text/html": [
              "\n",
              "  <div id=\"df-b58a84e9-eb5e-4df9-b311-f94cc75707ec\">\n",
              "    <div class=\"colab-df-container\">\n",
              "      <div>\n",
              "<style scoped>\n",
              "    .dataframe tbody tr th:only-of-type {\n",
              "        vertical-align: middle;\n",
              "    }\n",
              "\n",
              "    .dataframe tbody tr th {\n",
              "        vertical-align: top;\n",
              "    }\n",
              "\n",
              "    .dataframe thead th {\n",
              "        text-align: right;\n",
              "    }\n",
              "</style>\n",
              "<table border=\"1\" class=\"dataframe\">\n",
              "  <thead>\n",
              "    <tr style=\"text-align: right;\">\n",
              "      <th></th>\n",
              "      <th>content_id</th>\n",
              "      <th>num_views</th>\n",
              "      <th>num_positve_actions</th>\n",
              "      <th>num_smiles</th>\n",
              "      <th>num_saves</th>\n",
              "      <th>num_shares</th>\n",
              "      <th>num_repubs</th>\n",
              "      <th>num_comments</th>\n",
              "      <th>num_days_on_service</th>\n",
              "      <th>featured_approval_content_declined</th>\n",
              "      <th>declined_reason</th>\n",
              "      <th>best_class</th>\n",
              "      <th>approved</th>\n",
              "      <th>hard_shotted</th>\n",
              "      <th>soft_shotted</th>\n",
              "    </tr>\n",
              "  </thead>\n",
              "  <tbody>\n",
              "    <tr>\n",
              "      <th>0</th>\n",
              "      <td>IzpfrtD</td>\n",
              "      <td>127770</td>\n",
              "      <td>12725</td>\n",
              "      <td>12455</td>\n",
              "      <td>168</td>\n",
              "      <td>141</td>\n",
              "      <td>556</td>\n",
              "      <td>1784</td>\n",
              "      <td>25</td>\n",
              "      <td>0.0</td>\n",
              "      <td>NaN</td>\n",
              "      <td>NaN</td>\n",
              "      <td>NaN</td>\n",
              "      <td>NaN</td>\n",
              "      <td>NaN</td>\n",
              "    </tr>\n",
              "    <tr>\n",
              "      <th>1</th>\n",
              "      <td>FibDyiC</td>\n",
              "      <td>86090</td>\n",
              "      <td>6180</td>\n",
              "      <td>5704</td>\n",
              "      <td>173</td>\n",
              "      <td>383</td>\n",
              "      <td>289</td>\n",
              "      <td>6016</td>\n",
              "      <td>5</td>\n",
              "      <td>1.0</td>\n",
              "      <td>racism</td>\n",
              "      <td>approved</td>\n",
              "      <td>0.908444</td>\n",
              "      <td>0.033255</td>\n",
              "      <td>0.058302</td>\n",
              "    </tr>\n",
              "    <tr>\n",
              "      <th>2</th>\n",
              "      <td>LUkUBEm</td>\n",
              "      <td>78286</td>\n",
              "      <td>5228</td>\n",
              "      <td>4944</td>\n",
              "      <td>376</td>\n",
              "      <td>29</td>\n",
              "      <td>162</td>\n",
              "      <td>165</td>\n",
              "      <td>6</td>\n",
              "      <td>0.0</td>\n",
              "      <td>NaN</td>\n",
              "      <td>approved</td>\n",
              "      <td>0.994736</td>\n",
              "      <td>0.002517</td>\n",
              "      <td>0.002748</td>\n",
              "    </tr>\n",
              "    <tr>\n",
              "      <th>3</th>\n",
              "      <td>zPrfyiz</td>\n",
              "      <td>76931</td>\n",
              "      <td>5664</td>\n",
              "      <td>5506</td>\n",
              "      <td>231</td>\n",
              "      <td>8</td>\n",
              "      <td>151</td>\n",
              "      <td>395</td>\n",
              "      <td>5</td>\n",
              "      <td>1.0</td>\n",
              "      <td>politics_religion</td>\n",
              "      <td>approved</td>\n",
              "      <td>0.987415</td>\n",
              "      <td>0.008829</td>\n",
              "      <td>0.003755</td>\n",
              "    </tr>\n",
              "    <tr>\n",
              "      <th>4</th>\n",
              "      <td>eNAyJnh</td>\n",
              "      <td>72021</td>\n",
              "      <td>6148</td>\n",
              "      <td>5844</td>\n",
              "      <td>453</td>\n",
              "      <td>16</td>\n",
              "      <td>261</td>\n",
              "      <td>113</td>\n",
              "      <td>5</td>\n",
              "      <td>1.0</td>\n",
              "      <td>racism</td>\n",
              "      <td>approved</td>\n",
              "      <td>0.989974</td>\n",
              "      <td>0.005185</td>\n",
              "      <td>0.004841</td>\n",
              "    </tr>\n",
              "  </tbody>\n",
              "</table>\n",
              "</div>\n",
              "      <button class=\"colab-df-convert\" onclick=\"convertToInteractive('df-b58a84e9-eb5e-4df9-b311-f94cc75707ec')\"\n",
              "              title=\"Convert this dataframe to an interactive table.\"\n",
              "              style=\"display:none;\">\n",
              "        \n",
              "  <svg xmlns=\"http://www.w3.org/2000/svg\" height=\"24px\"viewBox=\"0 0 24 24\"\n",
              "       width=\"24px\">\n",
              "    <path d=\"M0 0h24v24H0V0z\" fill=\"none\"/>\n",
              "    <path d=\"M18.56 5.44l.94 2.06.94-2.06 2.06-.94-2.06-.94-.94-2.06-.94 2.06-2.06.94zm-11 1L8.5 8.5l.94-2.06 2.06-.94-2.06-.94L8.5 2.5l-.94 2.06-2.06.94zm10 10l.94 2.06.94-2.06 2.06-.94-2.06-.94-.94-2.06-.94 2.06-2.06.94z\"/><path d=\"M17.41 7.96l-1.37-1.37c-.4-.4-.92-.59-1.43-.59-.52 0-1.04.2-1.43.59L10.3 9.45l-7.72 7.72c-.78.78-.78 2.05 0 2.83L4 21.41c.39.39.9.59 1.41.59.51 0 1.02-.2 1.41-.59l7.78-7.78 2.81-2.81c.8-.78.8-2.07 0-2.86zM5.41 20L4 18.59l7.72-7.72 1.47 1.35L5.41 20z\"/>\n",
              "  </svg>\n",
              "      </button>\n",
              "      \n",
              "  <style>\n",
              "    .colab-df-container {\n",
              "      display:flex;\n",
              "      flex-wrap:wrap;\n",
              "      gap: 12px;\n",
              "    }\n",
              "\n",
              "    .colab-df-convert {\n",
              "      background-color: #E8F0FE;\n",
              "      border: none;\n",
              "      border-radius: 50%;\n",
              "      cursor: pointer;\n",
              "      display: none;\n",
              "      fill: #1967D2;\n",
              "      height: 32px;\n",
              "      padding: 0 0 0 0;\n",
              "      width: 32px;\n",
              "    }\n",
              "\n",
              "    .colab-df-convert:hover {\n",
              "      background-color: #E2EBFA;\n",
              "      box-shadow: 0px 1px 2px rgba(60, 64, 67, 0.3), 0px 1px 3px 1px rgba(60, 64, 67, 0.15);\n",
              "      fill: #174EA6;\n",
              "    }\n",
              "\n",
              "    [theme=dark] .colab-df-convert {\n",
              "      background-color: #3B4455;\n",
              "      fill: #D2E3FC;\n",
              "    }\n",
              "\n",
              "    [theme=dark] .colab-df-convert:hover {\n",
              "      background-color: #434B5C;\n",
              "      box-shadow: 0px 1px 3px 1px rgba(0, 0, 0, 0.15);\n",
              "      filter: drop-shadow(0px 1px 2px rgba(0, 0, 0, 0.3));\n",
              "      fill: #FFFFFF;\n",
              "    }\n",
              "  </style>\n",
              "\n",
              "      <script>\n",
              "        const buttonEl =\n",
              "          document.querySelector('#df-b58a84e9-eb5e-4df9-b311-f94cc75707ec button.colab-df-convert');\n",
              "        buttonEl.style.display =\n",
              "          google.colab.kernel.accessAllowed ? 'block' : 'none';\n",
              "\n",
              "        async function convertToInteractive(key) {\n",
              "          const element = document.querySelector('#df-b58a84e9-eb5e-4df9-b311-f94cc75707ec');\n",
              "          const dataTable =\n",
              "            await google.colab.kernel.invokeFunction('convertToInteractive',\n",
              "                                                     [key], {});\n",
              "          if (!dataTable) return;\n",
              "\n",
              "          const docLinkHtml = 'Like what you see? Visit the ' +\n",
              "            '<a target=\"_blank\" href=https://colab.research.google.com/notebooks/data_table.ipynb>data table notebook</a>'\n",
              "            + ' to learn more about interactive tables.';\n",
              "          element.innerHTML = '';\n",
              "          dataTable['output_type'] = 'display_data';\n",
              "          await google.colab.output.renderOutput(dataTable, element);\n",
              "          const docLink = document.createElement('div');\n",
              "          docLink.innerHTML = docLinkHtml;\n",
              "          element.appendChild(docLink);\n",
              "        }\n",
              "      </script>\n",
              "    </div>\n",
              "  </div>\n",
              "  "
            ]
          },
          "metadata": {},
          "execution_count": 3
        }
      ]
    },
    {
      "cell_type": "markdown",
      "source": [
        "Существующие фичи будут сильно расширены и дополнены в процессе фича-инжениринга"
      ],
      "metadata": {
        "id": "9UafrbReQVpd"
      }
    },
    {
      "cell_type": "markdown",
      "source": [
        "По примеру видно, что мощные фичи можно извлечь из текста (даже некоторые ключевые слова будут полезны как \"фича\" при детекции политических мемов)\n",
        "\n",
        "Нам досутпна выгрузка из системы OCR (optical character recognition, оптическое распознавание символов), которая распознаёт текст на изображениях."
      ],
      "metadata": {
        "id": "zCXmSfw29lIP"
      }
    },
    {
      "cell_type": "code",
      "source": [
        "ocr_dataset_df = pd.read_csv(os.path.join(root_data_dir, 'ocr_dataset.zip'), compression='zip')\n",
        "\n",
        "ocr_dataset_df.head()"
      ],
      "metadata": {
        "colab": {
          "base_uri": "https://localhost:8080/",
          "height": 206
        },
        "id": "a_MP14ucqPmc",
        "outputId": "59379d5f-d6ff-4a73-a753-2e349b363fc7"
      },
      "execution_count": 4,
      "outputs": [
        {
          "output_type": "execute_result",
          "data": {
            "text/plain": [
              "  content_id                                               text\n",
              "0    muTKNpX  Like this if you think Joe Biden\\nshould to go...\n",
              "1    oCsKxRF       This series is garbage.\\nIt's so unrealistic\n",
              "2    hEZuhDH  Phone in one hand, your mum in the other\\nidie...\n",
              "3    KuUnefc  vsauce.\\nmichael here.\\nyou cant contain me fo...\n",
              "4    ykIaYzU  Fatphobia\\nFatphobia is a phobia in which over..."
            ],
            "text/html": [
              "\n",
              "  <div id=\"df-cb510465-313c-4ea5-8398-9c876e2bf505\">\n",
              "    <div class=\"colab-df-container\">\n",
              "      <div>\n",
              "<style scoped>\n",
              "    .dataframe tbody tr th:only-of-type {\n",
              "        vertical-align: middle;\n",
              "    }\n",
              "\n",
              "    .dataframe tbody tr th {\n",
              "        vertical-align: top;\n",
              "    }\n",
              "\n",
              "    .dataframe thead th {\n",
              "        text-align: right;\n",
              "    }\n",
              "</style>\n",
              "<table border=\"1\" class=\"dataframe\">\n",
              "  <thead>\n",
              "    <tr style=\"text-align: right;\">\n",
              "      <th></th>\n",
              "      <th>content_id</th>\n",
              "      <th>text</th>\n",
              "    </tr>\n",
              "  </thead>\n",
              "  <tbody>\n",
              "    <tr>\n",
              "      <th>0</th>\n",
              "      <td>muTKNpX</td>\n",
              "      <td>Like this if you think Joe Biden\\nshould to go...</td>\n",
              "    </tr>\n",
              "    <tr>\n",
              "      <th>1</th>\n",
              "      <td>oCsKxRF</td>\n",
              "      <td>This series is garbage.\\nIt's so unrealistic</td>\n",
              "    </tr>\n",
              "    <tr>\n",
              "      <th>2</th>\n",
              "      <td>hEZuhDH</td>\n",
              "      <td>Phone in one hand, your mum in the other\\nidie...</td>\n",
              "    </tr>\n",
              "    <tr>\n",
              "      <th>3</th>\n",
              "      <td>KuUnefc</td>\n",
              "      <td>vsauce.\\nmichael here.\\nyou cant contain me fo...</td>\n",
              "    </tr>\n",
              "    <tr>\n",
              "      <th>4</th>\n",
              "      <td>ykIaYzU</td>\n",
              "      <td>Fatphobia\\nFatphobia is a phobia in which over...</td>\n",
              "    </tr>\n",
              "  </tbody>\n",
              "</table>\n",
              "</div>\n",
              "      <button class=\"colab-df-convert\" onclick=\"convertToInteractive('df-cb510465-313c-4ea5-8398-9c876e2bf505')\"\n",
              "              title=\"Convert this dataframe to an interactive table.\"\n",
              "              style=\"display:none;\">\n",
              "        \n",
              "  <svg xmlns=\"http://www.w3.org/2000/svg\" height=\"24px\"viewBox=\"0 0 24 24\"\n",
              "       width=\"24px\">\n",
              "    <path d=\"M0 0h24v24H0V0z\" fill=\"none\"/>\n",
              "    <path d=\"M18.56 5.44l.94 2.06.94-2.06 2.06-.94-2.06-.94-.94-2.06-.94 2.06-2.06.94zm-11 1L8.5 8.5l.94-2.06 2.06-.94-2.06-.94L8.5 2.5l-.94 2.06-2.06.94zm10 10l.94 2.06.94-2.06 2.06-.94-2.06-.94-.94-2.06-.94 2.06-2.06.94z\"/><path d=\"M17.41 7.96l-1.37-1.37c-.4-.4-.92-.59-1.43-.59-.52 0-1.04.2-1.43.59L10.3 9.45l-7.72 7.72c-.78.78-.78 2.05 0 2.83L4 21.41c.39.39.9.59 1.41.59.51 0 1.02-.2 1.41-.59l7.78-7.78 2.81-2.81c.8-.78.8-2.07 0-2.86zM5.41 20L4 18.59l7.72-7.72 1.47 1.35L5.41 20z\"/>\n",
              "  </svg>\n",
              "      </button>\n",
              "      \n",
              "  <style>\n",
              "    .colab-df-container {\n",
              "      display:flex;\n",
              "      flex-wrap:wrap;\n",
              "      gap: 12px;\n",
              "    }\n",
              "\n",
              "    .colab-df-convert {\n",
              "      background-color: #E8F0FE;\n",
              "      border: none;\n",
              "      border-radius: 50%;\n",
              "      cursor: pointer;\n",
              "      display: none;\n",
              "      fill: #1967D2;\n",
              "      height: 32px;\n",
              "      padding: 0 0 0 0;\n",
              "      width: 32px;\n",
              "    }\n",
              "\n",
              "    .colab-df-convert:hover {\n",
              "      background-color: #E2EBFA;\n",
              "      box-shadow: 0px 1px 2px rgba(60, 64, 67, 0.3), 0px 1px 3px 1px rgba(60, 64, 67, 0.15);\n",
              "      fill: #174EA6;\n",
              "    }\n",
              "\n",
              "    [theme=dark] .colab-df-convert {\n",
              "      background-color: #3B4455;\n",
              "      fill: #D2E3FC;\n",
              "    }\n",
              "\n",
              "    [theme=dark] .colab-df-convert:hover {\n",
              "      background-color: #434B5C;\n",
              "      box-shadow: 0px 1px 3px 1px rgba(0, 0, 0, 0.15);\n",
              "      filter: drop-shadow(0px 1px 2px rgba(0, 0, 0, 0.3));\n",
              "      fill: #FFFFFF;\n",
              "    }\n",
              "  </style>\n",
              "\n",
              "      <script>\n",
              "        const buttonEl =\n",
              "          document.querySelector('#df-cb510465-313c-4ea5-8398-9c876e2bf505 button.colab-df-convert');\n",
              "        buttonEl.style.display =\n",
              "          google.colab.kernel.accessAllowed ? 'block' : 'none';\n",
              "\n",
              "        async function convertToInteractive(key) {\n",
              "          const element = document.querySelector('#df-cb510465-313c-4ea5-8398-9c876e2bf505');\n",
              "          const dataTable =\n",
              "            await google.colab.kernel.invokeFunction('convertToInteractive',\n",
              "                                                     [key], {});\n",
              "          if (!dataTable) return;\n",
              "\n",
              "          const docLinkHtml = 'Like what you see? Visit the ' +\n",
              "            '<a target=\"_blank\" href=https://colab.research.google.com/notebooks/data_table.ipynb>data table notebook</a>'\n",
              "            + ' to learn more about interactive tables.';\n",
              "          element.innerHTML = '';\n",
              "          dataTable['output_type'] = 'display_data';\n",
              "          await google.colab.output.renderOutput(dataTable, element);\n",
              "          const docLink = document.createElement('div');\n",
              "          docLink.innerHTML = docLinkHtml;\n",
              "          element.appendChild(docLink);\n",
              "        }\n",
              "      </script>\n",
              "    </div>\n",
              "  </div>\n",
              "  "
            ]
          },
          "metadata": {},
          "execution_count": 4
        }
      ]
    },
    {
      "cell_type": "markdown",
      "source": [
        "Итого у нас два источника данных - посмотрим, что можно сделать с ними"
      ],
      "metadata": {
        "id": "d7wN_i-dQ_QP"
      }
    },
    {
      "cell_type": "markdown",
      "source": [
        "## Data Understandig\n",
        "\n",
        "Этот этап в анализе данные принято называть Exploratory Data Analysis (EDA)\n",
        "\n",
        "На этом этапе нужно хорошо \"закопаться\" в данные  чтобы лучше понять их природу\n",
        "\n",
        "Какие инструменты помогут\n",
        "\n",
        "* **pandas** для работы с табличными данными\n",
        "  * метод `.describe()` у датафрейма\n",
        "  * `.merge()` для объединения различных источников данных\n",
        "  * `.value_counts()` для быстрого выполнения операции `group by` + `count`\n",
        "* визуализации с помощью методов `.plot()` и `.hist()` а также библиотеки matplotlib"
      ],
      "metadata": {
        "id": "hECSqCqY-4vP"
      }
    },
    {
      "cell_type": "code",
      "source": [
        "input_dataset_df['num_positve_actions'].describe()"
      ],
      "metadata": {
        "colab": {
          "base_uri": "https://localhost:8080/"
        },
        "id": "PXvsfQh7rFWR",
        "outputId": "5ccff716-4677-4eb2-e458-a56d7163bfc0"
      },
      "execution_count": 5,
      "outputs": [
        {
          "output_type": "execute_result",
          "data": {
            "text/plain": [
              "count    100000.000000\n",
              "mean         52.511750\n",
              "std         196.677364\n",
              "min           4.000000\n",
              "25%          17.000000\n",
              "50%          22.000000\n",
              "75%          35.000000\n",
              "max       12725.000000\n",
              "Name: num_positve_actions, dtype: float64"
            ]
          },
          "metadata": {},
          "execution_count": 5
        }
      ]
    },
    {
      "cell_type": "code",
      "source": [
        "input_dataset_df.shape[0]"
      ],
      "metadata": {
        "colab": {
          "base_uri": "https://localhost:8080/"
        },
        "id": "EKwQ7soGrNy7",
        "outputId": "dcd355f4-6743-4ebb-f22f-310ac05fe300"
      },
      "execution_count": 6,
      "outputs": [
        {
          "output_type": "execute_result",
          "data": {
            "text/plain": [
              "100000"
            ]
          },
          "metadata": {},
          "execution_count": 6
        }
      ]
    },
    {
      "cell_type": "code",
      "source": [
        "input_dataset_df['featured_approval_content_declined'].value_counts()"
      ],
      "metadata": {
        "colab": {
          "base_uri": "https://localhost:8080/"
        },
        "id": "JG9dECjXTbaY",
        "outputId": "3f6ef2fb-309c-4c2e-b64b-55036b951d40"
      },
      "execution_count": 36,
      "outputs": [
        {
          "output_type": "execute_result",
          "data": {
            "text/plain": [
              "0.0    71113\n",
              "1.0    28887\n",
              "Name: featured_approval_content_declined, dtype: int64"
            ]
          },
          "metadata": {},
          "execution_count": 36
        }
      ]
    },
    {
      "cell_type": "markdown",
      "source": [
        "Начинаем генерить первые фичи"
      ],
      "metadata": {
        "id": "c0eoQuxAAk3K"
      }
    },
    {
      "cell_type": "code",
      "source": [
        "input_dataset_df['action_rate'] = (\n",
        "  input_dataset_df['num_positve_actions'] / input_dataset_df['num_views']\n",
        ")\n",
        "\n",
        "input_dataset_df['action_rate'].describe()"
      ],
      "metadata": {
        "colab": {
          "base_uri": "https://localhost:8080/"
        },
        "id": "8xQbfWZprTZW",
        "outputId": "25908a9e-2dcf-4903-af1b-c3d2f0d97470"
      },
      "execution_count": 7,
      "outputs": [
        {
          "output_type": "execute_result",
          "data": {
            "text/plain": [
              "count    100000.000000\n",
              "mean          0.035188\n",
              "std           0.010258\n",
              "min           0.003347\n",
              "25%           0.029167\n",
              "50%           0.034296\n",
              "75%           0.039693\n",
              "max           0.209123\n",
              "Name: action_rate, dtype: float64"
            ]
          },
          "metadata": {},
          "execution_count": 7
        }
      ]
    },
    {
      "cell_type": "markdown",
      "source": [
        "Нормированные фичи всегда лучше чем ненормированные (но их лучше сглаживать)\n",
        "\n",
        "Полезно проверить, есть ли разница в распределении фичей по таргету"
      ],
      "metadata": {
        "id": "k4VUEQ56AsoI"
      }
    },
    {
      "cell_type": "code",
      "source": [
        "ax = input_dataset_df[\n",
        "    input_dataset_df['featured_approval_content_declined']==1.0\n",
        "]['action_rate'].plot(kind='hist', alpha=0.5, bins=20, label='declined', legend=True, density=True)\n",
        "\n",
        "# xboxOne\n",
        "input_dataset_df[\n",
        "    input_dataset_df['featured_approval_content_declined']==0.0\n",
        "]['action_rate'].plot(kind='hist', alpha=0.5, bins=20, label='approved', legend=True, density=True)"
      ],
      "metadata": {
        "colab": {
          "base_uri": "https://localhost:8080/",
          "height": 283
        },
        "id": "NBeswfKIArzx",
        "outputId": "37a61d52-1866-4be8-b52a-24fd9e463af2"
      },
      "execution_count": 8,
      "outputs": [
        {
          "output_type": "execute_result",
          "data": {
            "text/plain": [
              "<matplotlib.axes._subplots.AxesSubplot at 0x7fd9d3258690>"
            ]
          },
          "metadata": {},
          "execution_count": 8
        },
        {
          "output_type": "display_data",
          "data": {
            "text/plain": [
              "<Figure size 432x288 with 1 Axes>"
            ],
            "image/png": "[encoded data removed]"
          },
          "metadata": {
            "needs_background": "light"
          }
        }
      ]
    },
    {
      "cell_type": "markdown",
      "source": [
        "# Baseline\n",
        "\n",
        "Когда данные достаточно поисследованы можно построить бейзлайн модель\n",
        "\n",
        "Попробуем построить логистическую регрессию на текстах и проверить качество модели\n",
        "\n",
        "Для начала трансформируем тексты в sparse матрицу"
      ],
      "metadata": {
        "id": "ceyrkLmKF7Es"
      }
    },
    {
      "cell_type": "code",
      "source": [
        "from sklearn.feature_extraction.text import TfidfVectorizer\n",
        "\n",
        "vectorizer = TfidfVectorizer(\n",
        "    analyzer='word',\n",
        "    lowercase=True,\n",
        "    token_pattern=r'\\b[\\w\\d]{3,}\\b'\n",
        ")\n",
        "\n",
        "vectorizer.fit(ocr_dataset_df.text.values)"
      ],
      "metadata": {
        "colab": {
          "base_uri": "https://localhost:8080/"
        },
        "id": "Izg2YeSyta0s",
        "outputId": "f52aaae1-1325-42f7-9900-98be4cf80e76"
      },
      "execution_count": 9,
      "outputs": [
        {
          "output_type": "execute_result",
          "data": {
            "text/plain": [
              "TfidfVectorizer(token_pattern='\\\\b[\\\\w\\\\d]{3,}\\\\b')"
            ]
          },
          "metadata": {},
          "execution_count": 9
        }
      ]
    },
    {
      "cell_type": "markdown",
      "source": [
        "Ок, научились извлекать фичи из текста (подробнее поговорим об этом на следующем семинаре)\n",
        "\n",
        "Разбиваем данные на тренировочный и тестовый сет.\n",
        "* 70 x 30\n",
        "* для обучения используем только текст"
      ],
      "metadata": {
        "id": "KlqzsDkEHhct"
      }
    },
    {
      "cell_type": "markdown",
      "source": [
        "Разделяем данные на тренировочный и валидационный сет"
      ],
      "metadata": {
        "id": "kloHI1kcJ3qV"
      }
    },
    {
      "cell_type": "code",
      "source": [
        "from sklearn.model_selection import train_test_split\n",
        "\n",
        "def split_dataset(source_df: pd.DataFrame, valid_train_set_size = 0.3):\n",
        "  y = source_df.featured_approval_content_declined\n",
        "\n",
        "  content_ids = source_df['content_id']\n",
        "\n",
        "  x_train, x_test_ids, y_train, y_test = (\n",
        "      train_test_split(\n",
        "          content_ids, y, test_size=valid_train_set_size, random_state=RANDOM_SEED, stratify=y\n",
        "      )\n",
        "  )\n",
        "\n",
        "  test_df = pd.DataFrame({'content_id': x_test_ids, 'y': y_test})\n",
        "  train_df = pd.DataFrame({'content_id': x_train, 'y': y_train})\n",
        "  logger.info('Positive target share %.4f', train_df['y'].value_counts(normalize=True)[1])\n",
        "\n",
        "  return train_df, test_df\n",
        "\n",
        "train_df, test_df = split_dataset(input_dataset_df)\n",
        "\n",
        "train_df.head()"
      ],
      "metadata": {
        "colab": {
          "base_uri": "https://localhost:8080/",
          "height": 224
        },
        "id": "PsXPS0VAVfXz",
        "outputId": "8cc5209e-bbf1-4cb9-ecf6-841c2c8e2efc"
      },
      "execution_count": 38,
      "outputs": [
        {
          "output_type": "stream",
          "name": "stderr",
          "text": [
            "2022-04-04 07:15:49,284 : INFO : Positive target share 0.2889\n"
          ]
        },
        {
          "output_type": "execute_result",
          "data": {
            "text/plain": [
              "      content_id    y\n",
              "47861    rfxzrqU  0.0\n",
              "24027    emQpiSp  0.0\n",
              "80659    EEaGjjw  1.0\n",
              "52290    EyNrMvA  1.0\n",
              "45198    SkMuDjI  0.0"
            ],
            "text/html": [
              "\n",
              "  <div id=\"df-750dd139-b728-495f-9b43-89004c538573\">\n",
              "    <div class=\"colab-df-container\">\n",
              "      <div>\n",
              "<style scoped>\n",
              "    .dataframe tbody tr th:only-of-type {\n",
              "        vertical-align: middle;\n",
              "    }\n",
              "\n",
              "    .dataframe tbody tr th {\n",
              "        vertical-align: top;\n",
              "    }\n",
              "\n",
              "    .dataframe thead th {\n",
              "        text-align: right;\n",
              "    }\n",
              "</style>\n",
              "<table border=\"1\" class=\"dataframe\">\n",
              "  <thead>\n",
              "    <tr style=\"text-align: right;\">\n",
              "      <th></th>\n",
              "      <th>content_id</th>\n",
              "      <th>y</th>\n",
              "    </tr>\n",
              "  </thead>\n",
              "  <tbody>\n",
              "    <tr>\n",
              "      <th>47861</th>\n",
              "      <td>rfxzrqU</td>\n",
              "      <td>0.0</td>\n",
              "    </tr>\n",
              "    <tr>\n",
              "      <th>24027</th>\n",
              "      <td>emQpiSp</td>\n",
              "      <td>0.0</td>\n",
              "    </tr>\n",
              "    <tr>\n",
              "      <th>80659</th>\n",
              "      <td>EEaGjjw</td>\n",
              "      <td>1.0</td>\n",
              "    </tr>\n",
              "    <tr>\n",
              "      <th>52290</th>\n",
              "      <td>EyNrMvA</td>\n",
              "      <td>1.0</td>\n",
              "    </tr>\n",
              "    <tr>\n",
              "      <th>45198</th>\n",
              "      <td>SkMuDjI</td>\n",
              "      <td>0.0</td>\n",
              "    </tr>\n",
              "  </tbody>\n",
              "</table>\n",
              "</div>\n",
              "      <button class=\"colab-df-convert\" onclick=\"convertToInteractive('df-750dd139-b728-495f-9b43-89004c538573')\"\n",
              "              title=\"Convert this dataframe to an interactive table.\"\n",
              "              style=\"display:none;\">\n",
              "        \n",
              "  <svg xmlns=\"http://www.w3.org/2000/svg\" height=\"24px\"viewBox=\"0 0 24 24\"\n",
              "       width=\"24px\">\n",
              "    <path d=\"M0 0h24v24H0V0z\" fill=\"none\"/>\n",
              "    <path d=\"M18.56 5.44l.94 2.06.94-2.06 2.06-.94-2.06-.94-.94-2.06-.94 2.06-2.06.94zm-11 1L8.5 8.5l.94-2.06 2.06-.94-2.06-.94L8.5 2.5l-.94 2.06-2.06.94zm10 10l.94 2.06.94-2.06 2.06-.94-2.06-.94-.94-2.06-.94 2.06-2.06.94z\"/><path d=\"M17.41 7.96l-1.37-1.37c-.4-.4-.92-.59-1.43-.59-.52 0-1.04.2-1.43.59L10.3 9.45l-7.72 7.72c-.78.78-.78 2.05 0 2.83L4 21.41c.39.39.9.59 1.41.59.51 0 1.02-.2 1.41-.59l7.78-7.78 2.81-2.81c.8-.78.8-2.07 0-2.86zM5.41 20L4 18.59l7.72-7.72 1.47 1.35L5.41 20z\"/>\n",
              "  </svg>\n",
              "      </button>\n",
              "      \n",
              "  <style>\n",
              "    .colab-df-container {\n",
              "      display:flex;\n",
              "      flex-wrap:wrap;\n",
              "      gap: 12px;\n",
              "    }\n",
              "\n",
              "    .colab-df-convert {\n",
              "      background-color: #E8F0FE;\n",
              "      border: none;\n",
              "      border-radius: 50%;\n",
              "      cursor: pointer;\n",
              "      display: none;\n",
              "      fill: #1967D2;\n",
              "      height: 32px;\n",
              "      padding: 0 0 0 0;\n",
              "      width: 32px;\n",
              "    }\n",
              "\n",
              "    .colab-df-convert:hover {\n",
              "      background-color: #E2EBFA;\n",
              "      box-shadow: 0px 1px 2px rgba(60, 64, 67, 0.3), 0px 1px 3px 1px rgba(60, 64, 67, 0.15);\n",
              "      fill: #174EA6;\n",
              "    }\n",
              "\n",
              "    [theme=dark] .colab-df-convert {\n",
              "      background-color: #3B4455;\n",
              "      fill: #D2E3FC;\n",
              "    }\n",
              "\n",
              "    [theme=dark] .colab-df-convert:hover {\n",
              "      background-color: #434B5C;\n",
              "      box-shadow: 0px 1px 3px 1px rgba(0, 0, 0, 0.15);\n",
              "      filter: drop-shadow(0px 1px 2px rgba(0, 0, 0, 0.3));\n",
              "      fill: #FFFFFF;\n",
              "    }\n",
              "  </style>\n",
              "\n",
              "      <script>\n",
              "        const buttonEl =\n",
              "          document.querySelector('#df-750dd139-b728-495f-9b43-89004c538573 button.colab-df-convert');\n",
              "        buttonEl.style.display =\n",
              "          google.colab.kernel.accessAllowed ? 'block' : 'none';\n",
              "\n",
              "        async function convertToInteractive(key) {\n",
              "          const element = document.querySelector('#df-750dd139-b728-495f-9b43-89004c538573');\n",
              "          const dataTable =\n",
              "            await google.colab.kernel.invokeFunction('convertToInteractive',\n",
              "                                                     [key], {});\n",
              "          if (!dataTable) return;\n",
              "\n",
              "          const docLinkHtml = 'Like what you see? Visit the ' +\n",
              "            '<a target=\"_blank\" href=https://colab.research.google.com/notebooks/data_table.ipynb>data table notebook</a>'\n",
              "            + ' to learn more about interactive tables.';\n",
              "          element.innerHTML = '';\n",
              "          dataTable['output_type'] = 'display_data';\n",
              "          await google.colab.output.renderOutput(dataTable, element);\n",
              "          const docLink = document.createElement('div');\n",
              "          docLink.innerHTML = docLinkHtml;\n",
              "          element.appendChild(docLink);\n",
              "        }\n",
              "      </script>\n",
              "    </div>\n",
              "  </div>\n",
              "  "
            ]
          },
          "metadata": {},
          "execution_count": 38
        }
      ]
    },
    {
      "cell_type": "markdown",
      "source": [
        "Проверяем, что сработала стратификация"
      ],
      "metadata": {
        "id": "gUXgVQ4QT_KT"
      }
    },
    {
      "cell_type": "code",
      "source": [
        "train_df['y'].value_counts(normalize=True)"
      ],
      "metadata": {
        "colab": {
          "base_uri": "https://localhost:8080/"
        },
        "id": "cSUDi0YxT_e7",
        "outputId": "66e6ebc2-5d81-44b0-adef-b019f0b6e9cd"
      },
      "execution_count": 37,
      "outputs": [
        {
          "output_type": "execute_result",
          "data": {
            "text/plain": [
              "0.0    0.711129\n",
              "1.0    0.288871\n",
              "Name: y, dtype: float64"
            ]
          },
          "metadata": {},
          "execution_count": 37
        }
      ]
    },
    {
      "cell_type": "markdown",
      "source": [
        "Трансформируем тренировочный датасет (для обучения) из текста в вектор"
      ],
      "metadata": {
        "id": "0kIxSd768qkr"
      }
    },
    {
      "cell_type": "code",
      "source": [
        "from scipy.sparse import csr_matrix\n",
        "\n",
        "def prepare_tfidf(content_df, text_df, tfidf_vectorizer) -> csr_matrix:\n",
        "  ocr_dataset_train = (\n",
        "      content_df[['content_id']]\n",
        "      .merge(text_df, how='left')\n",
        "  )\n",
        "  ocr_dataset_train.text.fillna('', inplace=True)\n",
        "  ocr_features = tfidf_vectorizer.transform(ocr_dataset_train.text.values)\n",
        "\n",
        "  return ocr_features\n",
        "\n",
        "train_ocr_dataset = prepare_tfidf(train_df, ocr_dataset_df, vectorizer)"
      ],
      "metadata": {
        "id": "-cdnJElt82xd"
      },
      "execution_count": 16,
      "outputs": []
    },
    {
      "cell_type": "markdown",
      "source": [
        "Обучаем модель"
      ],
      "metadata": {
        "id": "4-nvEM69-uA2"
      }
    },
    {
      "cell_type": "code",
      "source": [
        "from sklearn.linear_model import LogisticRegression\n",
        "\n",
        "\n",
        "log_reg = LogisticRegression(max_iter=500).fit(train_ocr_dataset, train_df['y'])\n",
        "logger.info('Модель обучена')"
      ],
      "metadata": {
        "colab": {
          "base_uri": "https://localhost:8080/"
        },
        "id": "sI8u5fNy-uRl",
        "outputId": "f14fe258-ec61-4278-c9e0-c49ac5bccc1f"
      },
      "execution_count": 19,
      "outputs": [
        {
          "output_type": "stream",
          "name": "stderr",
          "text": [
            "2022-04-04 06:03:54,128 : INFO : Модель обучена\n"
          ]
        }
      ]
    },
    {
      "cell_type": "markdown",
      "source": [
        "проверяем качество на тестовом датасете - считаем метрики"
      ],
      "metadata": {
        "id": "s4GfxNtvKAxW"
      }
    },
    {
      "cell_type": "code",
      "source": [
        "from sklearn.metrics import f1_score, accuracy_score, recall_score, accuracy_score\n",
        "\n",
        "test_ocr_dataset = prepare_tfidf(test_df, ocr_dataset_df, vectorizer)\n",
        "\n",
        "predicted_classes = log_reg.predict(test_ocr_dataset)\n",
        "logger.info(\n",
        "    'Предсказания построены, accuracy = %.2f, f1_score = %.2f, recall_score = %.2f',\n",
        "    accuracy_score(predicted_classes, test_df['y']),\n",
        "    f1_score(predicted_classes, test_df['y']),\n",
        "    recall_score(predicted_classes, test_df['y']),\n",
        ")"
      ],
      "metadata": {
        "colab": {
          "base_uri": "https://localhost:8080/"
        },
        "id": "TJrY_51UJNCy",
        "outputId": "5d6a660e-b6bc-4087-9e01-e597ea1f023e"
      },
      "execution_count": 18,
      "outputs": [
        {
          "output_type": "stream",
          "name": "stderr",
          "text": [
            "2022-04-04 05:50:54,710 : INFO : Предсказания построены, accuracy = 0.75, f1_score = 0.39, recall_score = 0.69\n"
          ]
        }
      ]
    },
    {
      "cell_type": "markdown",
      "source": [
        "получили очень низкое значение метрики, но т.к. бейзлайн то норм"
      ],
      "metadata": {
        "id": "p8UhBZQ-KOXm"
      }
    },
    {
      "cell_type": "markdown",
      "source": [
        "# Modeling\n",
        "\n",
        "На этом этапе мы будем генерировать фичи и проверят, как улучшается модель\n",
        "\n",
        "## Улучшаем бейзлайн\n",
        "\n",
        "### Определяем категории, где ошиблись сильнее всего\n",
        "\n",
        "Этот трюк позволяет понять, какиех именно фичей не хватает в модели\n",
        "\n",
        "Посмотрим на ошибку первого рода"
      ],
      "metadata": {
        "id": "aqmSBx1yKU3d"
      }
    },
    {
      "cell_type": "code",
      "source": [
        "false_negative_df = (\n",
        "    pd.DataFrame({'pred': predicted_classes, 'ground_truth': y_test})\n",
        "    .query(\"\"\"(pred==0) and (ground_truth==1)\"\"\")\n",
        ")\n",
        "\n",
        "false_negative_df.head(5)"
      ],
      "metadata": {
        "colab": {
          "base_uri": "https://localhost:8080/",
          "height": 206
        },
        "id": "7E8236fVKEak",
        "outputId": "603d4ea2-51d5-444d-91cf-9e6fa03a68ca"
      },
      "execution_count": 20,
      "outputs": [
        {
          "output_type": "execute_result",
          "data": {
            "text/plain": [
              "       pred  ground_truth\n",
              "56312   0.0           1.0\n",
              "68723   0.0           1.0\n",
              "15476   0.0           1.0\n",
              "10341   0.0           1.0\n",
              "77778   0.0           1.0"
            ],
            "text/html": [
              "\n",
              "  <div id=\"df-a8c9010b-18d4-476d-98a7-43d0ad734998\">\n",
              "    <div class=\"colab-df-container\">\n",
              "      <div>\n",
              "<style scoped>\n",
              "    .dataframe tbody tr th:only-of-type {\n",
              "        vertical-align: middle;\n",
              "    }\n",
              "\n",
              "    .dataframe tbody tr th {\n",
              "        vertical-align: top;\n",
              "    }\n",
              "\n",
              "    .dataframe thead th {\n",
              "        text-align: right;\n",
              "    }\n",
              "</style>\n",
              "<table border=\"1\" class=\"dataframe\">\n",
              "  <thead>\n",
              "    <tr style=\"text-align: right;\">\n",
              "      <th></th>\n",
              "      <th>pred</th>\n",
              "      <th>ground_truth</th>\n",
              "    </tr>\n",
              "  </thead>\n",
              "  <tbody>\n",
              "    <tr>\n",
              "      <th>56312</th>\n",
              "      <td>0.0</td>\n",
              "      <td>1.0</td>\n",
              "    </tr>\n",
              "    <tr>\n",
              "      <th>68723</th>\n",
              "      <td>0.0</td>\n",
              "      <td>1.0</td>\n",
              "    </tr>\n",
              "    <tr>\n",
              "      <th>15476</th>\n",
              "      <td>0.0</td>\n",
              "      <td>1.0</td>\n",
              "    </tr>\n",
              "    <tr>\n",
              "      <th>10341</th>\n",
              "      <td>0.0</td>\n",
              "      <td>1.0</td>\n",
              "    </tr>\n",
              "    <tr>\n",
              "      <th>77778</th>\n",
              "      <td>0.0</td>\n",
              "      <td>1.0</td>\n",
              "    </tr>\n",
              "  </tbody>\n",
              "</table>\n",
              "</div>\n",
              "      <button class=\"colab-df-convert\" onclick=\"convertToInteractive('df-a8c9010b-18d4-476d-98a7-43d0ad734998')\"\n",
              "              title=\"Convert this dataframe to an interactive table.\"\n",
              "              style=\"display:none;\">\n",
              "        \n",
              "  <svg xmlns=\"http://www.w3.org/2000/svg\" height=\"24px\"viewBox=\"0 0 24 24\"\n",
              "       width=\"24px\">\n",
              "    <path d=\"M0 0h24v24H0V0z\" fill=\"none\"/>\n",
              "    <path d=\"M18.56 5.44l.94 2.06.94-2.06 2.06-.94-2.06-.94-.94-2.06-.94 2.06-2.06.94zm-11 1L8.5 8.5l.94-2.06 2.06-.94-2.06-.94L8.5 2.5l-.94 2.06-2.06.94zm10 10l.94 2.06.94-2.06 2.06-.94-2.06-.94-.94-2.06-.94 2.06-2.06.94z\"/><path d=\"M17.41 7.96l-1.37-1.37c-.4-.4-.92-.59-1.43-.59-.52 0-1.04.2-1.43.59L10.3 9.45l-7.72 7.72c-.78.78-.78 2.05 0 2.83L4 21.41c.39.39.9.59 1.41.59.51 0 1.02-.2 1.41-.59l7.78-7.78 2.81-2.81c.8-.78.8-2.07 0-2.86zM5.41 20L4 18.59l7.72-7.72 1.47 1.35L5.41 20z\"/>\n",
              "  </svg>\n",
              "      </button>\n",
              "      \n",
              "  <style>\n",
              "    .colab-df-container {\n",
              "      display:flex;\n",
              "      flex-wrap:wrap;\n",
              "      gap: 12px;\n",
              "    }\n",
              "\n",
              "    .colab-df-convert {\n",
              "      background-color: #E8F0FE;\n",
              "      border: none;\n",
              "      border-radius: 50%;\n",
              "      cursor: pointer;\n",
              "      display: none;\n",
              "      fill: #1967D2;\n",
              "      height: 32px;\n",
              "      padding: 0 0 0 0;\n",
              "      width: 32px;\n",
              "    }\n",
              "\n",
              "    .colab-df-convert:hover {\n",
              "      background-color: #E2EBFA;\n",
              "      box-shadow: 0px 1px 2px rgba(60, 64, 67, 0.3), 0px 1px 3px 1px rgba(60, 64, 67, 0.15);\n",
              "      fill: #174EA6;\n",
              "    }\n",
              "\n",
              "    [theme=dark] .colab-df-convert {\n",
              "      background-color: #3B4455;\n",
              "      fill: #D2E3FC;\n",
              "    }\n",
              "\n",
              "    [theme=dark] .colab-df-convert:hover {\n",
              "      background-color: #434B5C;\n",
              "      box-shadow: 0px 1px 3px 1px rgba(0, 0, 0, 0.15);\n",
              "      filter: drop-shadow(0px 1px 2px rgba(0, 0, 0, 0.3));\n",
              "      fill: #FFFFFF;\n",
              "    }\n",
              "  </style>\n",
              "\n",
              "      <script>\n",
              "        const buttonEl =\n",
              "          document.querySelector('#df-a8c9010b-18d4-476d-98a7-43d0ad734998 button.colab-df-convert');\n",
              "        buttonEl.style.display =\n",
              "          google.colab.kernel.accessAllowed ? 'block' : 'none';\n",
              "\n",
              "        async function convertToInteractive(key) {\n",
              "          const element = document.querySelector('#df-a8c9010b-18d4-476d-98a7-43d0ad734998');\n",
              "          const dataTable =\n",
              "            await google.colab.kernel.invokeFunction('convertToInteractive',\n",
              "                                                     [key], {});\n",
              "          if (!dataTable) return;\n",
              "\n",
              "          const docLinkHtml = 'Like what you see? Visit the ' +\n",
              "            '<a target=\"_blank\" href=https://colab.research.google.com/notebooks/data_table.ipynb>data table notebook</a>'\n",
              "            + ' to learn more about interactive tables.';\n",
              "          element.innerHTML = '';\n",
              "          dataTable['output_type'] = 'display_data';\n",
              "          await google.colab.output.renderOutput(dataTable, element);\n",
              "          const docLink = document.createElement('div');\n",
              "          docLink.innerHTML = docLinkHtml;\n",
              "          element.appendChild(docLink);\n",
              "        }\n",
              "      </script>\n",
              "    </div>\n",
              "  </div>\n",
              "  "
            ]
          },
          "metadata": {},
          "execution_count": 20
        }
      ]
    },
    {
      "cell_type": "code",
      "source": [
        "prediction_df = (\n",
        "    test_df\n",
        "    .merge(input_dataset_df[['content_id', 'declined_reason']])\n",
        ")\n",
        "prediction_df['y_pred'] = predicted_classes\n",
        "\n",
        "prediction_df.head()"
      ],
      "metadata": {
        "colab": {
          "base_uri": "https://localhost:8080/",
          "height": 206
        },
        "id": "ER-H2YSOLfGk",
        "outputId": "2eb330f7-052b-4549-92c8-0d5436d3aeb8"
      },
      "execution_count": 24,
      "outputs": [
        {
          "output_type": "execute_result",
          "data": {
            "text/plain": [
              "  content_id    y              declined_reason  y_pred\n",
              "0    eVJrFpd  0.0                          NaN     0.0\n",
              "1    jBbWeAa  1.0     nudity_censored_genitals     0.0\n",
              "2    DAwoTDw  0.0                          NaN     0.0\n",
              "3    MGNTXRW  0.0                          NaN     0.0\n",
              "4    kkkswci  1.0  tragedy_death_gore_injuries     0.0"
            ],
            "text/html": [
              "\n",
              "  <div id=\"df-34c833bb-4a29-4007-bb84-f9ae57fae8cd\">\n",
              "    <div class=\"colab-df-container\">\n",
              "      <div>\n",
              "<style scoped>\n",
              "    .dataframe tbody tr th:only-of-type {\n",
              "        vertical-align: middle;\n",
              "    }\n",
              "\n",
              "    .dataframe tbody tr th {\n",
              "        vertical-align: top;\n",
              "    }\n",
              "\n",
              "    .dataframe thead th {\n",
              "        text-align: right;\n",
              "    }\n",
              "</style>\n",
              "<table border=\"1\" class=\"dataframe\">\n",
              "  <thead>\n",
              "    <tr style=\"text-align: right;\">\n",
              "      <th></th>\n",
              "      <th>content_id</th>\n",
              "      <th>y</th>\n",
              "      <th>declined_reason</th>\n",
              "      <th>y_pred</th>\n",
              "    </tr>\n",
              "  </thead>\n",
              "  <tbody>\n",
              "    <tr>\n",
              "      <th>0</th>\n",
              "      <td>eVJrFpd</td>\n",
              "      <td>0.0</td>\n",
              "      <td>NaN</td>\n",
              "      <td>0.0</td>\n",
              "    </tr>\n",
              "    <tr>\n",
              "      <th>1</th>\n",
              "      <td>jBbWeAa</td>\n",
              "      <td>1.0</td>\n",
              "      <td>nudity_censored_genitals</td>\n",
              "      <td>0.0</td>\n",
              "    </tr>\n",
              "    <tr>\n",
              "      <th>2</th>\n",
              "      <td>DAwoTDw</td>\n",
              "      <td>0.0</td>\n",
              "      <td>NaN</td>\n",
              "      <td>0.0</td>\n",
              "    </tr>\n",
              "    <tr>\n",
              "      <th>3</th>\n",
              "      <td>MGNTXRW</td>\n",
              "      <td>0.0</td>\n",
              "      <td>NaN</td>\n",
              "      <td>0.0</td>\n",
              "    </tr>\n",
              "    <tr>\n",
              "      <th>4</th>\n",
              "      <td>kkkswci</td>\n",
              "      <td>1.0</td>\n",
              "      <td>tragedy_death_gore_injuries</td>\n",
              "      <td>0.0</td>\n",
              "    </tr>\n",
              "  </tbody>\n",
              "</table>\n",
              "</div>\n",
              "      <button class=\"colab-df-convert\" onclick=\"convertToInteractive('df-34c833bb-4a29-4007-bb84-f9ae57fae8cd')\"\n",
              "              title=\"Convert this dataframe to an interactive table.\"\n",
              "              style=\"display:none;\">\n",
              "        \n",
              "  <svg xmlns=\"http://www.w3.org/2000/svg\" height=\"24px\"viewBox=\"0 0 24 24\"\n",
              "       width=\"24px\">\n",
              "    <path d=\"M0 0h24v24H0V0z\" fill=\"none\"/>\n",
              "    <path d=\"M18.56 5.44l.94 2.06.94-2.06 2.06-.94-2.06-.94-.94-2.06-.94 2.06-2.06.94zm-11 1L8.5 8.5l.94-2.06 2.06-.94-2.06-.94L8.5 2.5l-.94 2.06-2.06.94zm10 10l.94 2.06.94-2.06 2.06-.94-2.06-.94-.94-2.06-.94 2.06-2.06.94z\"/><path d=\"M17.41 7.96l-1.37-1.37c-.4-.4-.92-.59-1.43-.59-.52 0-1.04.2-1.43.59L10.3 9.45l-7.72 7.72c-.78.78-.78 2.05 0 2.83L4 21.41c.39.39.9.59 1.41.59.51 0 1.02-.2 1.41-.59l7.78-7.78 2.81-2.81c.8-.78.8-2.07 0-2.86zM5.41 20L4 18.59l7.72-7.72 1.47 1.35L5.41 20z\"/>\n",
              "  </svg>\n",
              "      </button>\n",
              "      \n",
              "  <style>\n",
              "    .colab-df-container {\n",
              "      display:flex;\n",
              "      flex-wrap:wrap;\n",
              "      gap: 12px;\n",
              "    }\n",
              "\n",
              "    .colab-df-convert {\n",
              "      background-color: #E8F0FE;\n",
              "      border: none;\n",
              "      border-radius: 50%;\n",
              "      cursor: pointer;\n",
              "      display: none;\n",
              "      fill: #1967D2;\n",
              "      height: 32px;\n",
              "      padding: 0 0 0 0;\n",
              "      width: 32px;\n",
              "    }\n",
              "\n",
              "    .colab-df-convert:hover {\n",
              "      background-color: #E2EBFA;\n",
              "      box-shadow: 0px 1px 2px rgba(60, 64, 67, 0.3), 0px 1px 3px 1px rgba(60, 64, 67, 0.15);\n",
              "      fill: #174EA6;\n",
              "    }\n",
              "\n",
              "    [theme=dark] .colab-df-convert {\n",
              "      background-color: #3B4455;\n",
              "      fill: #D2E3FC;\n",
              "    }\n",
              "\n",
              "    [theme=dark] .colab-df-convert:hover {\n",
              "      background-color: #434B5C;\n",
              "      box-shadow: 0px 1px 3px 1px rgba(0, 0, 0, 0.15);\n",
              "      filter: drop-shadow(0px 1px 2px rgba(0, 0, 0, 0.3));\n",
              "      fill: #FFFFFF;\n",
              "    }\n",
              "  </style>\n",
              "\n",
              "      <script>\n",
              "        const buttonEl =\n",
              "          document.querySelector('#df-34c833bb-4a29-4007-bb84-f9ae57fae8cd button.colab-df-convert');\n",
              "        buttonEl.style.display =\n",
              "          google.colab.kernel.accessAllowed ? 'block' : 'none';\n",
              "\n",
              "        async function convertToInteractive(key) {\n",
              "          const element = document.querySelector('#df-34c833bb-4a29-4007-bb84-f9ae57fae8cd');\n",
              "          const dataTable =\n",
              "            await google.colab.kernel.invokeFunction('convertToInteractive',\n",
              "                                                     [key], {});\n",
              "          if (!dataTable) return;\n",
              "\n",
              "          const docLinkHtml = 'Like what you see? Visit the ' +\n",
              "            '<a target=\"_blank\" href=https://colab.research.google.com/notebooks/data_table.ipynb>data table notebook</a>'\n",
              "            + ' to learn more about interactive tables.';\n",
              "          element.innerHTML = '';\n",
              "          dataTable['output_type'] = 'display_data';\n",
              "          await google.colab.output.renderOutput(dataTable, element);\n",
              "          const docLink = document.createElement('div');\n",
              "          docLink.innerHTML = docLinkHtml;\n",
              "          element.appendChild(docLink);\n",
              "        }\n",
              "      </script>\n",
              "    </div>\n",
              "  </div>\n",
              "  "
            ]
          },
          "metadata": {},
          "execution_count": 24
        }
      ]
    },
    {
      "cell_type": "code",
      "source": [
        "reason_accuracy = []\n",
        "for reason in prediction_df.declined_reason.value_counts().keys().to_list():\n",
        "  filtered_df = prediction_df[prediction_df['declined_reason']==reason]\n",
        "  logger.info(\n",
        "      '%s: rows %d, accuracy = %.2f, f1_score = %.2f',\n",
        "      reason,\n",
        "      filtered_df.shape[0],\n",
        "      accuracy_score(filtered_df.y_pred, filtered_df.y),\n",
        "      f1_score(filtered_df.y_pred, filtered_df.y),\n",
        "  )\n",
        "  reason_accuracy.append((reason, accuracy_score(filtered_df.y_pred, filtered_df.y)))"
      ],
      "metadata": {
        "colab": {
          "base_uri": "https://localhost:8080/"
        },
        "id": "RMIqagYlONnn",
        "outputId": "b47aafa8-e0ec-41f4-812d-60f763b07b2c"
      },
      "execution_count": 33,
      "outputs": [
        {
          "output_type": "stream",
          "name": "stderr",
          "text": [
            "2022-04-04 06:25:19,359 : INFO : politics_religion: rows 3049, accuracy = 0.44, f1_score = 0.61\n",
            "2022-04-04 06:25:19,373 : INFO : racism: rows 1122, accuracy = 0.25, f1_score = 0.40\n",
            "2022-04-04 06:25:19,386 : INFO : lgbt_woman_jokes: rows 875, accuracy = 0.31, f1_score = 0.48\n",
            "2022-04-04 06:25:19,400 : INFO : not_safe_for_work: rows 743, accuracy = 0.04, f1_score = 0.08\n",
            "2022-04-04 06:25:19,413 : INFO : Political_Lite: rows 619, accuracy = 0.28, f1_score = 0.43\n",
            "2022-04-04 06:25:19,424 : INFO : tragedy_death_gore_injuries: rows 555, accuracy = 0.12, f1_score = 0.21\n",
            "2022-04-04 06:25:19,441 : INFO : watermark: rows 406, accuracy = 0.17, f1_score = 0.29\n",
            "2022-04-04 06:25:19,452 : INFO : call_to_harm: rows 379, accuracy = 0.06, f1_score = 0.11\n",
            "2022-04-04 06:25:19,463 : INFO : nudity_censored_genitals: rows 273, accuracy = 0.05, f1_score = 0.10\n",
            "2022-04-04 06:25:19,479 : INFO : moderation_mistake: rows 179, accuracy = 0.09, f1_score = 0.17\n",
            "2022-04-04 06:25:19,489 : INFO : clickbait: rows 138, accuracy = 0.06, f1_score = 0.11\n",
            "2022-04-04 06:25:19,499 : INFO : pedo: rows 136, accuracy = 0.12, f1_score = 0.21\n",
            "2022-04-04 06:25:19,508 : INFO : disabilities: rows 61, accuracy = 0.02, f1_score = 0.03\n",
            "2022-04-04 06:25:19,519 : INFO : bodily_fluids: rows 58, accuracy = 0.00, f1_score = 0.00\n",
            "2022-04-04 06:25:19,529 : INFO : school_shooting_fights: rows 29, accuracy = 0.07, f1_score = 0.13\n",
            "2022-04-04 06:25:19,539 : INFO : drugs: rows 26, accuracy = 0.08, f1_score = 0.14\n",
            "2022-04-04 06:25:19,549 : INFO : pepe: rows 12, accuracy = 0.17, f1_score = 0.29\n",
            "2022-04-04 06:25:19,562 : INFO : pity: rows 6, accuracy = 0.00, f1_score = 0.00\n"
          ]
        }
      ]
    },
    {
      "cell_type": "markdown",
      "source": [
        "В табличном виде неудобно смотреть, применяем визуализацию"
      ],
      "metadata": {
        "id": "NyvJDuGEUWzX"
      }
    },
    {
      "cell_type": "code",
      "source": [
        "from operator import itemgetter\n",
        "\n",
        "res =   (\n",
        "    pd.DataFrame(\n",
        "        sorted(reason_accuracy, key=itemgetter(1), reverse = True),\n",
        "        columns=['reason', 'accuracy']\n",
        "    )\n",
        ")\n",
        "res.plot(kind='bar', x='reason', y='accuracy')"
      ],
      "metadata": {
        "colab": {
          "base_uri": "https://localhost:8080/",
          "height": 429
        },
        "id": "WdDekZBHOlHC",
        "outputId": "95965c0d-3955-4024-a642-caec89cf3741"
      },
      "execution_count": 34,
      "outputs": [
        {
          "output_type": "execute_result",
          "data": {
            "text/plain": [
              "<matplotlib.axes._subplots.AxesSubplot at 0x7fd9c04ece90>"
            ]
          },
          "metadata": {},
          "execution_count": 34
        },
        {
          "output_type": "display_data",
          "data": {
            "text/plain": [
              "<Figure size 432x288 with 1 Axes>"
            ],
            "image/png": "[encoded data removed]"
          },
          "metadata": {
            "needs_background": "light"
          }
        }
      ]
    },
    {
      "cell_type": "markdown",
      "source": [
        "Выявили категории, с которыми плохо справляется модель\n",
        "\n",
        "* `nudity_censored_genitals`\n",
        "* `school_shooting_fights`\n",
        "* `not_safe_for_work`\n",
        "* `bodily_fluids`\n",
        "* `pity`\n",
        "\n",
        "Скорее всего несколько категорий по тексту предсказывать не получится - для этих категорий нужны какие-то картиночные фичи. Поэтому для улучшения качества мы можем пока удалить эти категории из разметки, раз уже текущее пространство фичей не позволяет качественно детектировать эти категории."
      ],
      "metadata": {
        "id": "7VGViILwYHN8"
      }
    },
    {
      "cell_type": "code",
      "source": [
        "non_prediction_declined_reason = [\n",
        "    'nudity_censored_genitals', 'school_shooting_fights', 'not_safe_for_work', 'bodily_fluids', 'pity'\n",
        "]\n",
        "\n",
        "input_dataset_df.loc[\n",
        "    input_dataset_df['declined_reason'].isin(non_prediction_declined_reason), 'featured_approval_content_declined'\n",
        "] = 0.0\n",
        "\n",
        "# т.к. таргет поменялся, нужно повторное разбиение\n",
        "train_df, test_df = split_dataset(input_dataset_df)\n",
        "\n",
        "train_df.head()"
      ],
      "metadata": {
        "colab": {
          "base_uri": "https://localhost:8080/",
          "height": 224
        },
        "id": "555V2wUbPuFa",
        "outputId": "6593596f-addc-4530-87ae-8a8dc2669763"
      },
      "execution_count": 41,
      "outputs": [
        {
          "output_type": "stream",
          "name": "stderr",
          "text": [
            "2022-04-04 07:28:20,282 : INFO : Positive target share 0.2499\n"
          ]
        },
        {
          "output_type": "execute_result",
          "data": {
            "text/plain": [
              "      content_id    y\n",
              "50644    FyGigPx  1.0\n",
              "70612    hYWHmVI  1.0\n",
              "36427    CnoRjMg  0.0\n",
              "22337    fFtZzvp  0.0\n",
              "61597    ngCAQkz  0.0"
            ],
            "text/html": [
              "\n",
              "  <div id=\"df-0e065ab2-30d9-46bb-aa40-6f0256a8d7c4\">\n",
              "    <div class=\"colab-df-container\">\n",
              "      <div>\n",
              "<style scoped>\n",
              "    .dataframe tbody tr th:only-of-type {\n",
              "        vertical-align: middle;\n",
              "    }\n",
              "\n",
              "    .dataframe tbody tr th {\n",
              "        vertical-align: top;\n",
              "    }\n",
              "\n",
              "    .dataframe thead th {\n",
              "        text-align: right;\n",
              "    }\n",
              "</style>\n",
              "<table border=\"1\" class=\"dataframe\">\n",
              "  <thead>\n",
              "    <tr style=\"text-align: right;\">\n",
              "      <th></th>\n",
              "      <th>content_id</th>\n",
              "      <th>y</th>\n",
              "    </tr>\n",
              "  </thead>\n",
              "  <tbody>\n",
              "    <tr>\n",
              "      <th>50644</th>\n",
              "      <td>FyGigPx</td>\n",
              "      <td>1.0</td>\n",
              "    </tr>\n",
              "    <tr>\n",
              "      <th>70612</th>\n",
              "      <td>hYWHmVI</td>\n",
              "      <td>1.0</td>\n",
              "    </tr>\n",
              "    <tr>\n",
              "      <th>36427</th>\n",
              "      <td>CnoRjMg</td>\n",
              "      <td>0.0</td>\n",
              "    </tr>\n",
              "    <tr>\n",
              "      <th>22337</th>\n",
              "      <td>fFtZzvp</td>\n",
              "      <td>0.0</td>\n",
              "    </tr>\n",
              "    <tr>\n",
              "      <th>61597</th>\n",
              "      <td>ngCAQkz</td>\n",
              "      <td>0.0</td>\n",
              "    </tr>\n",
              "  </tbody>\n",
              "</table>\n",
              "</div>\n",
              "      <button class=\"colab-df-convert\" onclick=\"convertToInteractive('df-0e065ab2-30d9-46bb-aa40-6f0256a8d7c4')\"\n",
              "              title=\"Convert this dataframe to an interactive table.\"\n",
              "              style=\"display:none;\">\n",
              "        \n",
              "  <svg xmlns=\"http://www.w3.org/2000/svg\" height=\"24px\"viewBox=\"0 0 24 24\"\n",
              "       width=\"24px\">\n",
              "    <path d=\"M0 0h24v24H0V0z\" fill=\"none\"/>\n",
              "    <path d=\"M18.56 5.44l.94 2.06.94-2.06 2.06-.94-2.06-.94-.94-2.06-.94 2.06-2.06.94zm-11 1L8.5 8.5l.94-2.06 2.06-.94-2.06-.94L8.5 2.5l-.94 2.06-2.06.94zm10 10l.94 2.06.94-2.06 2.06-.94-2.06-.94-.94-2.06-.94 2.06-2.06.94z\"/><path d=\"M17.41 7.96l-1.37-1.37c-.4-.4-.92-.59-1.43-.59-.52 0-1.04.2-1.43.59L10.3 9.45l-7.72 7.72c-.78.78-.78 2.05 0 2.83L4 21.41c.39.39.9.59 1.41.59.51 0 1.02-.2 1.41-.59l7.78-7.78 2.81-2.81c.8-.78.8-2.07 0-2.86zM5.41 20L4 18.59l7.72-7.72 1.47 1.35L5.41 20z\"/>\n",
              "  </svg>\n",
              "      </button>\n",
              "      \n",
              "  <style>\n",
              "    .colab-df-container {\n",
              "      display:flex;\n",
              "      flex-wrap:wrap;\n",
              "      gap: 12px;\n",
              "    }\n",
              "\n",
              "    .colab-df-convert {\n",
              "      background-color: #E8F0FE;\n",
              "      border: none;\n",
              "      border-radius: 50%;\n",
              "      cursor: pointer;\n",
              "      display: none;\n",
              "      fill: #1967D2;\n",
              "      height: 32px;\n",
              "      padding: 0 0 0 0;\n",
              "      width: 32px;\n",
              "    }\n",
              "\n",
              "    .colab-df-convert:hover {\n",
              "      background-color: #E2EBFA;\n",
              "      box-shadow: 0px 1px 2px rgba(60, 64, 67, 0.3), 0px 1px 3px 1px rgba(60, 64, 67, 0.15);\n",
              "      fill: #174EA6;\n",
              "    }\n",
              "\n",
              "    [theme=dark] .colab-df-convert {\n",
              "      background-color: #3B4455;\n",
              "      fill: #D2E3FC;\n",
              "    }\n",
              "\n",
              "    [theme=dark] .colab-df-convert:hover {\n",
              "      background-color: #434B5C;\n",
              "      box-shadow: 0px 1px 3px 1px rgba(0, 0, 0, 0.15);\n",
              "      filter: drop-shadow(0px 1px 2px rgba(0, 0, 0, 0.3));\n",
              "      fill: #FFFFFF;\n",
              "    }\n",
              "  </style>\n",
              "\n",
              "      <script>\n",
              "        const buttonEl =\n",
              "          document.querySelector('#df-0e065ab2-30d9-46bb-aa40-6f0256a8d7c4 button.colab-df-convert');\n",
              "        buttonEl.style.display =\n",
              "          google.colab.kernel.accessAllowed ? 'block' : 'none';\n",
              "\n",
              "        async function convertToInteractive(key) {\n",
              "          const element = document.querySelector('#df-0e065ab2-30d9-46bb-aa40-6f0256a8d7c4');\n",
              "          const dataTable =\n",
              "            await google.colab.kernel.invokeFunction('convertToInteractive',\n",
              "                                                     [key], {});\n",
              "          if (!dataTable) return;\n",
              "\n",
              "          const docLinkHtml = 'Like what you see? Visit the ' +\n",
              "            '<a target=\"_blank\" href=https://colab.research.google.com/notebooks/data_table.ipynb>data table notebook</a>'\n",
              "            + ' to learn more about interactive tables.';\n",
              "          element.innerHTML = '';\n",
              "          dataTable['output_type'] = 'display_data';\n",
              "          await google.colab.output.renderOutput(dataTable, element);\n",
              "          const docLink = document.createElement('div');\n",
              "          docLink.innerHTML = docLinkHtml;\n",
              "          element.appendChild(docLink);\n",
              "        }\n",
              "      </script>\n",
              "    </div>\n",
              "  </div>\n",
              "  "
            ]
          },
          "metadata": {},
          "execution_count": 41
        }
      ]
    },
    {
      "cell_type": "markdown",
      "source": [
        "Прогоним ещё раз пайплайн\n",
        "\n",
        "* трансформация текста\n",
        "* пресказание\n",
        "* проверка качества"
      ],
      "metadata": {
        "id": "OasIr9RWceYj"
      }
    },
    {
      "cell_type": "code",
      "source": [
        "train_ocr_dataset = prepare_tfidf(train_df, ocr_dataset_df, vectorizer)\n",
        "\n",
        "test_ocr_dataset = prepare_tfidf(test_df, ocr_dataset_df, vectorizer)\n",
        "log_reg = LogisticRegression(max_iter=500).fit(train_ocr_dataset, train_df['y'])\n",
        "\n",
        "predicted_classes = log_reg.predict(test_ocr_dataset)\n",
        "logger.info(\n",
        "    'Предсказания построены, accuracy = %.2f, f1_score = %.2f, recall_score = %.2f',\n",
        "    accuracy_score(predicted_classes, test_df.y),\n",
        "    f1_score(predicted_classes, test_df.y),\n",
        "    recall_score(predicted_classes, test_df.y),\n",
        ")"
      ],
      "metadata": {
        "colab": {
          "base_uri": "https://localhost:8080/"
        },
        "id": "LSo86CZGP2hr",
        "outputId": "86e6ae65-980f-4b6b-95ef-08e2ce01a1d9"
      },
      "execution_count": 42,
      "outputs": [
        {
          "output_type": "stream",
          "name": "stderr",
          "text": [
            "2022-04-04 07:28:48,913 : INFO : Предсказания построены, accuracy = 0.79, f1_score = 0.40, recall_score = 0.71\n"
          ]
        }
      ]
    },
    {
      "cell_type": "markdown",
      "source": [
        "Итого было\n",
        "```\n",
        "Предсказания построены, accuracy = 0.75, f1_score = 0.39, recall_score = 0.69\n",
        "```\n",
        "\n",
        "Стало\n",
        "```\n",
        "Предсказания построены, accuracy = 0.79, f1_score = 0.40, recall_score = 0.71\n",
        "```\n",
        "\n",
        "Мы увеличили качество модели, но это не совсем честное улучшение, т.к. мы просто перенеcли часть проблем в будущее (когда появится новые фичи)"
      ],
      "metadata": {
        "id": "vVNekmiTei1c"
      }
    },
    {
      "cell_type": "markdown",
      "source": [
        "### Улучшаем препроцессинг данных\n",
        "\n",
        "Входные данные максимально влияют на качество алгоритма (вспоминаем принцип garbage in - garbage out).\n",
        "\n",
        "Наши входные данные - результат tf-idf, давайте попробуем улучшить из за счет фильтрации \"мусора\" "
      ],
      "metadata": {
        "id": "mHdJ6YJLe9mB"
      }
    },
    {
      "cell_type": "code",
      "source": [
        "print(vectorizer.get_feature_names_out()[:10])"
      ],
      "metadata": {
        "colab": {
          "base_uri": "https://localhost:8080/"
        },
        "id": "EpHfuAeFeiGX",
        "outputId": "f3f9168d-0978-4d64-a650-14cda223decc"
      },
      "execution_count": 44,
      "outputs": [
        {
          "output_type": "stream",
          "name": "stdout",
          "text": [
            "['000' '0000' '00000' '000000' '0000000' '000000000' '000000000133'\n",
            " '0000000h' '0000001650' '0000001750']\n"
          ]
        }
      ]
    },
    {
      "cell_type": "markdown",
      "source": [
        "Видно, что входные данные достаточно \"грязные\" воспользуемся небольшой эвристикой для улучшения датасета"
      ],
      "metadata": {
        "id": "BrEakbtBfyeW"
      }
    },
    {
      "cell_type": "code",
      "source": [
        "MIN_DOCS = 0.0001  # эвристика\n",
        "better_vectorizer = TfidfVectorizer(analyzer='word', lowercase=True, token_pattern=r'\\b[\\w\\d]{3,}\\b', min_df=MIN_DOCS)\n",
        "\n",
        "ocr_features = better_vectorizer.fit(ocr_dataset_df.text.values)\n",
        "\n",
        "print(better_vectorizer.get_feature_names_out()[:10])"
      ],
      "metadata": {
        "colab": {
          "base_uri": "https://localhost:8080/"
        },
        "id": "IxW4TrwfeCO3",
        "outputId": "a4cf4f9a-1cff-4f93-8086-1d4278a166a9"
      },
      "execution_count": 49,
      "outputs": [
        {
          "output_type": "stream",
          "name": "stdout",
          "text": [
            "['000' '00000' '001' '006' '007' '008' '010' '014' '021' '022']\n"
          ]
        }
      ]
    },
    {
      "cell_type": "markdown",
      "source": [
        "Кажется, данные стали более \"чистыми\". Проверим, как отреагировали метрики"
      ],
      "metadata": {
        "id": "LDwKW834gz2K"
      }
    },
    {
      "cell_type": "code",
      "source": [
        "train_ocr_dataset = prepare_tfidf(train_df, ocr_dataset_df, better_vectorizer)\n",
        "log_reg = LogisticRegression(max_iter=500).fit(train_ocr_dataset, train_df['y'])\n",
        "\n",
        "test_ocr_dataset = prepare_tfidf(test_df, ocr_dataset_df, better_vectorizer)\n",
        "\n",
        "predicted_classes = log_reg.predict(test_ocr_dataset)\n",
        "logger.info(\n",
        "    'Предсказания построены, accuracy = %.2f, f1_score = %.2f, recall_score = %.2f',\n",
        "    accuracy_score(predicted_classes, test_df.y),\n",
        "    f1_score(predicted_classes, test_df.y),\n",
        "    recall_score(predicted_classes, test_df.y),\n",
        ")"
      ],
      "metadata": {
        "colab": {
          "base_uri": "https://localhost:8080/"
        },
        "id": "Y5igoI_XgoIp",
        "outputId": "1c8f8653-6271-492a-ad7c-eb793dd6556e"
      },
      "execution_count": 50,
      "outputs": [
        {
          "output_type": "stream",
          "name": "stderr",
          "text": [
            "2022-04-04 07:42:11,824 : INFO : Предсказания построены, accuracy = 0.79, f1_score = 0.42, recall_score = 0.70\n"
          ]
        }
      ]
    },
    {
      "cell_type": "markdown",
      "source": [
        "Итого было\n",
        "```\n",
        "Предсказания построены, accuracy = 0.79, f1_score = 0.40, recall_score = 0.71\n",
        "```\n",
        "\n",
        "Стало\n",
        "```\n",
        "Предсказания построены, accuracy = 0.79, f1_score = 0.42, recall_score = 0.70\n",
        "```\n",
        "\n",
        "Отлично, удалось ещё немного улучшить качество.\n",
        "\n",
        "Подбирать параметры трансформации данных с помощью эвристик не самая хаорошая затея, лучше всего подбирать параметры данных на кросс-валидации"
      ],
      "metadata": {
        "id": "49ChKE2ehYTh"
      }
    },
    {
      "cell_type": "markdown",
      "source": [
        "### Строим более сложную модель\n",
        "\n",
        "Итого у нас есть \"слабая\" модель которую хотим как-то улучшать. Из предыдущих лекций мы знаем, что наиболее сильная модель - это бустинг. Как с помощью бустинга улучшить результаты логистической регрегрессии? Можно построить двууровневую модель, такой приём называется стакинг (от англ. to stack)\n",
        "\n",
        "* на первом уровне делаем предсказание\n",
        "* на втором уровне используем предсказание как фичу\n",
        "\n",
        "Для этого нужно разбить тренировочный сет ещё на две части: часть используем для обучения логической регрессии, часть для бустинга\n",
        "\n",
        "Такая сложная схема нужна т.к. и логистическая регрессия, и бустинг обучаются на одном и том же таргете, поэтому если сначала обучить на всём датасете логистическую регрессию, а потом использовать её предсказания как вичу то получим т.н. лик в данных: ситуация, когда на этапе тренировки бустинга во входных данных уже будет присутствовать информация о таргете\n",
        "\n",
        "![two_level.png](./img/two_level.png)"
      ],
      "metadata": {
        "id": "BO59bw57ixk3"
      }
    },
    {
      "cell_type": "code",
      "source": [
        "def split_dataset_two_level(source_df: pd.DataFrame, valid_train_set_size = 0.3, boosting_train_set_size=0.6):\n",
        "  y = source_df.featured_approval_content_declined\n",
        "\n",
        "  content_ids = source_df['content_id']\n",
        "\n",
        "  x_train, x_test_ids, y_train, y_test = (\n",
        "      train_test_split(\n",
        "          content_ids, y, test_size=valid_train_set_size, random_state=RANDOM_SEED, stratify=y\n",
        "      )\n",
        "  )\n",
        "\n",
        "  x_train_logreg_ids, x_train_boosting_ids, y_train_logreg, y_train_boosting = (\n",
        "      train_test_split(\n",
        "          x_train, y_train, test_size=boosting_train_set_size, random_state=RANDOM_SEED, stratify=y_train\n",
        "      )\n",
        "  )\n",
        "\n",
        "  test_df = pd.DataFrame({'content_id': x_test_ids, 'y': y_test})\n",
        "  train_logreg_df = pd.DataFrame({'content_id': x_train_logreg_ids, 'y': y_train_logreg})\n",
        "  train_boosting_df = pd.DataFrame({'content_id': x_train_boosting_ids, 'y': y_train_boosting})\n",
        "  logger.info('Positive target share %.4f', train_df['y'].value_counts(normalize=True)[1])\n",
        "\n",
        "  return train_logreg_df, train_boosting_df, test_df\n",
        "\n",
        "train_logreg_df, train_boosting_df, test_df = split_dataset_two_level(input_dataset_df)"
      ],
      "metadata": {
        "colab": {
          "base_uri": "https://localhost:8080/"
        },
        "id": "B4_jkt7ThJGB",
        "outputId": "2d4600ec-d8fd-4a2d-dd25-a738d32c9397"
      },
      "execution_count": 52,
      "outputs": [
        {
          "output_type": "stream",
          "name": "stderr",
          "text": [
            "2022-04-04 08:52:33,850 : INFO : Positive target share 0.2499\n"
          ]
        }
      ]
    },
    {
      "cell_type": "markdown",
      "source": [
        "Для тренировки логистической регрессии получается меньше данных, проверим как это отразится на качестве"
      ],
      "metadata": {
        "id": "QptTdOppxzzQ"
      }
    },
    {
      "cell_type": "code",
      "source": [
        "train_ocr_dataset = prepare_tfidf(train_logreg_df, ocr_dataset_df, better_vectorizer)\n",
        "log_reg = LogisticRegression(max_iter=500).fit(train_ocr_dataset, train_logreg_df['y'])\n",
        "\n",
        "test_ocr_dataset = prepare_tfidf(test_df, ocr_dataset_df, better_vectorizer)\n",
        "\n",
        "predicted_classes = log_reg.predict(test_ocr_dataset)\n",
        "logger.info(\n",
        "    'Предсказания построены, accuracy = %.2f, f1_score = %.2f, recall_score = %.2f',\n",
        "    accuracy_score(predicted_classes, test_df.y),\n",
        "    f1_score(predicted_classes, test_df.y),\n",
        "    recall_score(predicted_classes, test_df.y),\n",
        ")"
      ],
      "metadata": {
        "colab": {
          "base_uri": "https://localhost:8080/"
        },
        "id": "v99pIK4QhWys",
        "outputId": "6fd66f57-e98b-4082-8a93-42a530b32a3a"
      },
      "execution_count": 54,
      "outputs": [
        {
          "output_type": "stream",
          "name": "stderr",
          "text": [
            "2022-04-04 08:54:49,306 : INFO : Предсказания построены, accuracy = 0.78, f1_score = 0.36, recall_score = 0.68\n"
          ]
        }
      ]
    },
    {
      "cell_type": "markdown",
      "source": [
        "Пока качество на тестовом датасете низкое - посмотрим, сможет ли бустинг исправить ситуацию"
      ],
      "metadata": {
        "id": "UhjXGx2NyS2E"
      }
    },
    {
      "cell_type": "code",
      "source": [
        "from sklearn.ensemble import GradientBoostingClassifier\n",
        "\n",
        "def prepare_boosting(content_df, wide_dataset, text_df, tfidf_vectorizer, log_reg):\n",
        "  target = content_df['y']\n",
        "  boosting_df = content_df.drop('y', axis=1)\n",
        "\n",
        "  x_tfidf_train = prepare_tfidf(content_df, text_df, tfidf_vectorizer)\n",
        "\n",
        "  boosting_df = (\n",
        "      boosting_df\n",
        "      .merge(wide_dataset, how='inner')\n",
        "  )\n",
        "\n",
        "  boosting_df['action_rate'] = (\n",
        "        boosting_df['num_positve_actions'] / boosting_df['num_views']\n",
        "  )\n",
        "  boosting_df['comment_rate'] = (\n",
        "          boosting_df['num_comments'] / boosting_df['num_views']\n",
        "  )\n",
        "\n",
        "  boosting_df['logreg_positive_proba'] = log_reg.predict_proba(x_tfidf_train)[:, 1]\n",
        "  BOOSTING_COLUMNS = [\n",
        "    'action_rate', 'comment_rate', 'logreg_positive_proba',\n",
        "    'approved', 'hard_shotted', 'soft_shotted'\n",
        "  ]\n",
        "\n",
        "  # важная история про заполнение пропусков\n",
        "  for col in BOOSTING_COLUMNS:\n",
        "      try:\n",
        "          logger.info(\n",
        "              'in coll %s, %.5f NULL',\n",
        "              col, boosting_df[col].isna().value_counts(normalize=True).loc[True]\n",
        "          )\n",
        "          boosting_df[col].fillna(value=0.0, inplace=True)\n",
        "      except KeyError:\n",
        "          pass\n",
        "\n",
        "  return boosting_df[BOOSTING_COLUMNS], target\n",
        "\n",
        "boosting_df, target = prepare_boosting(\n",
        "    train_boosting_df, input_dataset_df, ocr_dataset_df, better_vectorizer, log_reg\n",
        ")\n",
        "\n",
        "gb_clf = GradientBoostingClassifier().fit(boosting_df, target)"
      ],
      "metadata": {
        "colab": {
          "base_uri": "https://localhost:8080/"
        },
        "id": "RbHr1lhsyEDM",
        "outputId": "ce4c9b49-f976-441f-bae7-ce5fa30d6125"
      },
      "execution_count": 70,
      "outputs": [
        {
          "output_type": "stream",
          "name": "stderr",
          "text": [
            "2022-04-04 10:21:59,971 : INFO : in coll approved, 0.00188 NULL\n",
            "2022-04-04 10:21:59,976 : INFO : in coll hard_shotted, 0.00188 NULL\n",
            "2022-04-04 10:21:59,981 : INFO : in coll soft_shotted, 0.00188 NULL\n"
          ]
        }
      ]
    },
    {
      "cell_type": "markdown",
      "source": [
        "Формируем тестовый датасет и проверяем качество модели"
      ],
      "metadata": {
        "id": "VuK-YYMPAG0W"
      }
    },
    {
      "cell_type": "code",
      "source": [
        "test_boosting_df, test_target = prepare_boosting(\n",
        "    test_df, input_dataset_df, ocr_dataset_df, better_vectorizer, log_reg\n",
        ")\n",
        "\n",
        "predicted_classes = gb_clf.predict(test_boosting_df)\n",
        "\n",
        "logger.info(\n",
        "    'Предсказания построены, accuracy = %.2f, f1_score = %.2f, recall_score = %.2f',\n",
        "    accuracy_score(predicted_classes, test_df.y),\n",
        "    f1_score(predicted_classes, test_df.y),\n",
        "    recall_score(predicted_classes, test_df.y),\n",
        ")"
      ],
      "metadata": {
        "colab": {
          "base_uri": "https://localhost:8080/"
        },
        "id": "Wtoeb15eAEya",
        "outputId": "ce83f838-9e7f-4c6d-91ff-4f4091df92de"
      },
      "execution_count": 71,
      "outputs": [
        {
          "output_type": "stream",
          "name": "stderr",
          "text": [
            "2022-04-04 10:22:16,846 : INFO : in coll approved, 0.00147 NULL\n",
            "2022-04-04 10:22:16,856 : INFO : in coll hard_shotted, 0.00147 NULL\n",
            "2022-04-04 10:22:16,861 : INFO : in coll soft_shotted, 0.00147 NULL\n",
            "2022-04-04 10:22:16,964 : INFO : Предсказания построены, accuracy = 0.79, f1_score = 0.44, recall_score = 0.64\n"
          ]
        }
      ]
    },
    {
      "cell_type": "markdown",
      "source": [
        "Это лучшее качество которое получили на логистической регрессии\n",
        "\n",
        "```\n",
        "Предсказания построены, accuracy = 0.79, f1_score = 0.42, recall_score = 0.70\n",
        "```\n",
        "\n",
        "Для двухуровневой модели с бустингом\n",
        "```\n",
        "Предсказания построены, accuracy = 0.79, f1_score = 0.44, recall_score = 0.64\n",
        "```\n",
        "\n",
        "У нас незначительно \"просел\" recall зато увеличился F1-скор\n",
        "\n",
        "Можно продолжать улучшать дальше:\n",
        "* закопаться в `feature engineering`\n",
        "* лучше очистить входные данные\n",
        "* потюнить параметры моделей"
      ],
      "metadata": {
        "id": "hG-UQ--tGONw"
      }
    },
    {
      "cell_type": "code",
      "source": [
        ""
      ],
      "metadata": {
        "id": "oIbSmmZcAVkX"
      },
      "execution_count": null,
      "outputs": []
    }
  ]
}