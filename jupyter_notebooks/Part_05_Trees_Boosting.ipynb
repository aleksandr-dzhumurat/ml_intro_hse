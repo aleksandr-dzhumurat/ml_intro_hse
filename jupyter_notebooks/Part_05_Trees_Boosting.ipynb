{
  "nbformat": 4,
  "nbformat_minor": 0,
  "metadata": {
    "colab": {
      "name": "Part V: Trees. Boosting.ipynb",
      "provenance": [],
      "collapsed_sections": []
    },
    "kernelspec": {
      "name": "python3",
      "display_name": "Python 3"
    },
    "language_info": {
      "name": "python"
    }
  },
  "cells": [
    {
      "cell_type": "markdown",
      "source": [
        "# Деревья решений\n",
        "\n",
        "рассмотрим создание простого дерева"
      ],
      "metadata": {
        "id": "EeEkNWXIpQBx"
      }
    },
    {
      "cell_type": "markdown",
      "source": [
        "Подключаемся к гугл драйв"
      ],
      "metadata": {
        "id": "3U7UqeSkpBaZ"
      }
    },
    {
      "cell_type": "code",
      "source": [
        "import logging\n",
        "import os\n",
        "import shutil \n",
        "\n",
        "import numpy as np\n",
        "from google.colab import drive\n",
        "\n",
        "RANDOM_SEED = 42\n",
        "np.random.seed(RANDOM_SEED)  # гарантируем воспроизводимость\n",
        "\n",
        "logging.basicConfig(format='%(asctime)s : %(levelname)s : %(message)s', level=logging.INFO)\n",
        "logger = logging.getLogger(__name__)\n",
        "logger.info('Инициализировали логгер')\n",
        "\n",
        "ROOT_DIR = '/content/drive' \n",
        "drive.mount(ROOT_DIR)\n",
        "logger.info('Подключили диск')\n",
        "\n",
        "root_data_dir = os.path.join(ROOT_DIR, 'MyDrive', 'hse_nlp_2021')\n",
        "if not os.path.exists(root_data_dir):\n",
        "  raise RuntimeError('Отсутствует директория с данными')\n",
        "else:\n",
        "  logger.info('Содержимое директории %s: %s', root_data_dir, os.listdir(root_data_dir))"
      ],
      "metadata": {
        "colab": {
          "base_uri": "https://localhost:8080/"
        },
        "id": "8H09VN_CpBvo",
        "outputId": "a1b57721-7493-44ec-b49c-b17779924b52"
      },
      "execution_count": null,
      "outputs": [
        {
          "output_type": "stream",
          "name": "stderr",
          "text": [
            "2022-02-23 05:42:56,789 : INFO : Инициализировали логгер\n",
            "2022-02-23 05:43:22,852 : INFO : Подключили диск\n"
          ]
        },
        {
          "output_type": "stream",
          "name": "stdout",
          "text": [
            "Mounted at /content/drive\n"
          ]
        },
        {
          "output_type": "stream",
          "name": "stderr",
          "text": [
            "2022-02-23 05:43:23,115 : INFO : Содержимое директории /content/drive/MyDrive/hse_nlp_2021: ['events.csv', 'corpora', 'nltk_data_old', 'nltk_data', '1000k_memes_ocr.tar.gz', 'logs', 'sklearn_data', 'nyt-ingredients-snapshot-2015.csv', 'insurance.csv', 'non_linear.csv', 'client_segmentation.csv', 'my_little_recsys', 'optimal_push_time', 'boosting_toy_dataset.csv']\n"
          ]
        }
      ]
    },
    {
      "cell_type": "code",
      "source": [
        "import pandas as pd\n",
        "data_dict = {\n",
        "    'child': (1, 0, 1, 2, 3, 0, 0, 0, 1, 0),\n",
        "    'living_place': ('suburb', 'city', 'city', 'suburb', 'city', 'suburb', 'city', 'suburb', 'city', 'city'),\n",
        "    'car_type': ('sedan', 'sport', 'sedan', 'sedan', 'van', 'sport', 'sedan', 'sport', 'sedan', 'sport'),\n",
        "    'age_years': (30, 25, 28, 40, 55, 35, 39, 25, 50, 40),\n",
        "    'insurance case':  ('good', 'bad', 'bad', 'good', 'good', 'good', 'bad', 'good', 'bad', 'good')\n",
        "}\n",
        "\n",
        "df = pd.DataFrame(data_dict)\n",
        "logger.info('num rows %d',  df.shape[0])\n",
        "df.head()"
      ],
      "metadata": {
        "colab": {
          "base_uri": "https://localhost:8080/",
          "height": 224
        },
        "id": "6PF7aPF2pkmz",
        "outputId": "761b2062-635e-46be-abe2-dcdc30e24398"
      },
      "execution_count": null,
      "outputs": [
        {
          "output_type": "stream",
          "name": "stderr",
          "text": [
            "2022-02-23 05:43:27,586 : INFO : num rows 10\n"
          ]
        },
        {
          "output_type": "execute_result",
          "data": {
            "text/html": [
              "\n",
              "  <div id=\"df-61e6fced-08ac-47e8-b4a5-0132c29dbc35\">\n",
              "    <div class=\"colab-df-container\">\n",
              "      <div>\n",
              "<style scoped>\n",
              "    .dataframe tbody tr th:only-of-type {\n",
              "        vertical-align: middle;\n",
              "    }\n",
              "\n",
              "    .dataframe tbody tr th {\n",
              "        vertical-align: top;\n",
              "    }\n",
              "\n",
              "    .dataframe thead th {\n",
              "        text-align: right;\n",
              "    }\n",
              "</style>\n",
              "<table border=\"1\" class=\"dataframe\">\n",
              "  <thead>\n",
              "    <tr style=\"text-align: right;\">\n",
              "      <th></th>\n",
              "      <th>child</th>\n",
              "      <th>living_place</th>\n",
              "      <th>car_type</th>\n",
              "      <th>age_years</th>\n",
              "      <th>insurance case</th>\n",
              "    </tr>\n",
              "  </thead>\n",
              "  <tbody>\n",
              "    <tr>\n",
              "      <th>0</th>\n",
              "      <td>1</td>\n",
              "      <td>suburb</td>\n",
              "      <td>sedan</td>\n",
              "      <td>30</td>\n",
              "      <td>good</td>\n",
              "    </tr>\n",
              "    <tr>\n",
              "      <th>1</th>\n",
              "      <td>0</td>\n",
              "      <td>city</td>\n",
              "      <td>sport</td>\n",
              "      <td>25</td>\n",
              "      <td>bad</td>\n",
              "    </tr>\n",
              "    <tr>\n",
              "      <th>2</th>\n",
              "      <td>1</td>\n",
              "      <td>city</td>\n",
              "      <td>sedan</td>\n",
              "      <td>28</td>\n",
              "      <td>bad</td>\n",
              "    </tr>\n",
              "    <tr>\n",
              "      <th>3</th>\n",
              "      <td>2</td>\n",
              "      <td>suburb</td>\n",
              "      <td>sedan</td>\n",
              "      <td>40</td>\n",
              "      <td>good</td>\n",
              "    </tr>\n",
              "    <tr>\n",
              "      <th>4</th>\n",
              "      <td>3</td>\n",
              "      <td>city</td>\n",
              "      <td>van</td>\n",
              "      <td>55</td>\n",
              "      <td>good</td>\n",
              "    </tr>\n",
              "  </tbody>\n",
              "</table>\n",
              "</div>\n",
              "      <button class=\"colab-df-convert\" onclick=\"convertToInteractive('df-61e6fced-08ac-47e8-b4a5-0132c29dbc35')\"\n",
              "              title=\"Convert this dataframe to an interactive table.\"\n",
              "              style=\"display:none;\">\n",
              "        \n",
              "  <svg xmlns=\"http://www.w3.org/2000/svg\" height=\"24px\"viewBox=\"0 0 24 24\"\n",
              "       width=\"24px\">\n",
              "    <path d=\"M0 0h24v24H0V0z\" fill=\"none\"/>\n",
              "    <path d=\"M18.56 5.44l.94 2.06.94-2.06 2.06-.94-2.06-.94-.94-2.06-.94 2.06-2.06.94zm-11 1L8.5 8.5l.94-2.06 2.06-.94-2.06-.94L8.5 2.5l-.94 2.06-2.06.94zm10 10l.94 2.06.94-2.06 2.06-.94-2.06-.94-.94-2.06-.94 2.06-2.06.94z\"/><path d=\"M17.41 7.96l-1.37-1.37c-.4-.4-.92-.59-1.43-.59-.52 0-1.04.2-1.43.59L10.3 9.45l-7.72 7.72c-.78.78-.78 2.05 0 2.83L4 21.41c.39.39.9.59 1.41.59.51 0 1.02-.2 1.41-.59l7.78-7.78 2.81-2.81c.8-.78.8-2.07 0-2.86zM5.41 20L4 18.59l7.72-7.72 1.47 1.35L5.41 20z\"/>\n",
              "  </svg>\n",
              "      </button>\n",
              "      \n",
              "  <style>\n",
              "    .colab-df-container {\n",
              "      display:flex;\n",
              "      flex-wrap:wrap;\n",
              "      gap: 12px;\n",
              "    }\n",
              "\n",
              "    .colab-df-convert {\n",
              "      background-color: #E8F0FE;\n",
              "      border: none;\n",
              "      border-radius: 50%;\n",
              "      cursor: pointer;\n",
              "      display: none;\n",
              "      fill: #1967D2;\n",
              "      height: 32px;\n",
              "      padding: 0 0 0 0;\n",
              "      width: 32px;\n",
              "    }\n",
              "\n",
              "    .colab-df-convert:hover {\n",
              "      background-color: #E2EBFA;\n",
              "      box-shadow: 0px 1px 2px rgba(60, 64, 67, 0.3), 0px 1px 3px 1px rgba(60, 64, 67, 0.15);\n",
              "      fill: #174EA6;\n",
              "    }\n",
              "\n",
              "    [theme=dark] .colab-df-convert {\n",
              "      background-color: #3B4455;\n",
              "      fill: #D2E3FC;\n",
              "    }\n",
              "\n",
              "    [theme=dark] .colab-df-convert:hover {\n",
              "      background-color: #434B5C;\n",
              "      box-shadow: 0px 1px 3px 1px rgba(0, 0, 0, 0.15);\n",
              "      filter: drop-shadow(0px 1px 2px rgba(0, 0, 0, 0.3));\n",
              "      fill: #FFFFFF;\n",
              "    }\n",
              "  </style>\n",
              "\n",
              "      <script>\n",
              "        const buttonEl =\n",
              "          document.querySelector('#df-61e6fced-08ac-47e8-b4a5-0132c29dbc35 button.colab-df-convert');\n",
              "        buttonEl.style.display =\n",
              "          google.colab.kernel.accessAllowed ? 'block' : 'none';\n",
              "\n",
              "        async function convertToInteractive(key) {\n",
              "          const element = document.querySelector('#df-61e6fced-08ac-47e8-b4a5-0132c29dbc35');\n",
              "          const dataTable =\n",
              "            await google.colab.kernel.invokeFunction('convertToInteractive',\n",
              "                                                     [key], {});\n",
              "          if (!dataTable) return;\n",
              "\n",
              "          const docLinkHtml = 'Like what you see? Visit the ' +\n",
              "            '<a target=\"_blank\" href=https://colab.research.google.com/notebooks/data_table.ipynb>data table notebook</a>'\n",
              "            + ' to learn more about interactive tables.';\n",
              "          element.innerHTML = '';\n",
              "          dataTable['output_type'] = 'display_data';\n",
              "          await google.colab.output.renderOutput(dataTable, element);\n",
              "          const docLink = document.createElement('div');\n",
              "          docLink.innerHTML = docLinkHtml;\n",
              "          element.appendChild(docLink);\n",
              "        }\n",
              "      </script>\n",
              "    </div>\n",
              "  </div>\n",
              "  "
            ],
            "text/plain": [
              "   child living_place car_type  age_years insurance case\n",
              "0      1       suburb    sedan         30           good\n",
              "1      0         city    sport         25            bad\n",
              "2      1         city    sedan         28            bad\n",
              "3      2       suburb    sedan         40           good\n",
              "4      3         city      van         55           good"
            ]
          },
          "metadata": {},
          "execution_count": 2
        }
      ]
    },
    {
      "cell_type": "markdown",
      "source": [
        "Распределение таргета - 4 позитивных примера, 5 негативных"
      ],
      "metadata": {
        "id": "5bvL3O0MnAO9"
      }
    },
    {
      "cell_type": "code",
      "source": [
        "df['insurance case'].value_counts()"
      ],
      "metadata": {
        "colab": {
          "base_uri": "https://localhost:8080/"
        },
        "id": "JSRk9zXmnAac",
        "outputId": "d4164d36-eb0e-4a2e-e767-66edadaee693"
      },
      "execution_count": null,
      "outputs": [
        {
          "output_type": "execute_result",
          "data": {
            "text/plain": [
              "good    6\n",
              "bad     4\n",
              "Name: insurance case, dtype: int64"
            ]
          },
          "metadata": {},
          "execution_count": 3
        }
      ]
    },
    {
      "cell_type": "markdown",
      "source": [
        "Отделяем матрицу объекты-признаки от таргета"
      ],
      "metadata": {
        "id": "pCpf40EQvlji"
      }
    },
    {
      "cell_type": "code",
      "source": [
        "feature_cols = ['child', 'living_place', 'car_type', 'age_years']\n",
        "\n",
        "X = df[feature_cols].copy()\n",
        "y_labels = df['insurance case'].copy()"
      ],
      "metadata": {
        "id": "t6eWlBeivkI6"
      },
      "execution_count": null,
      "outputs": []
    },
    {
      "cell_type": "markdown",
      "source": [
        "Грязно кодируем переменные - на самом деле нужен `OneHotEncoder` вместо `LabelEncoder` т.к. категориальные переменные метод не поддерживает (конкретно реализация sklearn)"
      ],
      "metadata": {
        "id": "-keWpfr2xIpZ"
      }
    },
    {
      "cell_type": "code",
      "source": [
        "from sklearn.preprocessing import LabelEncoder\n",
        "\n",
        "for feat in ['living_place', 'car_type']:\n",
        "  le = LabelEncoder()\n",
        "  X[feat] = le.fit_transform(X[feat])\n",
        "y = le.fit_transform(y_labels)\n",
        "X"
      ],
      "metadata": {
        "colab": {
          "base_uri": "https://localhost:8080/",
          "height": 363
        },
        "id": "XHQVtHf2wMg1",
        "outputId": "70cebf29-a8c3-47e7-a899-ee03597792b2"
      },
      "execution_count": null,
      "outputs": [
        {
          "output_type": "execute_result",
          "data": {
            "text/html": [
              "\n",
              "  <div id=\"df-01ce6181-1750-4110-9465-7fb7f219e468\">\n",
              "    <div class=\"colab-df-container\">\n",
              "      <div>\n",
              "<style scoped>\n",
              "    .dataframe tbody tr th:only-of-type {\n",
              "        vertical-align: middle;\n",
              "    }\n",
              "\n",
              "    .dataframe tbody tr th {\n",
              "        vertical-align: top;\n",
              "    }\n",
              "\n",
              "    .dataframe thead th {\n",
              "        text-align: right;\n",
              "    }\n",
              "</style>\n",
              "<table border=\"1\" class=\"dataframe\">\n",
              "  <thead>\n",
              "    <tr style=\"text-align: right;\">\n",
              "      <th></th>\n",
              "      <th>child</th>\n",
              "      <th>living_place</th>\n",
              "      <th>car_type</th>\n",
              "      <th>age_years</th>\n",
              "    </tr>\n",
              "  </thead>\n",
              "  <tbody>\n",
              "    <tr>\n",
              "      <th>0</th>\n",
              "      <td>1</td>\n",
              "      <td>1</td>\n",
              "      <td>0</td>\n",
              "      <td>30</td>\n",
              "    </tr>\n",
              "    <tr>\n",
              "      <th>1</th>\n",
              "      <td>0</td>\n",
              "      <td>0</td>\n",
              "      <td>1</td>\n",
              "      <td>25</td>\n",
              "    </tr>\n",
              "    <tr>\n",
              "      <th>2</th>\n",
              "      <td>1</td>\n",
              "      <td>0</td>\n",
              "      <td>0</td>\n",
              "      <td>28</td>\n",
              "    </tr>\n",
              "    <tr>\n",
              "      <th>3</th>\n",
              "      <td>2</td>\n",
              "      <td>1</td>\n",
              "      <td>0</td>\n",
              "      <td>40</td>\n",
              "    </tr>\n",
              "    <tr>\n",
              "      <th>4</th>\n",
              "      <td>3</td>\n",
              "      <td>0</td>\n",
              "      <td>2</td>\n",
              "      <td>55</td>\n",
              "    </tr>\n",
              "    <tr>\n",
              "      <th>5</th>\n",
              "      <td>0</td>\n",
              "      <td>1</td>\n",
              "      <td>1</td>\n",
              "      <td>35</td>\n",
              "    </tr>\n",
              "    <tr>\n",
              "      <th>6</th>\n",
              "      <td>0</td>\n",
              "      <td>0</td>\n",
              "      <td>0</td>\n",
              "      <td>39</td>\n",
              "    </tr>\n",
              "    <tr>\n",
              "      <th>7</th>\n",
              "      <td>0</td>\n",
              "      <td>1</td>\n",
              "      <td>1</td>\n",
              "      <td>25</td>\n",
              "    </tr>\n",
              "    <tr>\n",
              "      <th>8</th>\n",
              "      <td>1</td>\n",
              "      <td>0</td>\n",
              "      <td>0</td>\n",
              "      <td>50</td>\n",
              "    </tr>\n",
              "    <tr>\n",
              "      <th>9</th>\n",
              "      <td>0</td>\n",
              "      <td>0</td>\n",
              "      <td>1</td>\n",
              "      <td>40</td>\n",
              "    </tr>\n",
              "  </tbody>\n",
              "</table>\n",
              "</div>\n",
              "      <button class=\"colab-df-convert\" onclick=\"convertToInteractive('df-01ce6181-1750-4110-9465-7fb7f219e468')\"\n",
              "              title=\"Convert this dataframe to an interactive table.\"\n",
              "              style=\"display:none;\">\n",
              "        \n",
              "  <svg xmlns=\"http://www.w3.org/2000/svg\" height=\"24px\"viewBox=\"0 0 24 24\"\n",
              "       width=\"24px\">\n",
              "    <path d=\"M0 0h24v24H0V0z\" fill=\"none\"/>\n",
              "    <path d=\"M18.56 5.44l.94 2.06.94-2.06 2.06-.94-2.06-.94-.94-2.06-.94 2.06-2.06.94zm-11 1L8.5 8.5l.94-2.06 2.06-.94-2.06-.94L8.5 2.5l-.94 2.06-2.06.94zm10 10l.94 2.06.94-2.06 2.06-.94-2.06-.94-.94-2.06-.94 2.06-2.06.94z\"/><path d=\"M17.41 7.96l-1.37-1.37c-.4-.4-.92-.59-1.43-.59-.52 0-1.04.2-1.43.59L10.3 9.45l-7.72 7.72c-.78.78-.78 2.05 0 2.83L4 21.41c.39.39.9.59 1.41.59.51 0 1.02-.2 1.41-.59l7.78-7.78 2.81-2.81c.8-.78.8-2.07 0-2.86zM5.41 20L4 18.59l7.72-7.72 1.47 1.35L5.41 20z\"/>\n",
              "  </svg>\n",
              "      </button>\n",
              "      \n",
              "  <style>\n",
              "    .colab-df-container {\n",
              "      display:flex;\n",
              "      flex-wrap:wrap;\n",
              "      gap: 12px;\n",
              "    }\n",
              "\n",
              "    .colab-df-convert {\n",
              "      background-color: #E8F0FE;\n",
              "      border: none;\n",
              "      border-radius: 50%;\n",
              "      cursor: pointer;\n",
              "      display: none;\n",
              "      fill: #1967D2;\n",
              "      height: 32px;\n",
              "      padding: 0 0 0 0;\n",
              "      width: 32px;\n",
              "    }\n",
              "\n",
              "    .colab-df-convert:hover {\n",
              "      background-color: #E2EBFA;\n",
              "      box-shadow: 0px 1px 2px rgba(60, 64, 67, 0.3), 0px 1px 3px 1px rgba(60, 64, 67, 0.15);\n",
              "      fill: #174EA6;\n",
              "    }\n",
              "\n",
              "    [theme=dark] .colab-df-convert {\n",
              "      background-color: #3B4455;\n",
              "      fill: #D2E3FC;\n",
              "    }\n",
              "\n",
              "    [theme=dark] .colab-df-convert:hover {\n",
              "      background-color: #434B5C;\n",
              "      box-shadow: 0px 1px 3px 1px rgba(0, 0, 0, 0.15);\n",
              "      filter: drop-shadow(0px 1px 2px rgba(0, 0, 0, 0.3));\n",
              "      fill: #FFFFFF;\n",
              "    }\n",
              "  </style>\n",
              "\n",
              "      <script>\n",
              "        const buttonEl =\n",
              "          document.querySelector('#df-01ce6181-1750-4110-9465-7fb7f219e468 button.colab-df-convert');\n",
              "        buttonEl.style.display =\n",
              "          google.colab.kernel.accessAllowed ? 'block' : 'none';\n",
              "\n",
              "        async function convertToInteractive(key) {\n",
              "          const element = document.querySelector('#df-01ce6181-1750-4110-9465-7fb7f219e468');\n",
              "          const dataTable =\n",
              "            await google.colab.kernel.invokeFunction('convertToInteractive',\n",
              "                                                     [key], {});\n",
              "          if (!dataTable) return;\n",
              "\n",
              "          const docLinkHtml = 'Like what you see? Visit the ' +\n",
              "            '<a target=\"_blank\" href=https://colab.research.google.com/notebooks/data_table.ipynb>data table notebook</a>'\n",
              "            + ' to learn more about interactive tables.';\n",
              "          element.innerHTML = '';\n",
              "          dataTable['output_type'] = 'display_data';\n",
              "          await google.colab.output.renderOutput(dataTable, element);\n",
              "          const docLink = document.createElement('div');\n",
              "          docLink.innerHTML = docLinkHtml;\n",
              "          element.appendChild(docLink);\n",
              "        }\n",
              "      </script>\n",
              "    </div>\n",
              "  </div>\n",
              "  "
            ],
            "text/plain": [
              "   child  living_place  car_type  age_years\n",
              "0      1             1         0         30\n",
              "1      0             0         1         25\n",
              "2      1             0         0         28\n",
              "3      2             1         0         40\n",
              "4      3             0         2         55\n",
              "5      0             1         1         35\n",
              "6      0             0         0         39\n",
              "7      0             1         1         25\n",
              "8      1             0         0         50\n",
              "9      0             0         1         40"
            ]
          },
          "metadata": {},
          "execution_count": 5
        }
      ]
    },
    {
      "cell_type": "markdown",
      "source": [
        "Распределение фичей"
      ],
      "metadata": {
        "id": "qDhrgNZkqt3X"
      }
    },
    {
      "cell_type": "code",
      "source": [
        "X['living_place'].value_counts()"
      ],
      "metadata": {
        "colab": {
          "base_uri": "https://localhost:8080/"
        },
        "id": "zQP7pNfIquBf",
        "outputId": "4b48c81d-5a12-46a3-a0eb-6a5b4e71e738"
      },
      "execution_count": null,
      "outputs": [
        {
          "output_type": "execute_result",
          "data": {
            "text/plain": [
              "0    6\n",
              "1    4\n",
              "Name: living_place, dtype: int64"
            ]
          },
          "metadata": {},
          "execution_count": 6
        }
      ]
    },
    {
      "cell_type": "code",
      "source": [
        "from sklearn import tree\n",
        "\n",
        "clf = tree.DecisionTreeClassifier(criterion='entropy').fit(X, y)"
      ],
      "metadata": {
        "id": "PfbtrXM6tagJ"
      },
      "execution_count": null,
      "outputs": []
    },
    {
      "cell_type": "markdown",
      "source": [
        "Считаем Accuracy"
      ],
      "metadata": {
        "id": "wZfPQ2KLxpNY"
      }
    },
    {
      "cell_type": "code",
      "source": [
        "predicted_classes = clf.predict(X)\n",
        "\n",
        "accuracy = (predicted_classes == y).sum() / len(y)\n",
        "\n",
        "print(f'Точность предсказаний: {accuracy}')"
      ],
      "metadata": {
        "colab": {
          "base_uri": "https://localhost:8080/"
        },
        "id": "yS2mQrmdviWT",
        "outputId": "3fad0b62-1c7f-4b8e-f2ad-f617b9b66545"
      },
      "execution_count": null,
      "outputs": [
        {
          "output_type": "stream",
          "name": "stdout",
          "text": [
            "Точность предсказаний: 1.0\n"
          ]
        }
      ]
    },
    {
      "cell_type": "markdown",
      "source": [
        "Визуализация"
      ],
      "metadata": {
        "id": "dW6QU6NIoH_K"
      }
    },
    {
      "cell_type": "code",
      "source": [
        "%matplotlib inline\n",
        "from matplotlib import pyplot as plt\n",
        "\n",
        "fig = plt.figure(figsize=(15,10))\n",
        "_ = (\n",
        "    tree.plot_tree(\n",
        "        clf, \n",
        "        feature_names=feature_cols,  \n",
        "        class_names=y_labels,\n",
        "        filled=True\n",
        "    )\n",
        ")"
      ],
      "metadata": {
        "colab": {
          "base_uri": "https://localhost:8080/",
          "height": 575
        },
        "id": "IdgWQzRExsTp",
        "outputId": "0cb4e134-30e3-4d6b-c877-e78fd2fb4e7a"
      },
      "execution_count": null,
      "outputs": [
        {
          "output_type": "display_data",
          "data": {
            "image/png": "[encoded data removed]",
            "text/plain": [
              "<Figure size 1080x720 with 1 Axes>"
            ]
          },
          "metadata": {
            "needs_background": "light"
          }
        }
      ]
    },
    {
      "cell_type": "markdown",
      "source": [
        "Что можно видеть на визуализации\n",
        "* `value` - сколько объектов каждого класса в узле. На первом этапе 4 объекта одного класса и 5 объектов другого - см. `.value_counts()` немного выше\n",
        "* в каждом узле считается энтропия\n",
        "* цветом закодировано количество объектов класса в сплите"
      ],
      "metadata": {
        "id": "92g1YIBnLw2-"
      }
    },
    {
      "cell_type": "markdown",
      "source": [
        "## Как производить разбирение\n",
        "\n",
        "### Энтропия\n",
        "\n",
        "Пусть система находится в $n$  возможных состояниях. Тогда энтропия данных $X$ вычисляется по формуле\n",
        "\n",
        "$$\n",
        "H(X) = - \\sum_{i=1}^{n} p_i\\log_2(p_i)\n",
        "$$\n",
        "\n",
        "Для случая, когда решаем задачу бинарной классфикации $p_0$ - вероятность принадлежности объекта к \"негативному\" классу и $p_1$ - вероятность принадлежности объекта к \"позитивному\" классу. Тогда возможных состояний всего два и формула приобретает вид\n",
        "\n",
        "$$\n",
        "H(X) = - p_0\\log_2(p_0) - p_1\\log_2(p_1)\n",
        "$$\n",
        "\n",
        "Когда делаем сплит и разделяем выборку $X$ из $N$ элементов на две части $X_{\\text{one}}$ и $X_{\\text{two}}$ то энтропия считается в каждой подвыборке отдельно\n",
        "$$\n",
        "H_{\\text{split}}(X) = \\frac{N_{\\text{one}}}{N}H(X_{\\text{one}}) + \\frac{N_{\\text{two}}}{N}H(X_{\\text{two}})\n",
        "$$\n",
        "\n",
        "Для любого разбиения по признаку $Q$ можем посчитать прирост информации (information gain):\n",
        "$$\n",
        "\\text{IG}(Q) = H(X) - H_{\\text{split}}(X)\n",
        "$$\n",
        "\n",
        "Мы строим дерево чтобы снизить неопределённость - на каждом шаге достаточно выбирать такой порог и признак, чтобы получить максимальный выигрыш информации."
      ],
      "metadata": {
        "id": "D3yARakfuB-l"
      }
    },
    {
      "cell_type": "markdown",
      "source": [
        "### Задача\n",
        "\n",
        "Фича *living_place* принимает только категориальные значения (см. выше). Посчитайте энтропию исходного набора данных и при пороге разбиения $0.5$. Будем считать что позитивный лейбл с вероятностью $p_1$ это класс **good**\n",
        "\n",
        "Для вычисления энтропии используйте [numpy.log2](https://numpy.org/doc/stable/reference/generated/numpy.log2.html#numpy.log2)\n",
        "\n",
        "Округление результата выполните в виде\n",
        "\n",
        "```python\n",
        "ROUND_PRECISION = 2\n",
        "print(np.round(H_before - H_after, ROUND_PRECISION))\n",
        "```"
      ],
      "metadata": {
        "id": "fZoyLdD2lPp_"
      }
    },
    {
      "cell_type": "code",
      "source": [
        "SPLIT_THRESHOLD = 0.5\n",
        "\n",
        "df1_split = df[X['living_place'] <= SPLIT_THRESHOLD]\n",
        "df2_split = df[X['living_place'] > SPLIT_THRESHOLD]\n",
        "\n",
        "# --------- ВАШ КОД ТУТ --------\n",
        "def entropy(p1):\n",
        "  \"\"\"p1 - вероятность позитивного класса. Сразу учтите случаи, когда вероятность позитивногокласса равна единице, нулю\"\"\"\n",
        "  res = 1.0\n",
        "  return res\n",
        "\n",
        "def eval_p1(input_df):\n",
        "  \"\"\"Вспомогательная функция вероятность позитивного класса\n",
        "  \n",
        "    найдите сколько строк попадает под условие 'insurance case'== 'good'\n",
        "    разделите на общее количество строк\n",
        "  \"\"\"\n",
        "  res = 0.0\n",
        "  return res\n",
        "\n",
        "\n",
        "split_share_1 = 1.0\n",
        "split_share_2 = 0.0\n",
        "entropy_splt_1 = 0.0\n",
        "entropy_splt_2 = 1.0\n",
        "\n",
        "\n",
        "\n",
        "# --------------------------------\n",
        "H_after = split_share_1*entropy_splt_1 + split_share_2*entropy_splt_1\n",
        "H_before = entropy(eval_p1(df))\n",
        "\n",
        "logger.info('entropy: %.2f ', (np.round(H_before - H_after, 2)))"
      ],
      "metadata": {
        "id": "POW7EG8flOOn",
        "colab": {
          "base_uri": "https://localhost:8080/"
        },
        "outputId": "f1957bb4-03d7-40ff-9500-7edca14bab36"
      },
      "execution_count": null,
      "outputs": [
        {
          "output_type": "stream",
          "name": "stderr",
          "text": [
            "2022-02-23 05:51:50,688 : INFO : entropy: 1.00 \n"
          ]
        }
      ]
    },
    {
      "cell_type": "code",
      "source": [
        "np.round(H_before - H_after, 2)"
      ],
      "metadata": {
        "id": "oCVogvu0shbf"
      },
      "execution_count": null,
      "outputs": []
    },
    {
      "cell_type": "markdown",
      "source": [
        "## Градиентный бустинг\n",
        "\n",
        "### Gradient boosting machine\n",
        "\n",
        "\n",
        "\n",
        "Попробуем реализовать алгоритм градиентного бустинга (GBM) для задачи регрессии"
      ],
      "metadata": {
        "id": "-_2P073FqL9z"
      }
    },
    {
      "cell_type": "code",
      "source": [
        "import pandas as pd\n",
        "\n",
        "raw_data_file = os.path.join(root_data_dir, 'boosting_toy_dataset.csv')\n",
        "df = pd.read_csv(raw_data_file)\n",
        "\n",
        "df.head()"
      ],
      "metadata": {
        "colab": {
          "base_uri": "https://localhost:8080/",
          "height": 206
        },
        "id": "KEW6jZefBpMi",
        "outputId": "5a23b100-4be9-4ec8-c53a-845a28d080b6"
      },
      "execution_count": null,
      "outputs": [
        {
          "output_type": "execute_result",
          "data": {
            "text/html": [
              "\n",
              "  <div id=\"df-9697e163-9203-4d49-b86f-96afa48180aa\">\n",
              "    <div class=\"colab-df-container\">\n",
              "      <div>\n",
              "<style scoped>\n",
              "    .dataframe tbody tr th:only-of-type {\n",
              "        vertical-align: middle;\n",
              "    }\n",
              "\n",
              "    .dataframe tbody tr th {\n",
              "        vertical-align: top;\n",
              "    }\n",
              "\n",
              "    .dataframe thead th {\n",
              "        text-align: right;\n",
              "    }\n",
              "</style>\n",
              "<table border=\"1\" class=\"dataframe\">\n",
              "  <thead>\n",
              "    <tr style=\"text-align: right;\">\n",
              "      <th></th>\n",
              "      <th>feature_0</th>\n",
              "      <th>feature_1</th>\n",
              "      <th>feature_2</th>\n",
              "      <th>y</th>\n",
              "    </tr>\n",
              "  </thead>\n",
              "  <tbody>\n",
              "    <tr>\n",
              "      <th>0</th>\n",
              "      <td>-1.012831</td>\n",
              "      <td>-0.562288</td>\n",
              "      <td>0.314247</td>\n",
              "      <td>-73.903672</td>\n",
              "    </tr>\n",
              "    <tr>\n",
              "      <th>1</th>\n",
              "      <td>-0.234153</td>\n",
              "      <td>1.523030</td>\n",
              "      <td>-0.234137</td>\n",
              "      <td>111.287982</td>\n",
              "    </tr>\n",
              "    <tr>\n",
              "      <th>2</th>\n",
              "      <td>-0.600639</td>\n",
              "      <td>0.375698</td>\n",
              "      <td>-0.291694</td>\n",
              "      <td>1.512835</td>\n",
              "    </tr>\n",
              "    <tr>\n",
              "      <th>3</th>\n",
              "      <td>-1.913280</td>\n",
              "      <td>0.241962</td>\n",
              "      <td>-1.724918</td>\n",
              "      <td>-96.663483</td>\n",
              "    </tr>\n",
              "    <tr>\n",
              "      <th>4</th>\n",
              "      <td>0.767435</td>\n",
              "      <td>1.579213</td>\n",
              "      <td>-0.469474</td>\n",
              "      <td>145.064623</td>\n",
              "    </tr>\n",
              "  </tbody>\n",
              "</table>\n",
              "</div>\n",
              "      <button class=\"colab-df-convert\" onclick=\"convertToInteractive('df-9697e163-9203-4d49-b86f-96afa48180aa')\"\n",
              "              title=\"Convert this dataframe to an interactive table.\"\n",
              "              style=\"display:none;\">\n",
              "        \n",
              "  <svg xmlns=\"http://www.w3.org/2000/svg\" height=\"24px\"viewBox=\"0 0 24 24\"\n",
              "       width=\"24px\">\n",
              "    <path d=\"M0 0h24v24H0V0z\" fill=\"none\"/>\n",
              "    <path d=\"M18.56 5.44l.94 2.06.94-2.06 2.06-.94-2.06-.94-.94-2.06-.94 2.06-2.06.94zm-11 1L8.5 8.5l.94-2.06 2.06-.94-2.06-.94L8.5 2.5l-.94 2.06-2.06.94zm10 10l.94 2.06.94-2.06 2.06-.94-2.06-.94-.94-2.06-.94 2.06-2.06.94z\"/><path d=\"M17.41 7.96l-1.37-1.37c-.4-.4-.92-.59-1.43-.59-.52 0-1.04.2-1.43.59L10.3 9.45l-7.72 7.72c-.78.78-.78 2.05 0 2.83L4 21.41c.39.39.9.59 1.41.59.51 0 1.02-.2 1.41-.59l7.78-7.78 2.81-2.81c.8-.78.8-2.07 0-2.86zM5.41 20L4 18.59l7.72-7.72 1.47 1.35L5.41 20z\"/>\n",
              "  </svg>\n",
              "      </button>\n",
              "      \n",
              "  <style>\n",
              "    .colab-df-container {\n",
              "      display:flex;\n",
              "      flex-wrap:wrap;\n",
              "      gap: 12px;\n",
              "    }\n",
              "\n",
              "    .colab-df-convert {\n",
              "      background-color: #E8F0FE;\n",
              "      border: none;\n",
              "      border-radius: 50%;\n",
              "      cursor: pointer;\n",
              "      display: none;\n",
              "      fill: #1967D2;\n",
              "      height: 32px;\n",
              "      padding: 0 0 0 0;\n",
              "      width: 32px;\n",
              "    }\n",
              "\n",
              "    .colab-df-convert:hover {\n",
              "      background-color: #E2EBFA;\n",
              "      box-shadow: 0px 1px 2px rgba(60, 64, 67, 0.3), 0px 1px 3px 1px rgba(60, 64, 67, 0.15);\n",
              "      fill: #174EA6;\n",
              "    }\n",
              "\n",
              "    [theme=dark] .colab-df-convert {\n",
              "      background-color: #3B4455;\n",
              "      fill: #D2E3FC;\n",
              "    }\n",
              "\n",
              "    [theme=dark] .colab-df-convert:hover {\n",
              "      background-color: #434B5C;\n",
              "      box-shadow: 0px 1px 3px 1px rgba(0, 0, 0, 0.15);\n",
              "      filter: drop-shadow(0px 1px 2px rgba(0, 0, 0, 0.3));\n",
              "      fill: #FFFFFF;\n",
              "    }\n",
              "  </style>\n",
              "\n",
              "      <script>\n",
              "        const buttonEl =\n",
              "          document.querySelector('#df-9697e163-9203-4d49-b86f-96afa48180aa button.colab-df-convert');\n",
              "        buttonEl.style.display =\n",
              "          google.colab.kernel.accessAllowed ? 'block' : 'none';\n",
              "\n",
              "        async function convertToInteractive(key) {\n",
              "          const element = document.querySelector('#df-9697e163-9203-4d49-b86f-96afa48180aa');\n",
              "          const dataTable =\n",
              "            await google.colab.kernel.invokeFunction('convertToInteractive',\n",
              "                                                     [key], {});\n",
              "          if (!dataTable) return;\n",
              "\n",
              "          const docLinkHtml = 'Like what you see? Visit the ' +\n",
              "            '<a target=\"_blank\" href=https://colab.research.google.com/notebooks/data_table.ipynb>data table notebook</a>'\n",
              "            + ' to learn more about interactive tables.';\n",
              "          element.innerHTML = '';\n",
              "          dataTable['output_type'] = 'display_data';\n",
              "          await google.colab.output.renderOutput(dataTable, element);\n",
              "          const docLink = document.createElement('div');\n",
              "          docLink.innerHTML = docLinkHtml;\n",
              "          element.appendChild(docLink);\n",
              "        }\n",
              "      </script>\n",
              "    </div>\n",
              "  </div>\n",
              "  "
            ],
            "text/plain": [
              "   feature_0  feature_1  feature_2           y\n",
              "0  -1.012831  -0.562288   0.314247  -73.903672\n",
              "1  -0.234153   1.523030  -0.234137  111.287982\n",
              "2  -0.600639   0.375698  -0.291694    1.512835\n",
              "3  -1.913280   0.241962  -1.724918  -96.663483\n",
              "4   0.767435   1.579213  -0.469474  145.064623"
            ]
          },
          "metadata": {},
          "execution_count": 12
        }
      ]
    },
    {
      "cell_type": "markdown",
      "source": [
        "На фичах будем постоянно обучаться поэтому сохраним их в отдельную переменную"
      ],
      "metadata": {
        "id": "TXGrVbdM4A3R"
      }
    },
    {
      "cell_type": "code",
      "source": [
        "feature_cols = ['feature_0', 'feature_1', 'feature_2']"
      ],
      "metadata": {
        "id": "mNAJzrud4BM5"
      },
      "execution_count": null,
      "outputs": []
    },
    {
      "cell_type": "markdown",
      "source": [
        "Нулевое приближение в виде среднего `y.mean()` - это наш самый слабый предсказатель, будем его итеративно улучшать"
      ],
      "metadata": {
        "id": "wgpaRQ4n2d_J"
      }
    },
    {
      "cell_type": "code",
      "source": [
        "df['y_hat_0'] = df['y'].mean()\n",
        "df.head()"
      ],
      "metadata": {
        "colab": {
          "base_uri": "https://localhost:8080/",
          "height": 206
        },
        "id": "-06zOSpu2eLo",
        "outputId": "644d7614-d12e-4807-98b1-723a89929609"
      },
      "execution_count": null,
      "outputs": [
        {
          "output_type": "execute_result",
          "data": {
            "text/html": [
              "\n",
              "  <div id=\"df-88bb9a58-8df5-4774-8abd-b7a5ce0396c9\">\n",
              "    <div class=\"colab-df-container\">\n",
              "      <div>\n",
              "<style scoped>\n",
              "    .dataframe tbody tr th:only-of-type {\n",
              "        vertical-align: middle;\n",
              "    }\n",
              "\n",
              "    .dataframe tbody tr th {\n",
              "        vertical-align: top;\n",
              "    }\n",
              "\n",
              "    .dataframe thead th {\n",
              "        text-align: right;\n",
              "    }\n",
              "</style>\n",
              "<table border=\"1\" class=\"dataframe\">\n",
              "  <thead>\n",
              "    <tr style=\"text-align: right;\">\n",
              "      <th></th>\n",
              "      <th>feature_0</th>\n",
              "      <th>feature_1</th>\n",
              "      <th>feature_2</th>\n",
              "      <th>y</th>\n",
              "      <th>y_hat_0</th>\n",
              "    </tr>\n",
              "  </thead>\n",
              "  <tbody>\n",
              "    <tr>\n",
              "      <th>0</th>\n",
              "      <td>-1.012831</td>\n",
              "      <td>-0.562288</td>\n",
              "      <td>0.314247</td>\n",
              "      <td>-73.903672</td>\n",
              "      <td>-15.885802</td>\n",
              "    </tr>\n",
              "    <tr>\n",
              "      <th>1</th>\n",
              "      <td>-0.234153</td>\n",
              "      <td>1.523030</td>\n",
              "      <td>-0.234137</td>\n",
              "      <td>111.287982</td>\n",
              "      <td>-15.885802</td>\n",
              "    </tr>\n",
              "    <tr>\n",
              "      <th>2</th>\n",
              "      <td>-0.600639</td>\n",
              "      <td>0.375698</td>\n",
              "      <td>-0.291694</td>\n",
              "      <td>1.512835</td>\n",
              "      <td>-15.885802</td>\n",
              "    </tr>\n",
              "    <tr>\n",
              "      <th>3</th>\n",
              "      <td>-1.913280</td>\n",
              "      <td>0.241962</td>\n",
              "      <td>-1.724918</td>\n",
              "      <td>-96.663483</td>\n",
              "      <td>-15.885802</td>\n",
              "    </tr>\n",
              "    <tr>\n",
              "      <th>4</th>\n",
              "      <td>0.767435</td>\n",
              "      <td>1.579213</td>\n",
              "      <td>-0.469474</td>\n",
              "      <td>145.064623</td>\n",
              "      <td>-15.885802</td>\n",
              "    </tr>\n",
              "  </tbody>\n",
              "</table>\n",
              "</div>\n",
              "      <button class=\"colab-df-convert\" onclick=\"convertToInteractive('df-88bb9a58-8df5-4774-8abd-b7a5ce0396c9')\"\n",
              "              title=\"Convert this dataframe to an interactive table.\"\n",
              "              style=\"display:none;\">\n",
              "        \n",
              "  <svg xmlns=\"http://www.w3.org/2000/svg\" height=\"24px\"viewBox=\"0 0 24 24\"\n",
              "       width=\"24px\">\n",
              "    <path d=\"M0 0h24v24H0V0z\" fill=\"none\"/>\n",
              "    <path d=\"M18.56 5.44l.94 2.06.94-2.06 2.06-.94-2.06-.94-.94-2.06-.94 2.06-2.06.94zm-11 1L8.5 8.5l.94-2.06 2.06-.94-2.06-.94L8.5 2.5l-.94 2.06-2.06.94zm10 10l.94 2.06.94-2.06 2.06-.94-2.06-.94-.94-2.06-.94 2.06-2.06.94z\"/><path d=\"M17.41 7.96l-1.37-1.37c-.4-.4-.92-.59-1.43-.59-.52 0-1.04.2-1.43.59L10.3 9.45l-7.72 7.72c-.78.78-.78 2.05 0 2.83L4 21.41c.39.39.9.59 1.41.59.51 0 1.02-.2 1.41-.59l7.78-7.78 2.81-2.81c.8-.78.8-2.07 0-2.86zM5.41 20L4 18.59l7.72-7.72 1.47 1.35L5.41 20z\"/>\n",
              "  </svg>\n",
              "      </button>\n",
              "      \n",
              "  <style>\n",
              "    .colab-df-container {\n",
              "      display:flex;\n",
              "      flex-wrap:wrap;\n",
              "      gap: 12px;\n",
              "    }\n",
              "\n",
              "    .colab-df-convert {\n",
              "      background-color: #E8F0FE;\n",
              "      border: none;\n",
              "      border-radius: 50%;\n",
              "      cursor: pointer;\n",
              "      display: none;\n",
              "      fill: #1967D2;\n",
              "      height: 32px;\n",
              "      padding: 0 0 0 0;\n",
              "      width: 32px;\n",
              "    }\n",
              "\n",
              "    .colab-df-convert:hover {\n",
              "      background-color: #E2EBFA;\n",
              "      box-shadow: 0px 1px 2px rgba(60, 64, 67, 0.3), 0px 1px 3px 1px rgba(60, 64, 67, 0.15);\n",
              "      fill: #174EA6;\n",
              "    }\n",
              "\n",
              "    [theme=dark] .colab-df-convert {\n",
              "      background-color: #3B4455;\n",
              "      fill: #D2E3FC;\n",
              "    }\n",
              "\n",
              "    [theme=dark] .colab-df-convert:hover {\n",
              "      background-color: #434B5C;\n",
              "      box-shadow: 0px 1px 3px 1px rgba(0, 0, 0, 0.15);\n",
              "      filter: drop-shadow(0px 1px 2px rgba(0, 0, 0, 0.3));\n",
              "      fill: #FFFFFF;\n",
              "    }\n",
              "  </style>\n",
              "\n",
              "      <script>\n",
              "        const buttonEl =\n",
              "          document.querySelector('#df-88bb9a58-8df5-4774-8abd-b7a5ce0396c9 button.colab-df-convert');\n",
              "        buttonEl.style.display =\n",
              "          google.colab.kernel.accessAllowed ? 'block' : 'none';\n",
              "\n",
              "        async function convertToInteractive(key) {\n",
              "          const element = document.querySelector('#df-88bb9a58-8df5-4774-8abd-b7a5ce0396c9');\n",
              "          const dataTable =\n",
              "            await google.colab.kernel.invokeFunction('convertToInteractive',\n",
              "                                                     [key], {});\n",
              "          if (!dataTable) return;\n",
              "\n",
              "          const docLinkHtml = 'Like what you see? Visit the ' +\n",
              "            '<a target=\"_blank\" href=https://colab.research.google.com/notebooks/data_table.ipynb>data table notebook</a>'\n",
              "            + ' to learn more about interactive tables.';\n",
              "          element.innerHTML = '';\n",
              "          dataTable['output_type'] = 'display_data';\n",
              "          await google.colab.output.renderOutput(dataTable, element);\n",
              "          const docLink = document.createElement('div');\n",
              "          docLink.innerHTML = docLinkHtml;\n",
              "          element.appendChild(docLink);\n",
              "        }\n",
              "      </script>\n",
              "    </div>\n",
              "  </div>\n",
              "  "
            ],
            "text/plain": [
              "   feature_0  feature_1  feature_2           y    y_hat_0\n",
              "0  -1.012831  -0.562288   0.314247  -73.903672 -15.885802\n",
              "1  -0.234153   1.523030  -0.234137  111.287982 -15.885802\n",
              "2  -0.600639   0.375698  -0.291694    1.512835 -15.885802\n",
              "3  -1.913280   0.241962  -1.724918  -96.663483 -15.885802\n",
              "4   0.767435   1.579213  -0.469474  145.064623 -15.885802"
            ]
          },
          "metadata": {},
          "execution_count": 14
        }
      ]
    },
    {
      "cell_type": "code",
      "source": [
        "df['y'].hist(bins=4)"
      ],
      "metadata": {
        "colab": {
          "base_uri": "https://localhost:8080/",
          "height": 283
        },
        "id": "-ZF_ZbiXJfaX",
        "outputId": "ed4a8730-6840-4a51-ce64-cfeda66e83ee"
      },
      "execution_count": null,
      "outputs": [
        {
          "output_type": "execute_result",
          "data": {
            "text/plain": [
              "<matplotlib.axes._subplots.AxesSubplot at 0x7f1978764ed0>"
            ]
          },
          "metadata": {},
          "execution_count": 18
        },
        {
          "output_type": "display_data",
          "data": {
            "image/png": "[encoded data removed]",
            "text/plain": [
              "<Figure size 432x288 with 1 Axes>"
            ]
          },
          "metadata": {
            "needs_background": "light"
          }
        }
      ]
    },
    {
      "cell_type": "markdown",
      "source": [
        "Чтобы узнать, \"куда бустить\" включаем наши знания о градиентах. Функкция потерь у нас такая же как в линейной регрессии (вспоминаем лекцию)\n",
        "$$\n",
        "L(y_i, F(x_i)) = \\frac{1}{2}\\left( y_i - \\hat{y}_i\\right)^2\n",
        "$$\n",
        "\n",
        "Бустить мы хотим сами регрессоры, поэтому и градиеент мы изем прямо по предсказаниям в каждой точке $i$ для итерации $1$ и всех последующих. Вычисляем со знаком \"минус\" т.к. нужен анти-градиент. \n",
        "$$\n",
        "r_{i1} = -\\frac{\\partial L(y, F(x_i))}{\\partial\\hat{y}_i} = -(-1)\\frac{1}{2}2\\left( y - \\hat{y}\\right)\n",
        "$$\n",
        "\n",
        "Мы выкидываем \"двойку\" - это постоянный множитель, дополнительной информации он не несёт и вычисляем столбец с псеводоостатками, который назовём `resudals`. Мину пропадает, т.к. считаем антиградиент"
      ],
      "metadata": {
        "id": "34H8TUJj2uca"
      }
    },
    {
      "cell_type": "code",
      "source": [
        "df['y_resudal_1'] = df['y'] - df['y_hat_0']\n",
        "df.head()"
      ],
      "metadata": {
        "colab": {
          "base_uri": "https://localhost:8080/",
          "height": 206
        },
        "id": "5ymObv5s2tL8",
        "outputId": "f34047c1-d8e0-459b-974e-f055611d551f"
      },
      "execution_count": null,
      "outputs": [
        {
          "output_type": "execute_result",
          "data": {
            "text/html": [
              "\n",
              "  <div id=\"df-c8bbfad6-547d-4fc4-b576-71258373f451\">\n",
              "    <div class=\"colab-df-container\">\n",
              "      <div>\n",
              "<style scoped>\n",
              "    .dataframe tbody tr th:only-of-type {\n",
              "        vertical-align: middle;\n",
              "    }\n",
              "\n",
              "    .dataframe tbody tr th {\n",
              "        vertical-align: top;\n",
              "    }\n",
              "\n",
              "    .dataframe thead th {\n",
              "        text-align: right;\n",
              "    }\n",
              "</style>\n",
              "<table border=\"1\" class=\"dataframe\">\n",
              "  <thead>\n",
              "    <tr style=\"text-align: right;\">\n",
              "      <th></th>\n",
              "      <th>feature_0</th>\n",
              "      <th>feature_1</th>\n",
              "      <th>feature_2</th>\n",
              "      <th>y</th>\n",
              "      <th>y_hat_0</th>\n",
              "      <th>y_resudal_1</th>\n",
              "    </tr>\n",
              "  </thead>\n",
              "  <tbody>\n",
              "    <tr>\n",
              "      <th>0</th>\n",
              "      <td>-1.012831</td>\n",
              "      <td>-0.562288</td>\n",
              "      <td>0.314247</td>\n",
              "      <td>-73.903672</td>\n",
              "      <td>-15.885802</td>\n",
              "      <td>-58.017870</td>\n",
              "    </tr>\n",
              "    <tr>\n",
              "      <th>1</th>\n",
              "      <td>-0.234153</td>\n",
              "      <td>1.523030</td>\n",
              "      <td>-0.234137</td>\n",
              "      <td>111.287982</td>\n",
              "      <td>-15.885802</td>\n",
              "      <td>127.173784</td>\n",
              "    </tr>\n",
              "    <tr>\n",
              "      <th>2</th>\n",
              "      <td>-0.600639</td>\n",
              "      <td>0.375698</td>\n",
              "      <td>-0.291694</td>\n",
              "      <td>1.512835</td>\n",
              "      <td>-15.885802</td>\n",
              "      <td>17.398636</td>\n",
              "    </tr>\n",
              "    <tr>\n",
              "      <th>3</th>\n",
              "      <td>-1.913280</td>\n",
              "      <td>0.241962</td>\n",
              "      <td>-1.724918</td>\n",
              "      <td>-96.663483</td>\n",
              "      <td>-15.885802</td>\n",
              "      <td>-80.777681</td>\n",
              "    </tr>\n",
              "    <tr>\n",
              "      <th>4</th>\n",
              "      <td>0.767435</td>\n",
              "      <td>1.579213</td>\n",
              "      <td>-0.469474</td>\n",
              "      <td>145.064623</td>\n",
              "      <td>-15.885802</td>\n",
              "      <td>160.950425</td>\n",
              "    </tr>\n",
              "  </tbody>\n",
              "</table>\n",
              "</div>\n",
              "      <button class=\"colab-df-convert\" onclick=\"convertToInteractive('df-c8bbfad6-547d-4fc4-b576-71258373f451')\"\n",
              "              title=\"Convert this dataframe to an interactive table.\"\n",
              "              style=\"display:none;\">\n",
              "        \n",
              "  <svg xmlns=\"http://www.w3.org/2000/svg\" height=\"24px\"viewBox=\"0 0 24 24\"\n",
              "       width=\"24px\">\n",
              "    <path d=\"M0 0h24v24H0V0z\" fill=\"none\"/>\n",
              "    <path d=\"M18.56 5.44l.94 2.06.94-2.06 2.06-.94-2.06-.94-.94-2.06-.94 2.06-2.06.94zm-11 1L8.5 8.5l.94-2.06 2.06-.94-2.06-.94L8.5 2.5l-.94 2.06-2.06.94zm10 10l.94 2.06.94-2.06 2.06-.94-2.06-.94-.94-2.06-.94 2.06-2.06.94z\"/><path d=\"M17.41 7.96l-1.37-1.37c-.4-.4-.92-.59-1.43-.59-.52 0-1.04.2-1.43.59L10.3 9.45l-7.72 7.72c-.78.78-.78 2.05 0 2.83L4 21.41c.39.39.9.59 1.41.59.51 0 1.02-.2 1.41-.59l7.78-7.78 2.81-2.81c.8-.78.8-2.07 0-2.86zM5.41 20L4 18.59l7.72-7.72 1.47 1.35L5.41 20z\"/>\n",
              "  </svg>\n",
              "      </button>\n",
              "      \n",
              "  <style>\n",
              "    .colab-df-container {\n",
              "      display:flex;\n",
              "      flex-wrap:wrap;\n",
              "      gap: 12px;\n",
              "    }\n",
              "\n",
              "    .colab-df-convert {\n",
              "      background-color: #E8F0FE;\n",
              "      border: none;\n",
              "      border-radius: 50%;\n",
              "      cursor: pointer;\n",
              "      display: none;\n",
              "      fill: #1967D2;\n",
              "      height: 32px;\n",
              "      padding: 0 0 0 0;\n",
              "      width: 32px;\n",
              "    }\n",
              "\n",
              "    .colab-df-convert:hover {\n",
              "      background-color: #E2EBFA;\n",
              "      box-shadow: 0px 1px 2px rgba(60, 64, 67, 0.3), 0px 1px 3px 1px rgba(60, 64, 67, 0.15);\n",
              "      fill: #174EA6;\n",
              "    }\n",
              "\n",
              "    [theme=dark] .colab-df-convert {\n",
              "      background-color: #3B4455;\n",
              "      fill: #D2E3FC;\n",
              "    }\n",
              "\n",
              "    [theme=dark] .colab-df-convert:hover {\n",
              "      background-color: #434B5C;\n",
              "      box-shadow: 0px 1px 3px 1px rgba(0, 0, 0, 0.15);\n",
              "      filter: drop-shadow(0px 1px 2px rgba(0, 0, 0, 0.3));\n",
              "      fill: #FFFFFF;\n",
              "    }\n",
              "  </style>\n",
              "\n",
              "      <script>\n",
              "        const buttonEl =\n",
              "          document.querySelector('#df-c8bbfad6-547d-4fc4-b576-71258373f451 button.colab-df-convert');\n",
              "        buttonEl.style.display =\n",
              "          google.colab.kernel.accessAllowed ? 'block' : 'none';\n",
              "\n",
              "        async function convertToInteractive(key) {\n",
              "          const element = document.querySelector('#df-c8bbfad6-547d-4fc4-b576-71258373f451');\n",
              "          const dataTable =\n",
              "            await google.colab.kernel.invokeFunction('convertToInteractive',\n",
              "                                                     [key], {});\n",
              "          if (!dataTable) return;\n",
              "\n",
              "          const docLinkHtml = 'Like what you see? Visit the ' +\n",
              "            '<a target=\"_blank\" href=https://colab.research.google.com/notebooks/data_table.ipynb>data table notebook</a>'\n",
              "            + ' to learn more about interactive tables.';\n",
              "          element.innerHTML = '';\n",
              "          dataTable['output_type'] = 'display_data';\n",
              "          await google.colab.output.renderOutput(dataTable, element);\n",
              "          const docLink = document.createElement('div');\n",
              "          docLink.innerHTML = docLinkHtml;\n",
              "          element.appendChild(docLink);\n",
              "        }\n",
              "      </script>\n",
              "    </div>\n",
              "  </div>\n",
              "  "
            ],
            "text/plain": [
              "   feature_0  feature_1  feature_2           y    y_hat_0  y_resudal_1\n",
              "0  -1.012831  -0.562288   0.314247  -73.903672 -15.885802   -58.017870\n",
              "1  -0.234153   1.523030  -0.234137  111.287982 -15.885802   127.173784\n",
              "2  -0.600639   0.375698  -0.291694    1.512835 -15.885802    17.398636\n",
              "3  -1.913280   0.241962  -1.724918  -96.663483 -15.885802   -80.777681\n",
              "4   0.767435   1.579213  -0.469474  145.064623 -15.885802   160.950425"
            ]
          },
          "metadata": {},
          "execution_count": 20
        }
      ]
    },
    {
      "cell_type": "markdown",
      "source": [
        "Строим новый базовый регрессор $h_1(x)$. Предсказываем псевдо-остатки с предыдущего шага."
      ],
      "metadata": {
        "id": "FklKfCVJ3efK"
      }
    },
    {
      "cell_type": "code",
      "source": [
        "from sklearn.tree import DecisionTreeRegressor, plot_tree\n",
        "\n",
        "tree_1 = DecisionTreeRegressor(max_depth=1)\n",
        "targret_resudal = 'y_resudal_1'\n",
        "tree_1.fit(df[feature_cols], df[targret_resudal])"
      ],
      "metadata": {
        "colab": {
          "base_uri": "https://localhost:8080/"
        },
        "id": "6sLhUdra2tlP",
        "outputId": "604341cc-9fc4-4a83-cd75-80a7ad2baebd"
      },
      "execution_count": null,
      "outputs": [
        {
          "output_type": "execute_result",
          "data": {
            "text/plain": [
              "DecisionTreeRegressor(max_depth=1)"
            ]
          },
          "metadata": {},
          "execution_count": 21
        }
      ]
    },
    {
      "cell_type": "markdown",
      "source": [
        "Делаем предикт псевдо-остатков с помощью базового регрессора"
      ],
      "metadata": {
        "id": "zc3Skmgn6cZ_"
      }
    },
    {
      "cell_type": "code",
      "source": [
        "df['resudal_predict_1'] = tree_1.predict(df[feature_cols])"
      ],
      "metadata": {
        "id": "k_v5JIV06crN"
      },
      "execution_count": null,
      "outputs": []
    },
    {
      "cell_type": "markdown",
      "source": [
        "Последний шаг - бустим предикшн\n",
        "* по фичам предсказываем ошибку\n",
        "* добавляем к базовому предикту предкит ошибки $y = \\hat{y}_0 + \\gamma h_1(x)$\n",
        "* $\\gamma$ - это *learning rate* в лекци он адаптивный, но для простоты можно использовать константный"
      ],
      "metadata": {
        "id": "TBsAggg_CJYf"
      }
    },
    {
      "cell_type": "code",
      "source": [
        "gamma = 0.01\n",
        "\n",
        "df['y_hat_1'] = df['y_hat_0'] + gamma*df['y_resudal_1']\n",
        "df.head()"
      ],
      "metadata": {
        "colab": {
          "base_uri": "https://localhost:8080/",
          "height": 206
        },
        "id": "rzD6RQVnCJp3",
        "outputId": "8be765b7-b18f-4aab-b1f7-3274e128d1c4"
      },
      "execution_count": null,
      "outputs": [
        {
          "output_type": "execute_result",
          "data": {
            "text/html": [
              "\n",
              "  <div id=\"df-810bcb2c-9ce3-4888-a8cd-abc2ab43fdbf\">\n",
              "    <div class=\"colab-df-container\">\n",
              "      <div>\n",
              "<style scoped>\n",
              "    .dataframe tbody tr th:only-of-type {\n",
              "        vertical-align: middle;\n",
              "    }\n",
              "\n",
              "    .dataframe tbody tr th {\n",
              "        vertical-align: top;\n",
              "    }\n",
              "\n",
              "    .dataframe thead th {\n",
              "        text-align: right;\n",
              "    }\n",
              "</style>\n",
              "<table border=\"1\" class=\"dataframe\">\n",
              "  <thead>\n",
              "    <tr style=\"text-align: right;\">\n",
              "      <th></th>\n",
              "      <th>feature_0</th>\n",
              "      <th>feature_1</th>\n",
              "      <th>feature_2</th>\n",
              "      <th>y</th>\n",
              "      <th>y_hat_0</th>\n",
              "      <th>y_resudal_1</th>\n",
              "      <th>resudal_predict_1</th>\n",
              "      <th>y_hat_1</th>\n",
              "    </tr>\n",
              "  </thead>\n",
              "  <tbody>\n",
              "    <tr>\n",
              "      <th>0</th>\n",
              "      <td>-1.012831</td>\n",
              "      <td>-0.562288</td>\n",
              "      <td>0.314247</td>\n",
              "      <td>-73.903672</td>\n",
              "      <td>-15.885802</td>\n",
              "      <td>-58.017870</td>\n",
              "      <td>-35.424637</td>\n",
              "      <td>-16.465980</td>\n",
              "    </tr>\n",
              "    <tr>\n",
              "      <th>1</th>\n",
              "      <td>-0.234153</td>\n",
              "      <td>1.523030</td>\n",
              "      <td>-0.234137</td>\n",
              "      <td>111.287982</td>\n",
              "      <td>-15.885802</td>\n",
              "      <td>127.173784</td>\n",
              "      <td>97.417752</td>\n",
              "      <td>-14.614064</td>\n",
              "    </tr>\n",
              "    <tr>\n",
              "      <th>2</th>\n",
              "      <td>-0.600639</td>\n",
              "      <td>0.375698</td>\n",
              "      <td>-0.291694</td>\n",
              "      <td>1.512835</td>\n",
              "      <td>-15.885802</td>\n",
              "      <td>17.398636</td>\n",
              "      <td>-35.424637</td>\n",
              "      <td>-15.711815</td>\n",
              "    </tr>\n",
              "    <tr>\n",
              "      <th>3</th>\n",
              "      <td>-1.913280</td>\n",
              "      <td>0.241962</td>\n",
              "      <td>-1.724918</td>\n",
              "      <td>-96.663483</td>\n",
              "      <td>-15.885802</td>\n",
              "      <td>-80.777681</td>\n",
              "      <td>-35.424637</td>\n",
              "      <td>-16.693578</td>\n",
              "    </tr>\n",
              "    <tr>\n",
              "      <th>4</th>\n",
              "      <td>0.767435</td>\n",
              "      <td>1.579213</td>\n",
              "      <td>-0.469474</td>\n",
              "      <td>145.064623</td>\n",
              "      <td>-15.885802</td>\n",
              "      <td>160.950425</td>\n",
              "      <td>97.417752</td>\n",
              "      <td>-14.276297</td>\n",
              "    </tr>\n",
              "  </tbody>\n",
              "</table>\n",
              "</div>\n",
              "      <button class=\"colab-df-convert\" onclick=\"convertToInteractive('df-810bcb2c-9ce3-4888-a8cd-abc2ab43fdbf')\"\n",
              "              title=\"Convert this dataframe to an interactive table.\"\n",
              "              style=\"display:none;\">\n",
              "        \n",
              "  <svg xmlns=\"http://www.w3.org/2000/svg\" height=\"24px\"viewBox=\"0 0 24 24\"\n",
              "       width=\"24px\">\n",
              "    <path d=\"M0 0h24v24H0V0z\" fill=\"none\"/>\n",
              "    <path d=\"M18.56 5.44l.94 2.06.94-2.06 2.06-.94-2.06-.94-.94-2.06-.94 2.06-2.06.94zm-11 1L8.5 8.5l.94-2.06 2.06-.94-2.06-.94L8.5 2.5l-.94 2.06-2.06.94zm10 10l.94 2.06.94-2.06 2.06-.94-2.06-.94-.94-2.06-.94 2.06-2.06.94z\"/><path d=\"M17.41 7.96l-1.37-1.37c-.4-.4-.92-.59-1.43-.59-.52 0-1.04.2-1.43.59L10.3 9.45l-7.72 7.72c-.78.78-.78 2.05 0 2.83L4 21.41c.39.39.9.59 1.41.59.51 0 1.02-.2 1.41-.59l7.78-7.78 2.81-2.81c.8-.78.8-2.07 0-2.86zM5.41 20L4 18.59l7.72-7.72 1.47 1.35L5.41 20z\"/>\n",
              "  </svg>\n",
              "      </button>\n",
              "      \n",
              "  <style>\n",
              "    .colab-df-container {\n",
              "      display:flex;\n",
              "      flex-wrap:wrap;\n",
              "      gap: 12px;\n",
              "    }\n",
              "\n",
              "    .colab-df-convert {\n",
              "      background-color: #E8F0FE;\n",
              "      border: none;\n",
              "      border-radius: 50%;\n",
              "      cursor: pointer;\n",
              "      display: none;\n",
              "      fill: #1967D2;\n",
              "      height: 32px;\n",
              "      padding: 0 0 0 0;\n",
              "      width: 32px;\n",
              "    }\n",
              "\n",
              "    .colab-df-convert:hover {\n",
              "      background-color: #E2EBFA;\n",
              "      box-shadow: 0px 1px 2px rgba(60, 64, 67, 0.3), 0px 1px 3px 1px rgba(60, 64, 67, 0.15);\n",
              "      fill: #174EA6;\n",
              "    }\n",
              "\n",
              "    [theme=dark] .colab-df-convert {\n",
              "      background-color: #3B4455;\n",
              "      fill: #D2E3FC;\n",
              "    }\n",
              "\n",
              "    [theme=dark] .colab-df-convert:hover {\n",
              "      background-color: #434B5C;\n",
              "      box-shadow: 0px 1px 3px 1px rgba(0, 0, 0, 0.15);\n",
              "      filter: drop-shadow(0px 1px 2px rgba(0, 0, 0, 0.3));\n",
              "      fill: #FFFFFF;\n",
              "    }\n",
              "  </style>\n",
              "\n",
              "      <script>\n",
              "        const buttonEl =\n",
              "          document.querySelector('#df-810bcb2c-9ce3-4888-a8cd-abc2ab43fdbf button.colab-df-convert');\n",
              "        buttonEl.style.display =\n",
              "          google.colab.kernel.accessAllowed ? 'block' : 'none';\n",
              "\n",
              "        async function convertToInteractive(key) {\n",
              "          const element = document.querySelector('#df-810bcb2c-9ce3-4888-a8cd-abc2ab43fdbf');\n",
              "          const dataTable =\n",
              "            await google.colab.kernel.invokeFunction('convertToInteractive',\n",
              "                                                     [key], {});\n",
              "          if (!dataTable) return;\n",
              "\n",
              "          const docLinkHtml = 'Like what you see? Visit the ' +\n",
              "            '<a target=\"_blank\" href=https://colab.research.google.com/notebooks/data_table.ipynb>data table notebook</a>'\n",
              "            + ' to learn more about interactive tables.';\n",
              "          element.innerHTML = '';\n",
              "          dataTable['output_type'] = 'display_data';\n",
              "          await google.colab.output.renderOutput(dataTable, element);\n",
              "          const docLink = document.createElement('div');\n",
              "          docLink.innerHTML = docLinkHtml;\n",
              "          element.appendChild(docLink);\n",
              "        }\n",
              "      </script>\n",
              "    </div>\n",
              "  </div>\n",
              "  "
            ],
            "text/plain": [
              "   feature_0  feature_1  feature_2  ...  y_resudal_1  resudal_predict_1    y_hat_1\n",
              "0  -1.012831  -0.562288   0.314247  ...   -58.017870         -35.424637 -16.465980\n",
              "1  -0.234153   1.523030  -0.234137  ...   127.173784          97.417752 -14.614064\n",
              "2  -0.600639   0.375698  -0.291694  ...    17.398636         -35.424637 -15.711815\n",
              "3  -1.913280   0.241962  -1.724918  ...   -80.777681         -35.424637 -16.693578\n",
              "4   0.767435   1.579213  -0.469474  ...   160.950425          97.417752 -14.276297\n",
              "\n",
              "[5 rows x 8 columns]"
            ]
          },
          "metadata": {},
          "execution_count": 23
        }
      ]
    },
    {
      "cell_type": "markdown",
      "source": [
        "Ура! сделали первую итерацию бустинга, дальше можно упаковать в цикл чтобы посчитать $\\hat{y_2}, \\hat{y_3}, \\ldots$. В цикле нужно будет сохранить все деревья обученные на псевдоостатках - потом будем делать предикт.\n",
        "\n",
        "Т.к. менятся ошибка, то и деревья будут разными.\n",
        "\n",
        "Для уверенности проверим, что нам удалось уменьшить ошибку"
      ],
      "metadata": {
        "id": "Vppr6YCgElNj"
      }
    },
    {
      "cell_type": "code",
      "source": [
        "from sklearn.metrics import mean_absolute_error\n",
        "\n",
        "logger.info('iteration_0: %.4f', mean_absolute_error(df['y'], df['y_hat_0']))  # константное предсказание\n",
        "logger.info('iteration_1: %.4f', mean_absolute_error(df['y'], df['y_hat_1']))"
      ],
      "metadata": {
        "colab": {
          "base_uri": "https://localhost:8080/"
        },
        "id": "WkQ5aH12Elb1",
        "outputId": "02ca6f4e-b3a6-4718-8dd6-4997c499ab40"
      },
      "execution_count": null,
      "outputs": [
        {
          "output_type": "stream",
          "name": "stderr",
          "text": [
            "2022-02-14 17:06:38,437 : INFO : iteration_0: 66.9535\n",
            "2022-02-14 17:06:38,441 : INFO : iteration_1: 66.2839\n"
          ]
        }
      ]
    },
    {
      "cell_type": "markdown",
      "source": [
        "Победа, ошибка немного но уменьшилась. Следующими интерациями можно будет ещё сильнее забустить предсказания и уменьшить ошибку\n",
        "\n",
        "Можно делать хоть 10 деревьев, хоть 100 - точное число нужно на кросс-валидации подобрать "
      ],
      "metadata": {
        "id": "gmImkIS2F08v"
      }
    },
    {
      "cell_type": "code",
      "source": [
        "np.sqrt((df['y'] - df['y_hat_1'])**2).hist(bins=5)"
      ],
      "metadata": {
        "colab": {
          "base_uri": "https://localhost:8080/",
          "height": 283
        },
        "id": "80Lus4fXGCT5",
        "outputId": "362ee724-41b2-44d9-a7fd-4c783e931982"
      },
      "execution_count": null,
      "outputs": [
        {
          "output_type": "execute_result",
          "data": {
            "text/plain": [
              "<matplotlib.axes._subplots.AxesSubplot at 0x7f1978015990>"
            ]
          },
          "metadata": {},
          "execution_count": 25
        },
        {
          "output_type": "display_data",
          "data": {
            "image/png": "[encoded data removed]",
            "text/plain": [
              "<Figure size 432x288 with 1 Axes>"
            ]
          },
          "metadata": {
            "needs_background": "light"
          }
        }
      ]
    },
    {
      "cell_type": "markdown",
      "source": [
        "Посмотрим, какое дерево обучилось на остатках.\n",
        "\n",
        "Такое дерево называется \"пень\" (stomp)"
      ],
      "metadata": {
        "id": "vX1q7bkB3YvV"
      }
    },
    {
      "cell_type": "code",
      "source": [
        "%matplotlib inline\n",
        "from matplotlib import pyplot as plt\n",
        "\n",
        "fig = plt.figure(figsize=(10,5))\n",
        "_ = (\n",
        "    plot_tree(\n",
        "        tree_1, \n",
        "        feature_names=feature_cols,\n",
        "        filled=True\n",
        "    )\n",
        ")"
      ],
      "metadata": {
        "colab": {
          "base_uri": "https://localhost:8080/",
          "height": 303
        },
        "id": "ZtDfe_gz5l7b",
        "outputId": "b35afac0-abfc-42a3-ec92-d123048977d0"
      },
      "execution_count": null,
      "outputs": [
        {
          "output_type": "display_data",
          "data": {
            "image/png": "[encoded data removed]",
            "text/plain": [
              "<Figure size 720x360 with 1 Axes>"
            ]
          },
          "metadata": {
            "needs_background": "light"
          }
        }
      ]
    },
    {
      "cell_type": "markdown",
      "source": [
        "Как и ожидалось - очень слабенькое дерево, которое предсказывает просто два значения.\n",
        "\n",
        "Для сплита была выбрана вторая фича"
      ],
      "metadata": {
        "id": "q5QM4NUIBAIM"
      }
    },
    {
      "cell_type": "markdown",
      "source": [
        "\n",
        "### AdaBoost\n",
        "\n",
        "Adaptive boosting нужно самостоятельно реализовать задачу классификации\n",
        "\n",
        "Датасет можно загрузить из csv но пока csv нет можно воспользоваться make_classificaction"
      ],
      "metadata": {
        "id": "4Ewi50HOu1IB"
      }
    },
    {
      "cell_type": "code",
      "source": [
        "import pandas as pd \n",
        "import numpy as np\n",
        "\n",
        "from sklearn.datasets import make_classification\n",
        "\n",
        "NUM_FEATURES = 3\n",
        "dataset, y = make_classification(n_samples=15, n_features=NUM_FEATURES, n_informative=2, n_redundant=1)\n",
        "df_cls = pd.DataFrame(dataset, columns=[f'feature_{i}' for i in range(NUM_FEATURES)])\n",
        "df_cls['y'] = y\n",
        "df_cls.head()\n",
        "\n",
        "raw_data_file = os.path.join(root_data_dir, 'boosting_toy_dataset.csv')"
      ],
      "metadata": {
        "id": "iCb23ny6BJGT"
      },
      "execution_count": null,
      "outputs": []
    },
    {
      "cell_type": "code",
      "source": [
        ""
      ],
      "metadata": {
        "id": "JdhkAl2qLPFE"
      },
      "execution_count": null,
      "outputs": []
    }
  ]
}