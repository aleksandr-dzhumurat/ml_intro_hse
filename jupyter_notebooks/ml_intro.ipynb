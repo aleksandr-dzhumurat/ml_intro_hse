{
 "cells": [
  {
   "cell_type": "code",
   "execution_count": 4,
   "id": "2b6789d2",
   "metadata": {},
   "outputs": [
    {
     "data": {
      "text/plain": [
       "3"
      ]
     },
     "execution_count": 4,
     "metadata": {},
     "output_type": "execute_result"
    }
   ],
   "source": [
    "data_dict =     {\n",
    "  'class': ['2nd', '3rd', '1st', '3rd', '1st', '3rd', '3rd', '3rd', '3rd', '3rd', '3rd', '2nd', '3rd', '3rd', '3rd', '1st', '3rd', '3rd', '3rd'],\n",
    "   'survived': ['no', 'yes', 'yes', 'no', 'no', 'no', 'no', 'no', 'no', 'no', 'no', 'no', 'no', 'yes', 'no', 'no', 'no', 'yes', 'no']\n",
    "}\n",
    "\n",
    "len(tuple(c for c in data_dict['class'] if c =='1st'))"
   ]
  },
  {
   "cell_type": "code",
   "execution_count": 11,
   "id": "32f8bbba",
   "metadata": {},
   "outputs": [
    {
     "data": {
      "text/plain": [
       "3"
      ]
     },
     "execution_count": 11,
     "metadata": {},
     "output_type": "execute_result"
    }
   ],
   "source": [
    "from collections import Counter\n",
    "\n",
    "key_count = Counter(data_dict['class'])\n",
    "\n",
    "\n",
    "key_count['1st']\n"
   ]
  },
  {
   "cell_type": "code",
   "execution_count": 16,
   "id": "6562a373",
   "metadata": {},
   "outputs": [
    {
     "data": {
      "text/plain": [
       "1"
      ]
     },
     "execution_count": 16,
     "metadata": {},
     "output_type": "execute_result"
    }
   ],
   "source": [
    "len(\n",
    "    tuple(\n",
    "        i for i in range(len(data_dict['class']))\n",
    "        if data_dict['survived'][i]=='yes' and data_dict['class'][i]=='1st')\n",
    ")\n",
    "\n",
    "\n",
    "\n",
    "\n",
    "\n",
    "\n"
   ]
  },
  {
   "cell_type": "code",
   "execution_count": null,
   "id": "c2392c40",
   "metadata": {},
   "outputs": [],
   "source": []
  }
 ],
 "metadata": {
  "kernelspec": {
   "display_name": "Python 3 (ipykernel)",
   "language": "python",
   "name": "python3"
  },
  "language_info": {
   "codemirror_mode": {
    "name": "ipython",
    "version": 3
   },
   "file_extension": ".py",
   "mimetype": "text/x-python",
   "name": "python",
   "nbconvert_exporter": "python",
   "pygments_lexer": "ipython3",
   "version": "3.8.10"
  }
 },
 "nbformat": 4,
 "nbformat_minor": 5
}
