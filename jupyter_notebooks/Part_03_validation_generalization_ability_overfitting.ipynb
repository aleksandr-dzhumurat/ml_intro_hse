{
  "nbformat": 4,
  "nbformat_minor": 0,
  "metadata": {
    "colab": {
      "name": "Part_III:validation_generalization_ability_overfitting.ipynb",
      "provenance": []
    },
    "kernelspec": {
      "name": "python3",
      "display_name": "Python 3"
    },
    "language_info": {
      "name": "python"
    }
  },
  "cells": [
    {
      "cell_type": "markdown",
      "source": [
        "# Понятие переобучения\n",
        "\n",
        "## Исходные данные\n",
        "\n",
        "Для этого занятия нам понадобится файл `non_linear.csv` который хранится в [директории курса на Google Drive](https://drive.google.com/file/d/1prHJVpHn0N5y1BqLQQ2Hpx5OP8uKIXjT/view?usp=sharing)\n",
        "\n",
        "Скопируйте файл к себе в родительскую директорию **hse_nlp_2021**"
      ],
      "metadata": {
        "id": "eU-2v7X9Riq9"
      }
    },
    {
      "cell_type": "code",
      "source": [
        "import logging\n",
        "import os\n",
        "import shutil \n",
        "\n",
        "import numpy as np\n",
        "from google.colab import drive\n",
        "\n",
        "RANDOM_SEED = 42\n",
        "np.random.seed(RANDOM_SEED)  # гарантируем воспроизводимость\n",
        "\n",
        "logging.basicConfig(format='%(asctime)s : %(levelname)s : %(message)s', level=logging.INFO)\n",
        "logger = logging.getLogger(__name__)\n",
        "logger.info('Инициализировали логгер')\n",
        "\n",
        "ROOT_DIR = '/content/drive' \n",
        "drive.mount(ROOT_DIR)\n",
        "logger.info('Подключили диск')\n",
        "\n",
        "root_data_dir = os.path.join(ROOT_DIR, 'MyDrive', 'hse_nlp_2021')\n",
        "if not os.path.exists(root_data_dir):\n",
        "  raise RuntimeError('Отсутствует директория с данными')\n",
        "else:\n",
        "  logger.info('Содержимое директории %s: %s', root_data_dir, os.listdir(root_data_dir))"
      ],
      "metadata": {
        "colab": {
          "base_uri": "https://localhost:8080/"
        },
        "id": "nTMvCFCqRi3y",
        "outputId": "14704db6-c034-4dd7-d96c-e63540da221d"
      },
      "execution_count": 2,
      "outputs": [
        {
          "output_type": "stream",
          "name": "stderr",
          "text": [
            "2022-01-31 06:52:55,992 : INFO : Инициализировали логгер\n",
            "2022-01-31 06:53:20,592 : INFO : Подключили диск\n"
          ]
        },
        {
          "output_type": "stream",
          "name": "stdout",
          "text": [
            "Mounted at /content/drive\n"
          ]
        },
        {
          "output_type": "stream",
          "name": "stderr",
          "text": [
            "2022-01-31 06:53:20,841 : INFO : Содержимое директории /content/drive/MyDrive/hse_nlp_2021: ['events.csv', 'corpora', 'nltk_data_old', 'nltk_data', '1000k_memes_ocr.tar.gz', 'logs', 'sklearn_data', 'nyt-ingredients-snapshot-2015.csv', 'insurance.csv', 'non_linear.csv', 'my_little_recsys', 'optimal_push_time']\n"
          ]
        }
      ]
    },
    {
      "cell_type": "markdown",
      "source": [
        "# I Переобучение\n",
        "\n",
        "## Как детектировать переобучение\n",
        "\n",
        "Переобучение - это явление, когда модель \"слишком сильно\" подгоняется под обучающую выборку и плохо справляется с новыми данными - проведём эксперимент и увидим на примере линейной регрессии, как переобучаются модели\n",
        "\n",
        "Начнем с исходных данных - их мы уже исследовали на прошлом семинаре"
      ],
      "metadata": {
        "id": "d5u1y-jRSYjA"
      }
    },
    {
      "cell_type": "code",
      "source": [
        "import os\n",
        "\n",
        "import numpy as np\n",
        "import pandas as pd\n",
        "\n",
        "raw_data_file = os.path.join(root_data_dir, 'non_linear.csv')\n",
        "data = pd.read_csv(raw_data_file, sep=',')\n",
        "\n",
        "data.head()"
      ],
      "metadata": {
        "colab": {
          "base_uri": "https://localhost:8080/",
          "height": 206
        },
        "id": "pDGE4-pSWyP0",
        "outputId": "0b4ceb14-4971-4543-f0c4-bdf63acbffdc"
      },
      "execution_count": 3,
      "outputs": [
        {
          "output_type": "execute_result",
          "data": {
            "text/html": [
              "\n",
              "  <div id=\"df-ac31603b-e657-450b-ade2-d426e7001466\">\n",
              "    <div class=\"colab-df-container\">\n",
              "      <div>\n",
              "<style scoped>\n",
              "    .dataframe tbody tr th:only-of-type {\n",
              "        vertical-align: middle;\n",
              "    }\n",
              "\n",
              "    .dataframe tbody tr th {\n",
              "        vertical-align: top;\n",
              "    }\n",
              "\n",
              "    .dataframe thead th {\n",
              "        text-align: right;\n",
              "    }\n",
              "</style>\n",
              "<table border=\"1\" class=\"dataframe\">\n",
              "  <thead>\n",
              "    <tr style=\"text-align: right;\">\n",
              "      <th></th>\n",
              "      <th>x_train</th>\n",
              "      <th>y_train</th>\n",
              "    </tr>\n",
              "  </thead>\n",
              "  <tbody>\n",
              "    <tr>\n",
              "      <th>0</th>\n",
              "      <td>0.138368</td>\n",
              "      <td>0.838812</td>\n",
              "    </tr>\n",
              "    <tr>\n",
              "      <th>1</th>\n",
              "      <td>0.157237</td>\n",
              "      <td>0.889313</td>\n",
              "    </tr>\n",
              "    <tr>\n",
              "      <th>2</th>\n",
              "      <td>0.188684</td>\n",
              "      <td>1.430040</td>\n",
              "    </tr>\n",
              "    <tr>\n",
              "      <th>3</th>\n",
              "      <td>0.685553</td>\n",
              "      <td>1.717309</td>\n",
              "    </tr>\n",
              "    <tr>\n",
              "      <th>4</th>\n",
              "      <td>0.874237</td>\n",
              "      <td>2.032588</td>\n",
              "    </tr>\n",
              "  </tbody>\n",
              "</table>\n",
              "</div>\n",
              "      <button class=\"colab-df-convert\" onclick=\"convertToInteractive('df-ac31603b-e657-450b-ade2-d426e7001466')\"\n",
              "              title=\"Convert this dataframe to an interactive table.\"\n",
              "              style=\"display:none;\">\n",
              "        \n",
              "  <svg xmlns=\"http://www.w3.org/2000/svg\" height=\"24px\"viewBox=\"0 0 24 24\"\n",
              "       width=\"24px\">\n",
              "    <path d=\"M0 0h24v24H0V0z\" fill=\"none\"/>\n",
              "    <path d=\"M18.56 5.44l.94 2.06.94-2.06 2.06-.94-2.06-.94-.94-2.06-.94 2.06-2.06.94zm-11 1L8.5 8.5l.94-2.06 2.06-.94-2.06-.94L8.5 2.5l-.94 2.06-2.06.94zm10 10l.94 2.06.94-2.06 2.06-.94-2.06-.94-.94-2.06-.94 2.06-2.06.94z\"/><path d=\"M17.41 7.96l-1.37-1.37c-.4-.4-.92-.59-1.43-.59-.52 0-1.04.2-1.43.59L10.3 9.45l-7.72 7.72c-.78.78-.78 2.05 0 2.83L4 21.41c.39.39.9.59 1.41.59.51 0 1.02-.2 1.41-.59l7.78-7.78 2.81-2.81c.8-.78.8-2.07 0-2.86zM5.41 20L4 18.59l7.72-7.72 1.47 1.35L5.41 20z\"/>\n",
              "  </svg>\n",
              "      </button>\n",
              "      \n",
              "  <style>\n",
              "    .colab-df-container {\n",
              "      display:flex;\n",
              "      flex-wrap:wrap;\n",
              "      gap: 12px;\n",
              "    }\n",
              "\n",
              "    .colab-df-convert {\n",
              "      background-color: #E8F0FE;\n",
              "      border: none;\n",
              "      border-radius: 50%;\n",
              "      cursor: pointer;\n",
              "      display: none;\n",
              "      fill: #1967D2;\n",
              "      height: 32px;\n",
              "      padding: 0 0 0 0;\n",
              "      width: 32px;\n",
              "    }\n",
              "\n",
              "    .colab-df-convert:hover {\n",
              "      background-color: #E2EBFA;\n",
              "      box-shadow: 0px 1px 2px rgba(60, 64, 67, 0.3), 0px 1px 3px 1px rgba(60, 64, 67, 0.15);\n",
              "      fill: #174EA6;\n",
              "    }\n",
              "\n",
              "    [theme=dark] .colab-df-convert {\n",
              "      background-color: #3B4455;\n",
              "      fill: #D2E3FC;\n",
              "    }\n",
              "\n",
              "    [theme=dark] .colab-df-convert:hover {\n",
              "      background-color: #434B5C;\n",
              "      box-shadow: 0px 1px 3px 1px rgba(0, 0, 0, 0.15);\n",
              "      filter: drop-shadow(0px 1px 2px rgba(0, 0, 0, 0.3));\n",
              "      fill: #FFFFFF;\n",
              "    }\n",
              "  </style>\n",
              "\n",
              "      <script>\n",
              "        const buttonEl =\n",
              "          document.querySelector('#df-ac31603b-e657-450b-ade2-d426e7001466 button.colab-df-convert');\n",
              "        buttonEl.style.display =\n",
              "          google.colab.kernel.accessAllowed ? 'block' : 'none';\n",
              "\n",
              "        async function convertToInteractive(key) {\n",
              "          const element = document.querySelector('#df-ac31603b-e657-450b-ade2-d426e7001466');\n",
              "          const dataTable =\n",
              "            await google.colab.kernel.invokeFunction('convertToInteractive',\n",
              "                                                     [key], {});\n",
              "          if (!dataTable) return;\n",
              "\n",
              "          const docLinkHtml = 'Like what you see? Visit the ' +\n",
              "            '<a target=\"_blank\" href=https://colab.research.google.com/notebooks/data_table.ipynb>data table notebook</a>'\n",
              "            + ' to learn more about interactive tables.';\n",
              "          element.innerHTML = '';\n",
              "          dataTable['output_type'] = 'display_data';\n",
              "          await google.colab.output.renderOutput(dataTable, element);\n",
              "          const docLink = document.createElement('div');\n",
              "          docLink.innerHTML = docLinkHtml;\n",
              "          element.appendChild(docLink);\n",
              "        }\n",
              "      </script>\n",
              "    </div>\n",
              "  </div>\n",
              "  "
            ],
            "text/plain": [
              "    x_train   y_train\n",
              "0  0.138368  0.838812\n",
              "1  0.157237  0.889313\n",
              "2  0.188684  1.430040\n",
              "3  0.685553  1.717309\n",
              "4  0.874237  2.032588"
            ]
          },
          "metadata": {},
          "execution_count": 3
        }
      ]
    },
    {
      "cell_type": "markdown",
      "source": [
        "Визуализируем с помощью scatter"
      ],
      "metadata": {
        "id": "ix6jlO5AO0Xm"
      }
    },
    {
      "cell_type": "code",
      "source": [
        "import matplotlib.pyplot as plt\n",
        "%matplotlib inline\n",
        "# основной график\n",
        "plt.scatter(data.x_train, data.y_train, 40, 'g', 'o', alpha=0.8)\n",
        "plt.show()"
      ],
      "metadata": {
        "colab": {
          "base_uri": "https://localhost:8080/",
          "height": 265
        },
        "id": "4j3Xu0ctO0k_",
        "outputId": "43911f0f-4434-4d3c-8aac-708e42b3966f"
      },
      "execution_count": 5,
      "outputs": [
        {
          "output_type": "display_data",
          "data": {
            "image/png": "[encoded data removed]",
            "text/plain": [
              "<Figure size 432x288 with 1 Axes>"
            ]
          },
          "metadata": {
            "needs_background": "light"
          }
        }
      ]
    },
    {
      "cell_type": "markdown",
      "source": [
        "Цель - научиться определять переобучение.\n",
        "\n",
        "Тренироваться будем на полиномиальной регрессии. То есть регрессия-то будет линейная, но нужно будет сгенерить для каждого x признаки $x^2,\\cdots, x^n$ и добавить в матрицу объекты-признаки $X$ несколько столбцов - степени фичей (например, в случае обучения регрессии на единственной фиче модуль приобретёт вид $y = w_0 + w_1x +w_2x^2 + \\ldots + w_nx^n$).\n",
        "\n",
        "То есть пространство функций у нас линейное, увеличивается количество только коэффициентов $w$\n",
        "\n",
        "$$\n",
        "\\forall x_i: h(x) =  \\sum_{j=1}^{n}w_jx_i^j\n",
        "$$\n",
        "\n",
        "Матрица, состоящая из степеней $x$ называется [матрицей Вандермондта](https://en.wikipedia.org/wiki/Vandermonde_matrix), реализация этой матрицы есть в `numpy`. "
      ],
      "metadata": {
        "id": "Y40lGnrYW4um"
      }
    },
    {
      "cell_type": "code",
      "source": [
        "def generate_powers(x, N):\n",
        "  return np.vander(x, N=N, increasing=True)[:,1:]\n",
        "\n",
        "generate_powers(data.head(3).x_train.values, N=5)"
      ],
      "metadata": {
        "colab": {
          "base_uri": "https://localhost:8080/"
        },
        "id": "-DbMXxpuWzwU",
        "outputId": "6fb6ffdc-b01d-445a-9d8a-ac889cab510b"
      },
      "execution_count": 7,
      "outputs": [
        {
          "output_type": "execute_result",
          "data": {
            "text/plain": [
              "array([[0.13836845, 0.01914583, 0.00264918, 0.00036656],\n",
              "       [0.15723687, 0.02472343, 0.00388744, 0.00061125],\n",
              "       [0.18868424, 0.03560174, 0.00671749, 0.00126748]])"
            ]
          },
          "metadata": {},
          "execution_count": 7
        }
      ]
    },
    {
      "cell_type": "markdown",
      "source": [
        "Обучаем модель на валидации, проверяем на контроле для степени полинома `degree=8` (думаю, степень полинома можно назвать гиперпараметром). Для разбиения мы воспользуемся функцией [train_test_split](https://scikit-learn.org/stable/modules/generated/sklearn.model_selection.train_test_split.html):\n",
        "\n",
        "* $X$ и $y$ - массивы, которые хотим расщепить на валидацию и контроль\n",
        "* *test_size* принимает значения от нуля до единицы и означает долю объектов, которые нужно отложить на валидацию (обычно выбирают значения между $0.15$ и $0.35$)\n",
        "* *random_state* - любое целое число, если задано то разбиение не будет меняться в разных запусках программы (нужно для воспроизводимости). Мы используем константу `RANDOM_SEED` \n",
        "\n",
        "Обучать будем линейную регрессию из класса [sklearn.linear_model.Ridge](https://scikit-learn.org/stable/modules/generated/sklearn.linear_model.Ridge.html). Вообще-то Ridge оптимизирует немного другой функционал, не совсем как в линейной регрерсии:\n",
        "\n",
        "$$\n",
        "\\|Y - Xw\\|^2_2 + \\alpha \\cdot \\|w\\|^2_2\n",
        "$$\n",
        "\n",
        "Поэтому будем обучать при $\\alpha = 0$ чтобы получилась обычная линейная регрессия"
      ],
      "metadata": {
        "id": "lizN8pNW51Ln"
      }
    },
    {
      "cell_type": "markdown",
      "source": [
        "Норма весов рассчитывается\n",
        "\n",
        "$$\n",
        "\\|w\\|^2_2 = w_0^2+w_1^2 + \\ldots+w_n^2\n",
        "$$\n",
        "\n",
        "Для вычисления такой нормы можно использовать [функцию norm из numpy](https://docs.scipy.org/doc/numpy-1.15.0/reference/generated/numpy.linalg.norm.html)"
      ],
      "metadata": {
        "id": "OUUmv55FScq9"
      }
    },
    {
      "cell_type": "code",
      "source": [
        "from sklearn.metrics import mean_squared_error\n",
        "from sklearn.linear_model import Ridge, Lasso  # импортируем новые для на модели\n",
        "from sklearn.model_selection import train_test_split\n",
        "\n",
        "degree = 8\n",
        "\n",
        "# извлекаем признаки\n",
        "X = generate_powers(data.x_train.values, N=degree)\n",
        "y = data.y_train.values\n",
        "\n",
        "# разделяем на обучающую и валидационную выборку\n",
        "X_train, X_valid, y_train, y_valid = train_test_split(X, y, test_size=0.2, random_state=RANDOM_SEED)\n",
        "\n",
        "# обучаем модель\n",
        "model = Ridge(alpha=0).fit(X_train, y_train)\n",
        "\n",
        "# получаем предсказания\n",
        "y_pred = model.predict(X_valid)\n",
        "y_pred_train = model.predict(X_train)\n",
        "\n",
        "print(\"Качество на обучении: %.3f\" % mean_squared_error(y_train, y_pred_train))\n",
        "print(\"Качество на валидации: %.3f\" % mean_squared_error(y_valid, y_pred))"
      ],
      "metadata": {
        "colab": {
          "base_uri": "https://localhost:8080/"
        },
        "id": "irZ_ySg_Zbds",
        "outputId": "fc2b599d-028b-4427-8224-36b20cfa3bd4"
      },
      "execution_count": 8,
      "outputs": [
        {
          "output_type": "stream",
          "name": "stdout",
          "text": [
            "Качество на обучении: 0.072\n",
            "Качество на валидации: 0.040\n"
          ]
        }
      ]
    },
    {
      "cell_type": "markdown",
      "source": [
        "Теперь обучим полиномиальную регрессию для степени `degree = 12` c параметром регуляризации `alpha=0`"
      ],
      "metadata": {
        "id": "_d8oDTfKEoVv"
      }
    },
    {
      "cell_type": "code",
      "source": [
        "degree = 12\n",
        "X = generate_powers(data.x_train.values, N=degree)\n",
        "y = data.y_train.values\n",
        "\n",
        "X_train, X_valid, y_train, y_valid = train_test_split(X, y, test_size=0.2, random_state=RANDOM_SEED)\n",
        "model = Ridge(alpha=0).fit(X_train, y_train)\n",
        "\n",
        "y_pred = model.predict(X_valid)\n",
        "y_pred_train = model.predict(X_train)\n",
        "\n",
        "print(\"Качество на обучении: %.3f\" % mean_squared_error(y_train, y_pred_train))\n",
        "print(\"Качество на валидации: %.3f\" % mean_squared_error(y_valid, y_pred))"
      ],
      "metadata": {
        "colab": {
          "base_uri": "https://localhost:8080/"
        },
        "id": "yUDVsg1pEmV6",
        "outputId": "94dfa8de-89d2-44c9-b35f-e83e7a9d18ea"
      },
      "execution_count": 9,
      "outputs": [
        {
          "output_type": "stream",
          "name": "stdout",
          "text": [
            "Качество на обучении: 0.064\n",
            "Качество на валидации: 0.050\n"
          ]
        },
        {
          "output_type": "stream",
          "name": "stderr",
          "text": [
            "/usr/local/lib/python3.7/dist-packages/sklearn/linear_model/_ridge.py:157: LinAlgWarning: Ill-conditioned matrix (rcond=1.60961e-24): result may not be accurate.\n",
            "  return linalg.solve(A, Xy, sym_pos=True, overwrite_a=True).T\n"
          ]
        }
      ]
    },
    {
      "cell_type": "markdown",
      "source": [
        "Как изменилась ошибка на обучении? Было $0.072$, стало $0.064$, т.е. *ошибка на обучении падает*.\n",
        "\n",
        "Как изменилась ошибка на валидации? Было $0.04$, стало $0.05$, т.е. *ошибка на валидации растёт*.\n",
        "\n",
        "Это и есть признак переобучения (выспоминаем графики) - ошибка на валидации растёт, а на обучении падает, степень полинома $n=12$ хуже, чем степень полинома $n=8$, модель переобучилась."
      ],
      "metadata": {
        "id": "_SHlYA78EmpI"
      }
    },
    {
      "cell_type": "markdown",
      "source": [
        "#### Самостоятельная работа\n",
        "\n",
        "У класса *Ridge* в конструкторе есть параметр регуляризации - обучите регрессию при $\\alpha=0.4$ для степени полинома 12\n",
        "\n",
        "Как изменилась ошибка на обучении? Как изменилась ошибка на валидации? Удалось ли победить переобучение?"
      ],
      "metadata": {
        "id": "gL8P97gULBR9"
      }
    },
    {
      "cell_type": "code",
      "source": [
        "degree = 12\n",
        "alpha = 0.4\n",
        "\n",
        "# -- ВАШ КОД ТУТ ---\n",
        "\n",
        "\n",
        "\n",
        "# ------------------"
      ],
      "metadata": {
        "id": "-MUMyal8D1Mk"
      },
      "execution_count": 10,
      "outputs": []
    },
    {
      "cell_type": "markdown",
      "source": [
        "Переобучение - это плохо. Мы начинаем слишком сильно подгоняться под обучающую выборку и плохо \"готовы\" к новым данным. Детектировать можно с помощью валидационной выборки. Победить переобучение можно с помощью регуляризации в библиотечном классе Ridge"
      ],
      "metadata": {
        "id": "EfJ6ukUIM1cM"
      }
    },
    {
      "cell_type": "markdown",
      "source": [
        "### Самостоятельная работа: Lasso vs Ridge\n",
        "\n",
        "В стандартной библиотеке есть ещё интересный класс [sklearn.linear_model.Lasso](https://scikit-learn.org/stable/modules/generated/sklearn.linear_model.Lasso.html#sklearn.linear_model.Lasso)\n",
        "\n",
        "$$\n",
        "\\|Y - Xw\\|^2_2 + \\alpha \\cdot \\|w\\|_1\n",
        "$$\n",
        "\n",
        "Норма весов рассчитывается по формуле\n",
        "\n",
        "$$\n",
        "\\|w\\|_1 = |w_0|+|w_1| + \\ldots+|w_n|\n",
        "$$\n",
        "\n",
        "Для вычисления этой метрики используем [функцию norm из numpy](https://docs.scipy.org/doc/numpy-1.15.0/reference/generated/numpy.linalg.norm.html)\n",
        "\n",
        "На данных из файла `data/non_linear.csv`\n",
        "* сгенерируйте данные для степени `degree = 8`\n",
        "* обучите модель `sklearn.linear_model.Lasso` и модель `sklearn.linear_model.Ridge` на полученных данных\n",
        "* используйте коэффициент регуляризации $\\alpha=0.8$ для обеих моделей\n",
        "* постройте два столбчатых графика, на которых отобразите величину коэффициентов в для Ridge регрессии и Lasso регрессии виде столбиков"
      ],
      "metadata": {
        "id": "ty4wXHpfNWZ5"
      }
    },
    {
      "cell_type": "code",
      "source": [
        "# -- ВАШ КОД ТУТ ---\n",
        "\n",
        "\n",
        "\n",
        "# -------------------"
      ],
      "metadata": {
        "id": "iSPj9bRwFc9i"
      },
      "execution_count": 8,
      "outputs": []
    },
    {
      "cell_type": "markdown",
      "source": [
        "Мы использовали реализацию Ridge регрессию из библиотеки sklearn. Для того, чтобы  прокачать навыки программирования и освежить в памяти, как перемножать матрицы в numpy, напишите код для вычисления коэффициентов полиномиальной регрессии (для степени *degree=8*) с регуляризацией по формуле\n",
        "$$\n",
        "\\overline{w} = \\left(X^TX + \\lambda E\\right)^{-1}X^T\\overline{y}\n",
        "$$\n",
        "\n",
        "Сравните расхождение `model.intercept_ + model.coef_` с вашими коэффициентами\n",
        "\n",
        "Не забудьте добавить столбец из единиц к маатрице фичей! "
      ],
      "metadata": {
        "id": "mUrx5OA9expp"
      }
    },
    {
      "cell_type": "code",
      "source": [
        "# -- ВАШ КОД ТУТ ---\n",
        "\n",
        "\n",
        "\n",
        "# -------------------"
      ],
      "metadata": {
        "id": "WajhP9XZex3b"
      },
      "execution_count": 34,
      "outputs": []
    },
    {
      "cell_type": "markdown",
      "source": [
        "# Переобучение на валидационной выборке\n",
        "\n",
        "Посмотрим в динамике"
      ],
      "metadata": {
        "id": "Hk02JgZBN5to"
      }
    },
    {
      "cell_type": "code",
      "source": [
        "from sklearn.linear_model import LinearRegression\n",
        "from numpy.linalg import norm\n",
        "from sklearn.metrics import mean_squared_error\n",
        "from sklearn.model_selection import train_test_split\n",
        "\n",
        "def fit_regression(x_train, x_valid, y_train, y_valid):\n",
        "    model = LinearRegression().fit(x_train, y_train)\n",
        "    # ошибки на обучении и валидации\n",
        "    y_pred = model.predict(x_valid)\n",
        "    y_pred_train = model.predict(x_train)\n",
        "    # для графиков\n",
        "    error_valid = mean_squared_error(y_valid, y_pred)\n",
        "    error_train = mean_squared_error(y_train, y_pred_train)\n",
        "    w_norm = norm(model.coef_)\n",
        "\n",
        "    return error_valid, error_train, w_norm, model\n",
        "\n",
        "def train_polynomial(degrees, data):\n",
        "    \"\"\"Генерим данные, тренируем модель  \n",
        "    дополнительно рисуем график\n",
        "    \"\"\"\n",
        "    x_linspace = np.linspace(data['x_train'].min(), data['x_train'].max(), num=100)\n",
        "    y = data.y_train.values\n",
        "\n",
        "    degrees, valid_errors, train_errors, w_norm = [], [], [], []\n",
        "    for degree in (3, 5, 7, 10):\n",
        "        # генерим фичи\n",
        "        X = generate_powers(data.x_train.values, N=degree)\n",
        "        # обучение и контроль зависят от степени полинома, т.к. меняется размерность\n",
        "        X_train, X_valid, y_train, y_valid = (\n",
        "            train_test_split(\n",
        "                X, y,\n",
        "                test_size=0.2, random_state=10\n",
        "            )\n",
        "        )\n",
        "        order_test = np.argsort(X_valid[:,0])\n",
        "        # ошибка на тренировочном сете\n",
        "        error_valid, error_train, coef_norm, model = fit_regression(X_train, X_valid, y_train, y_valid)\n",
        "        logger.info(\n",
        "            \"N=%d\\t valid err %.3f\\t train err %.3f\\t||w|| = %.2f\",\n",
        "            degree, error_valid, error_train, norm(model.coef_)\n",
        "        )\n",
        "        plt.scatter(X_valid[:,0][order_test], y_valid[order_test], 40, 'r', 'o', alpha=0.8)\n",
        "        # визуализируем решение\n",
        "        y_linspace = model.predict(generate_powers(x_linspace, N=degree))\n",
        "        plt.plot(x_linspace, y_linspace)\n",
        "        plt.show()\n",
        "        valid_errors.append(error_valid)\n",
        "        train_errors.append(error_train)\n",
        "        w_norm.append(coef_norm)\n",
        "    return valid_errors, train_errors, w_norm\n",
        "\n",
        "DEGREES = (3, 5, 7, 10)\n",
        "valid_errors, train_errors, w_norm = train_polynomial(\n",
        "    degrees=DEGREES, data=data\n",
        ")"
      ],
      "metadata": {
        "colab": {
          "base_uri": "https://localhost:8080/",
          "height": 1000
        },
        "id": "8hvWYMBtUdWk",
        "outputId": "d883edf1-4f8b-4e99-9dfa-a3e3ee4fc061"
      },
      "execution_count": 27,
      "outputs": [
        {
          "output_type": "stream",
          "name": "stderr",
          "text": [
            "2022-01-31 07:46:01,498 : INFO : N=3\t valid err 0.245\t train err 0.314\t||w|| = 0.47\n"
          ]
        },
        {
          "output_type": "display_data",
          "data": {
            "image/png": "[encoded data removed]",
            "text/plain": [
              "<Figure size 432x288 with 1 Axes>"
            ]
          },
          "metadata": {
            "needs_background": "light"
          }
        },
        {
          "output_type": "stream",
          "name": "stderr",
          "text": [
            "2022-01-31 07:46:01,768 : INFO : N=5\t valid err 0.063\t train err 0.069\t||w|| = 3.23\n"
          ]
        },
        {
          "output_type": "display_data",
          "data": {
            "image/png": "[encoded data removed]",
            "text/plain": [
              "<Figure size 432x288 with 1 Axes>"
            ]
          },
          "metadata": {
            "needs_background": "light"
          }
        },
        {
          "output_type": "stream",
          "name": "stderr",
          "text": [
            "2022-01-31 07:46:02,157 : INFO : N=7\t valid err 0.067\t train err 0.066\t||w|| = 3.54\n"
          ]
        },
        {
          "output_type": "display_data",
          "data": {
            "image/png": "[encoded data removed]",
            "text/plain": [
              "<Figure size 432x288 with 1 Axes>"
            ]
          },
          "metadata": {
            "needs_background": "light"
          }
        },
        {
          "output_type": "stream",
          "name": "stderr",
          "text": [
            "2022-01-31 07:46:02,618 : INFO : N=10\t valid err 0.123\t train err 0.052\t||w|| = 93.44\n"
          ]
        },
        {
          "output_type": "display_data",
          "data": {
            "image/png": "[encoded data removed]",
            "text/plain": [
              "<Figure size 432x288 with 1 Axes>"
            ]
          },
          "metadata": {
            "needs_background": "light"
          }
        }
      ]
    },
    {
      "cell_type": "markdown",
      "source": [
        "В этом абстрактном эксперименте: видны следующие закономерности\n",
        "\n",
        "* степень полинома растёт $\\rightarrow$ ошибка на тренировочных данных падает\n",
        "* степень полинома растёт $\\rightarrow$ ошибка на валидации растёт\n",
        "* степень полинома растёт $\\rightarrow$ сумма квадратов коэффициентов регрессии растёт\n",
        "\n",
        "Т.е. можно детектировать переобучение, если проверять такую прокси-метрику как \"норма весов регрессии\"\n",
        "* по оси $oX$ - степень полинома\n",
        "* по оси $oY$ - ошибка на валидации и ошибка на обучении"
      ],
      "metadata": {
        "id": "tpts_ZKXOXlz"
      }
    },
    {
      "cell_type": "code",
      "source": [
        "from matplotlib import pyplot\n",
        "%matplotlib inline\n",
        "\n",
        "fig, ax = plt.subplots()\n",
        "ax.plot(DEGREES, valid_errors, 'k--', label='Validation error')\n",
        "ax.plot(DEGREES, train_errors, 'k:', label='Train error')\n",
        "\n",
        "legend = ax.legend(loc='upper center', shadow=True, fontsize='x-large')\n",
        "\n",
        "\n",
        "plt.show()"
      ],
      "metadata": {
        "id": "teB-1qn9VFOj",
        "colab": {
          "base_uri": "https://localhost:8080/",
          "height": 265
        },
        "outputId": "8a03e858-0323-414d-ea96-574ae43b8b6a"
      },
      "execution_count": 28,
      "outputs": [
        {
          "output_type": "display_data",
          "data": {
            "image/png": "[encoded data removed]",
            "text/plain": [
              "<Figure size 432x288 with 1 Axes>"
            ]
          },
          "metadata": {
            "needs_background": "light"
          }
        }
      ]
    },
    {
      "cell_type": "code",
      "source": [
        "plt.scatter(DEGREES, w_norm)\n",
        "plt.show()"
      ],
      "metadata": {
        "colab": {
          "base_uri": "https://localhost:8080/",
          "height": 265
        },
        "id": "t_Vaez22Gp6Z",
        "outputId": "fca11ec0-e1a3-4132-bee0-c389373769d3"
      },
      "execution_count": 30,
      "outputs": [
        {
          "output_type": "display_data",
          "data": {
            "image/png": "[encoded data removed]",
            "text/plain": [
              "<Figure size 432x288 with 1 Axes>"
            ]
          },
          "metadata": {
            "needs_background": "light"
          }
        }
      ]
    },
    {
      "cell_type": "markdown",
      "source": [
        "Самостоятельное задание: подберите наилучший alpha с помощью [cross_val_score](https://scikit-learn.org/stable/modules/cross_validation.html#computing-cross-validated-metrics)"
      ],
      "metadata": {
        "id": "lKsC3DTIiNSC"
      }
    },
    {
      "cell_type": "code",
      "source": [
        "# -- ВАШ КОД ТУТ ---\n",
        "\n",
        "\n",
        "\n",
        "# ------------------"
      ],
      "metadata": {
        "id": "TvREmBqZiYcU"
      },
      "execution_count": 1,
      "outputs": []
    },
    {
      "cell_type": "code",
      "source": [
        ""
      ],
      "metadata": {
        "id": "SWEm9HzXibsT"
      },
      "execution_count": null,
      "outputs": []
    }
  ]
}